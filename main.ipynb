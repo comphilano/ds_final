{
 "cells": [
  {
   "cell_type": "markdown",
   "metadata": {},
   "source": [
    "# ĐỒ ÁN MÔN HỌC CUỐI KÌ\n",
    " \n",
    "__TÊN MÔN HỌC:__ NHẬP MÔN KHOA HỌC DỮ LIỆU\n",
    "\n",
    "__ĐỀ TÀI:__ ÁP DỤNG MÔ HÌNH HỌC MÁY ĐỂ DỰ ĐOÁN DOANH SỐ TRÊN SÀN THƯƠNG MẠI ĐIỆN TỬ SHOPEE\n",
    "\n",
    "__GIẢNG VIÊN:__ TRẦN TRUNG KIÊN\n",
    " \n",
    "__THỨ TỰ NHÓM:__ 15\n",
    " \n",
    "__THÀNH VIÊN:__\n",
    "\n",
    "- 18120184 - Nguyễn Nguyên Khang\n",
    "\n",
    "- 18120189 - Trần Đăng Khoa\n",
    "\n",
    "__PHÂN CÔNG:__\n",
    "\n",
    "Công việc | Thực hiện | Mức độ hoàn thành\n",
    "------------ | ------------- | ------------\n",
    "Thu thập dữ liệu | Khang | 100%\n",
    "Khám phá dữ liệu | Khang, Khoa | 100%\n",
    "Tiền xử lý dữ liệu | Khang, Khoa | 100%\n",
    "Mô hình hóa dữ liệu | Khang, Khoa | 100%"
   ]
  },
  {
   "cell_type": "markdown",
   "metadata": {},
   "source": [
    "## Lời Cảm Ơn\n",
    "\n",
    "Nhóm xin gửi lời cảm ơn chân thành đến: Thầy Trần Trung Kiên đã dạy và giúp đỡ chúng em hoàn thành đồ án này. Bạn Lê Hoàng Phương Nhi, bạn Lê Thị Như Quỳnh đã dành thời gian góp ý rất chi tiết cho đồ án."
   ]
  },
  {
   "cell_type": "markdown",
   "metadata": {},
   "source": [
    "# Mục lục\n",
    "- [Giới thiệu đồ án](#I.-Giới-thiệu-đồ-án)\n",
    "   - [Dữ liệu](#1.-Dữ-liệu)\n",
    "   - [Câu hỏi](#2.-Câu-hỏi)\n",
    "- [Thu thập dữ liệu](#II.-Thu-thập-dữ-liệu)\n",
    "  - [Lấy dữ liệu từ Shopee bằng API](#1.-Lấy-dữ-liệu-từ-Shopee-bằng-API)\n",
    "  - [Gộp dữ liệu](#2.-Gộp-dữ-liệu)\n",
    "- [Khám phá dữ liệu, tiền xử lý đơn giản và tách tập](#III.-Khám-phá-dữ-liệu,-tiền-xử-lý-đơn-giản-và-tách-tập)\n",
    "  - [Kiểm tra output hợp lệ](#1.-Kiểm-tra-output-hợp-lệ)\n",
    "  - [Ý nghĩa của mỗi dòng](#2.-Ý-nghĩa-của-mỗi-dòng)\n",
    "  - [Kiểm tra các giá trị trùng](#3.-Kiểm-tra-các-giá-trị-trùng)   \n",
    "  - [Kiểm tra các giá trị không hợp lệ](#4.-Kiểm-tra-các-giá-trị-không-hợp-lệ)\n",
    "  - [Xử lý dữ liệu bị lệch](#5.-Xử-lý-dữ-liệu-bị-lệch)\n",
    "  - [Tách các tập](#6.-Tách-các-tập) \n",
    "- [Khám phá dữ liệu (tập huấn luyện)](#IV.-Khám-phá-dữ-liệu-(tập-huấn-luyện))\n",
    "  - [Kiểm tra kiểu dữ liệu của input có phù hợp](#1.-Kiểm-tra-kiểu-dữ-liệu-của-input-có-phù-hợp)\n",
    "  - [Phân bố giá trị của cột có kiểu dữ liệu dạng số](#2.-Phân-bố-giá-trị-của-cột-có-kiểu-dữ-liệu-dạng-số)\n",
    "  - [Phân bố giá trị của cột có kiểu dữ liệu không phải dạng số](#3.-Phân-bố-giá-trị-của-cột-có-kiểu-dữ-liệu-không-phải-dạng-số)\n",
    "- [Tiền xử lý (tập huấn luyện)](#V.-Tiền-xử-lý-(tập-huấn-luyện))\n",
    "  - [Bỏ cột](#1.-Bỏ-cột)\n",
    "  - [Sửa cột](#2.-Sửa-cột)\n",
    "  - [Xử lý giá trị thiếu](#3.-Xử-lý-giá-trị-thiếu)\n",
    "  - [Chuẩn hóa](#4.-Chuẩn-hóa)\n",
    "  - [Tạo pipeline](#5.-Tạo-pipeline)\n",
    "- [Mô hình hóa dữ liệu](#VI.-Mô-hình-hóa-dữ-liệu)\n",
    "  - [Tìm mô hình tốt nhất](#1.-Tìm-mô-hình-tốt-nhất)\n",
    "  - [Đánh giá mô hình tìm được](#2.-Đánh-giá-mô-hình-tìm-được)\n",
    "- [Nhìn lại quá trình làm đồ án](#VII.-Nhìn-lại-quá-trình-làm-đồ-án)\n",
    "  - [Khó khăn](#1.-Khó-khăn)\n",
    "  - [Những thứ học được](#2.-Những-thứ-học-được)\n",
    "  - [Những điều cần bổ sung nếu có thêm thời gian](#3.-Những-điều-cần-bổ-sung-nếu-có-thêm-thời-gian)\n",
    "- [Tài liệu tham khảo](#VIII.-Tài-liệu-tham-khảo)"
   ]
  },
  {
   "cell_type": "markdown",
   "metadata": {},
   "source": [
    "## I. Giới thiệu đồ án\n",
    "\n",
    "Mục đích chính của đồ án là xây dựng mô hình học máy để dự đoán doanh số bán hàng trên Shopee\n",
    "### 1. Dữ liệu\n",
    "\n",
    "Các món hàng _Thời trang nam_ trên Shopee\n",
    "\n",
    "Input là các thuộc tính của món hàng mà được biểu hiện ra trên giao diện của shopee.vn cho người dùng thấy như tên sản phẩm, giá thành,... và các thuộc tính ẩn bên dưới như thời gian sản phẩm được đăng, giá cao nhất,...\n",
    "\n",
    "Output là số lượng hàng đã bán được trong thời gian món hàng được đăng lên Shopee cho đến lúc được lấy dữ liệu về máy\n",
    "\n",
    "Dữ liệu đúng vì được request từ API của Shopee, có nghĩa là Shopee cũng đang sử dụng dữ liệu này để hiển thị cho người tiêu dùng xem\n",
    "\n",
    "### 2. Câu hỏi\n",
    "\n",
    "*Output - doanh số -* được tính từ *input - các thông tin của sản phẩm -* theo công thức nào?\n",
    "\n",
    "Cảm hứng từ thực tế các trang thương mại điện tử ngày càng phát triển và nhu cầu trao đổi, mua bán, kinh doanh trên mạng cũng ngày càng tăng lên\n",
    "\n",
    "Vì thế, trả lời cho câu hỏi này giúp ta có những chiến lược phù hợp để nâng cao doanh số sản phẩm\n",
    "\n"
   ]
  },
  {
   "cell_type": "markdown",
   "metadata": {},
   "source": [
    "## Import "
   ]
  },
  {
   "cell_type": "markdown",
   "metadata": {},
   "source": [
    "[`reviewModel`](#Thử-nghiệm,-class-đánh-giá-các-model-(nếu-có-nhiều-thời-gian-hơn-em-sẽ-cải-thiện-class-này))"
   ]
  },
  {
   "cell_type": "code",
   "execution_count": 1,
   "metadata": {},
   "outputs": [
    {
     "name": "stdout",
     "output_type": "stream",
     "text": [
      "[2979, 2978, 2983, 2979, 2974]\n",
      "[2972, 2980, 2982, 2976, 2983]\n",
      "[-14.449993298255698, -14.942209627623301, -14.578385376424482, -16.08033284185448, -16.473983551059796]\n",
      "[-15.974107263139, -15.600326298600947, -16.501096189202165, -15.741580619590685, -16.052557992883816]\n"
     ]
    }
   ],
   "source": [
    "%run ReviewModel.ipynb"
   ]
  },
  {
   "cell_type": "code",
   "execution_count": 61,
   "metadata": {},
   "outputs": [],
   "source": [
    "import time\n",
    "import re\n",
    "import pandas as pd\n",
    "import numpy as np\n",
    "%matplotlib inline\n",
    "import matplotlib.pyplot as plt\n",
    "from  matplotlib.ticker import PercentFormatter\n",
    "import seaborn as sns\n",
    "\n",
    "from sklearn.model_selection import train_test_split\n",
    "from sklearn.model_selection import GridSearchCV\n",
    "from sklearn.compose import ColumnTransformer\n",
    "from sklearn.compose import make_column_transformer\n",
    "from sklearn.preprocessing import OneHotEncoder\n",
    "from sklearn.preprocessing import StandardScaler\n",
    "from sklearn.base import BaseEstimator, TransformerMixin\n",
    "from sklearn.impute import SimpleImputer\n",
    "from sklearn.pipeline import Pipeline, make_pipeline\n",
    "\n",
    "from sklearn import set_config\n",
    "set_config(display='diagram') # Để trực quan hóa pipeline\n",
    "\n",
    "from sklearn.neural_network import MLPRegressor\n",
    "from sklearn.linear_model import LinearRegression, SGDRegressor\n",
    "from sklearn.utils import resample\n",
    "\n",
    "#Set Option\n",
    "pd.set_option('max_colwidth', 10000)\n",
    "pd.set_option('display.max_rows', 500)\n",
    "pd.set_option('display.max_columns', 500)\n",
    "pd.set_option('display.width', 1000)\n",
    "sns.set_theme()"
   ]
  },
  {
   "cell_type": "markdown",
   "metadata": {},
   "source": [
    "## II. Thu thập dữ liệu"
   ]
  },
  {
   "cell_type": "markdown",
   "metadata": {},
   "source": [
    "### 1. Lấy dữ liệu từ Shopee bằng API \n",
    "Toàn bộ phần thu thập dữ liệu được nhóm đặt trong thư mục _Data Crawler_ và quá trình làm việc trong branch [_develope-Al27_](https://github.com/cstotodile/ds_final/tree/develope-Al27)\n",
    "\n",
    "Trong quá trình thu thập dữ liệu, nhóm đã tinh giản dữ liệu bằng cách giảm bớt chiều dữ liệu dựa trên kinh nghiệm của người mua hàng: Giảm bớt những thuộc tính mà nhóm nghĩ là không ảnh hưởng đến quyết định mua hàng của khách hàng."
   ]
  },
  {
   "cell_type": "markdown",
   "metadata": {},
   "source": [
    "### 2. Gộp dữ liệu (chỉ chạy khi có những file dữ liệu rời rạc)"
   ]
  },
  {
   "cell_type": "markdown",
   "metadata": {},
   "source": [
    "Do dữ liệu thu thập được nằm ở những file riêng lẻ, ta tiến hành gộp lại thành một tập dữ liệu duy nhất để khám phá\n",
    "\n",
    "Phần tích hợp dữ liệu do ta lấy dữ liệu từ cùng một trang, nên có sự nhất quán, đồng nhất về ngữ nghĩa, không có gì cần xử lý."
   ]
  },
  {
   "cell_type": "code",
   "execution_count": 3,
   "metadata": {},
   "outputs": [],
   "source": [
    "# dataset = ['AoNganTayKhongCo', 'AoSoMi', 'BaloTuiVi', 'GiayDep', 'PhuKien', 'Quan', 'AoKhoacAoVest', 'AoNi', 'AoNganTayCoCo', 'TrangSucNam']\n",
    "# frames = [pd.read_csv(f'Data/ShopeeItem-ThoiTrangNam-{x}.tsv', sep='\\t') for x in dataset]\n",
    "# items_df = pd.concat(frames, ignore_index=True, sort=False)"
   ]
  },
  {
   "cell_type": "markdown",
   "metadata": {},
   "source": [
    "Lưu file để nộp bài"
   ]
  },
  {
   "cell_type": "code",
   "execution_count": 4,
   "metadata": {},
   "outputs": [],
   "source": [
    "# items_df.to_csv('Data/ShopeeItem-ThoiTrangNam-Full.tsv', sep='\\t', index=False)"
   ]
  },
  {
   "cell_type": "markdown",
   "metadata": {},
   "source": [
    "## III. Khám phá dữ liệu, tiền xử lý đơn giản và tách tập"
   ]
  },
  {
   "cell_type": "markdown",
   "metadata": {},
   "source": [
    "Đầu tiên ta sẽ đọc file dữ liệu vào DataFrame sau đó sẽ khám phá dữ liệu"
   ]
  },
  {
   "cell_type": "code",
   "execution_count": 5,
   "metadata": {},
   "outputs": [],
   "source": [
    "items_df = pd.read_csv('Data/ShopeeItem-ThoiTrangNam-Full.tsv', sep='\\t')"
   ]
  },
  {
   "cell_type": "code",
   "execution_count": 6,
   "metadata": {},
   "outputs": [
    {
     "data": {
      "text/plain": [
       "(10851, 34)"
      ]
     },
     "execution_count": 6,
     "metadata": {},
     "output_type": "execute_result"
    }
   ],
   "source": [
    "items_df.shape"
   ]
  },
  {
   "cell_type": "code",
   "execution_count": 7,
   "metadata": {
    "scrolled": true
   },
   "outputs": [
    {
     "data": {
      "text/html": [
       "<div>\n",
       "<style scoped>\n",
       "    .dataframe tbody tr th:only-of-type {\n",
       "        vertical-align: middle;\n",
       "    }\n",
       "\n",
       "    .dataframe tbody tr th {\n",
       "        vertical-align: top;\n",
       "    }\n",
       "\n",
       "    .dataframe thead th {\n",
       "        text-align: right;\n",
       "    }\n",
       "</style>\n",
       "<table border=\"1\" class=\"dataframe\">\n",
       "  <thead>\n",
       "    <tr style=\"text-align: right;\">\n",
       "      <th></th>\n",
       "      <th>category_id</th>\n",
       "      <th>name</th>\n",
       "      <th>shop_location</th>\n",
       "      <th>item_public_time</th>\n",
       "      <th>item_be_got_time</th>\n",
       "      <th>sell_time</th>\n",
       "      <th>shopee_verified</th>\n",
       "      <th>discount</th>\n",
       "      <th>is_adult</th>\n",
       "      <th>options</th>\n",
       "      <th>show_official_shop_label_in_title</th>\n",
       "      <th>rating_star</th>\n",
       "      <th>five_star</th>\n",
       "      <th>four_star</th>\n",
       "      <th>three_star</th>\n",
       "      <th>two_star</th>\n",
       "      <th>one_star</th>\n",
       "      <th>flash_sale</th>\n",
       "      <th>upcoming_flash_sale</th>\n",
       "      <th>price_min</th>\n",
       "      <th>price_min_before_discount</th>\n",
       "      <th>price_max</th>\n",
       "      <th>price_max_before_discount</th>\n",
       "      <th>price</th>\n",
       "      <th>price_before_discount</th>\n",
       "      <th>coin_earn_label</th>\n",
       "      <th>liked_count</th>\n",
       "      <th>view_count</th>\n",
       "      <th>cmt_count</th>\n",
       "      <th>is_preferred_plus_seller</th>\n",
       "      <th>show_free_shipping</th>\n",
       "      <th>images</th>\n",
       "      <th>video_info_list</th>\n",
       "      <th>historical_sold</th>\n",
       "    </tr>\n",
       "  </thead>\n",
       "  <tbody>\n",
       "    <tr>\n",
       "      <th>0</th>\n",
       "      <td>8947</td>\n",
       "      <td>Áo thun phông Unisex nam nữ 2 màu Trắng Đen tay ngắn cổ tròn dáng ôm phối cực cá tính - V107</td>\n",
       "      <td>TP. Hồ Chí Minh</td>\n",
       "      <td>1.607317e+09</td>\n",
       "      <td>1.609949e+09</td>\n",
       "      <td>2632455.0</td>\n",
       "      <td>True</td>\n",
       "      <td>39%</td>\n",
       "      <td>False</td>\n",
       "      <td>8.0</td>\n",
       "      <td>False</td>\n",
       "      <td>5.000000</td>\n",
       "      <td>4.0</td>\n",
       "      <td>0.0</td>\n",
       "      <td>0.0</td>\n",
       "      <td>0.0</td>\n",
       "      <td>0.0</td>\n",
       "      <td>None</td>\n",
       "      <td>None</td>\n",
       "      <td>1.490000e+10</td>\n",
       "      <td>2.450000e+10</td>\n",
       "      <td>1.490000e+10</td>\n",
       "      <td>2.450000e+10</td>\n",
       "      <td>1.490000e+10</td>\n",
       "      <td>2.450000e+10</td>\n",
       "      <td>None</td>\n",
       "      <td>7.0</td>\n",
       "      <td>1048.0</td>\n",
       "      <td>4.0</td>\n",
       "      <td>True</td>\n",
       "      <td>False</td>\n",
       "      <td>8.0</td>\n",
       "      <td>0.0</td>\n",
       "      <td>18.0</td>\n",
       "    </tr>\n",
       "    <tr>\n",
       "      <th>1</th>\n",
       "      <td>8947</td>\n",
       "      <td>Áo Thun Trơn Nam [FREESHIP] Áo phông nam tay ngắn 100% cotton Trắng Đen dáng ôm vừa vặn AT01</td>\n",
       "      <td>TP. Hồ Chí Minh</td>\n",
       "      <td>1.596338e+09</td>\n",
       "      <td>1.609949e+09</td>\n",
       "      <td>13611374.0</td>\n",
       "      <td>True</td>\n",
       "      <td>49%</td>\n",
       "      <td>False</td>\n",
       "      <td>35.0</td>\n",
       "      <td>False</td>\n",
       "      <td>4.947977</td>\n",
       "      <td>166.0</td>\n",
       "      <td>5.0</td>\n",
       "      <td>2.0</td>\n",
       "      <td>0.0</td>\n",
       "      <td>0.0</td>\n",
       "      <td>None</td>\n",
       "      <td>None</td>\n",
       "      <td>1.090000e+10</td>\n",
       "      <td>1.090000e+10</td>\n",
       "      <td>1.090000e+10</td>\n",
       "      <td>2.150000e+10</td>\n",
       "      <td>1.090000e+10</td>\n",
       "      <td>1.090000e+10</td>\n",
       "      <td>None</td>\n",
       "      <td>109.0</td>\n",
       "      <td>10540.0</td>\n",
       "      <td>173.0</td>\n",
       "      <td>True</td>\n",
       "      <td>False</td>\n",
       "      <td>9.0</td>\n",
       "      <td>0.0</td>\n",
       "      <td>526.0</td>\n",
       "    </tr>\n",
       "    <tr>\n",
       "      <th>2</th>\n",
       "      <td>8947</td>\n",
       "      <td>[SALE 50%] - Áo Thun Nam Cổ Tròn Cao Cấp ( nhiều màu) Tay Ngắn, chất cotton bề mặt vải mềm Mịn cực hot</td>\n",
       "      <td>TP. Hồ Chí Minh</td>\n",
       "      <td>1.603988e+09</td>\n",
       "      <td>1.609949e+09</td>\n",
       "      <td>5961754.0</td>\n",
       "      <td>True</td>\n",
       "      <td>50%</td>\n",
       "      <td>False</td>\n",
       "      <td>48.0</td>\n",
       "      <td>False</td>\n",
       "      <td>4.885417</td>\n",
       "      <td>89.0</td>\n",
       "      <td>4.0</td>\n",
       "      <td>2.0</td>\n",
       "      <td>1.0</td>\n",
       "      <td>0.0</td>\n",
       "      <td>None</td>\n",
       "      <td>None</td>\n",
       "      <td>4.950000e+09</td>\n",
       "      <td>9.900000e+09</td>\n",
       "      <td>4.950000e+09</td>\n",
       "      <td>9.900000e+09</td>\n",
       "      <td>4.950000e+09</td>\n",
       "      <td>9.900000e+09</td>\n",
       "      <td>None</td>\n",
       "      <td>25.0</td>\n",
       "      <td>4025.0</td>\n",
       "      <td>96.0</td>\n",
       "      <td>True</td>\n",
       "      <td>False</td>\n",
       "      <td>9.0</td>\n",
       "      <td>0.0</td>\n",
       "      <td>431.0</td>\n",
       "    </tr>\n",
       "    <tr>\n",
       "      <th>3</th>\n",
       "      <td>8947</td>\n",
       "      <td>Áo thun nam unisex 100% cotton basic Trắng Đen áo phông co giãn cao cấp dáng rộng dễ phối đồ - V69</td>\n",
       "      <td>TP. Hồ Chí Minh</td>\n",
       "      <td>1.596083e+09</td>\n",
       "      <td>1.609949e+09</td>\n",
       "      <td>13866721.0</td>\n",
       "      <td>True</td>\n",
       "      <td>39%</td>\n",
       "      <td>False</td>\n",
       "      <td>8.0</td>\n",
       "      <td>False</td>\n",
       "      <td>5.000000</td>\n",
       "      <td>66.0</td>\n",
       "      <td>0.0</td>\n",
       "      <td>0.0</td>\n",
       "      <td>0.0</td>\n",
       "      <td>0.0</td>\n",
       "      <td>None</td>\n",
       "      <td>None</td>\n",
       "      <td>1.490000e+10</td>\n",
       "      <td>2.450000e+10</td>\n",
       "      <td>1.490000e+10</td>\n",
       "      <td>2.450000e+10</td>\n",
       "      <td>1.490000e+10</td>\n",
       "      <td>2.450000e+10</td>\n",
       "      <td>None</td>\n",
       "      <td>85.0</td>\n",
       "      <td>4551.0</td>\n",
       "      <td>66.0</td>\n",
       "      <td>True</td>\n",
       "      <td>False</td>\n",
       "      <td>7.0</td>\n",
       "      <td>0.0</td>\n",
       "      <td>141.0</td>\n",
       "    </tr>\n",
       "    <tr>\n",
       "      <th>4</th>\n",
       "      <td>8947</td>\n",
       "      <td>🔥XẢ HÀNG🔥 Áo đôi - áo cặp nam nữ dễ thương cực HOT</td>\n",
       "      <td>Hà Nội</td>\n",
       "      <td>1.590391e+09</td>\n",
       "      <td>1.609949e+09</td>\n",
       "      <td>19558163.0</td>\n",
       "      <td>False</td>\n",
       "      <td>None</td>\n",
       "      <td>False</td>\n",
       "      <td>10.0</td>\n",
       "      <td>False</td>\n",
       "      <td>4.687500</td>\n",
       "      <td>27.0</td>\n",
       "      <td>1.0</td>\n",
       "      <td>3.0</td>\n",
       "      <td>1.0</td>\n",
       "      <td>0.0</td>\n",
       "      <td>None</td>\n",
       "      <td>None</td>\n",
       "      <td>7.200000e+09</td>\n",
       "      <td>-1.000000e+00</td>\n",
       "      <td>7.200000e+09</td>\n",
       "      <td>-1.000000e+00</td>\n",
       "      <td>7.200000e+09</td>\n",
       "      <td>0.000000e+00</td>\n",
       "      <td>None</td>\n",
       "      <td>128.0</td>\n",
       "      <td>3613.0</td>\n",
       "      <td>32.0</td>\n",
       "      <td>False</td>\n",
       "      <td>False</td>\n",
       "      <td>1.0</td>\n",
       "      <td>0.0</td>\n",
       "      <td>158.0</td>\n",
       "    </tr>\n",
       "  </tbody>\n",
       "</table>\n",
       "</div>"
      ],
      "text/plain": [
       "   category_id                                                                                                    name    shop_location  item_public_time  item_be_got_time   sell_time shopee_verified discount is_adult  options show_official_shop_label_in_title  rating_star  five_star  four_star  three_star  two_star  one_star flash_sale upcoming_flash_sale     price_min  price_min_before_discount     price_max  price_max_before_discount         price  price_before_discount coin_earn_label  liked_count  view_count  cmt_count is_preferred_plus_seller show_free_shipping  images  video_info_list  historical_sold\n",
       "0         8947            Áo thun phông Unisex nam nữ 2 màu Trắng Đen tay ngắn cổ tròn dáng ôm phối cực cá tính - V107  TP. Hồ Chí Minh      1.607317e+09      1.609949e+09   2632455.0            True      39%    False      8.0                             False     5.000000        4.0        0.0         0.0       0.0       0.0       None                None  1.490000e+10               2.450000e+10  1.490000e+10               2.450000e+10  1.490000e+10           2.450000e+10            None          7.0      1048.0        4.0                     True              False     8.0              0.0             18.0\n",
       "1         8947            Áo Thun Trơn Nam [FREESHIP] Áo phông nam tay ngắn 100% cotton Trắng Đen dáng ôm vừa vặn AT01  TP. Hồ Chí Minh      1.596338e+09      1.609949e+09  13611374.0            True      49%    False     35.0                             False     4.947977      166.0        5.0         2.0       0.0       0.0       None                None  1.090000e+10               1.090000e+10  1.090000e+10               2.150000e+10  1.090000e+10           1.090000e+10            None        109.0     10540.0      173.0                     True              False     9.0              0.0            526.0\n",
       "2         8947  [SALE 50%] - Áo Thun Nam Cổ Tròn Cao Cấp ( nhiều màu) Tay Ngắn, chất cotton bề mặt vải mềm Mịn cực hot  TP. Hồ Chí Minh      1.603988e+09      1.609949e+09   5961754.0            True      50%    False     48.0                             False     4.885417       89.0        4.0         2.0       1.0       0.0       None                None  4.950000e+09               9.900000e+09  4.950000e+09               9.900000e+09  4.950000e+09           9.900000e+09            None         25.0      4025.0       96.0                     True              False     9.0              0.0            431.0\n",
       "3         8947      Áo thun nam unisex 100% cotton basic Trắng Đen áo phông co giãn cao cấp dáng rộng dễ phối đồ - V69  TP. Hồ Chí Minh      1.596083e+09      1.609949e+09  13866721.0            True      39%    False      8.0                             False     5.000000       66.0        0.0         0.0       0.0       0.0       None                None  1.490000e+10               2.450000e+10  1.490000e+10               2.450000e+10  1.490000e+10           2.450000e+10            None         85.0      4551.0       66.0                     True              False     7.0              0.0            141.0\n",
       "4         8947                                                      🔥XẢ HÀNG🔥 Áo đôi - áo cặp nam nữ dễ thương cực HOT           Hà Nội      1.590391e+09      1.609949e+09  19558163.0           False     None    False     10.0                             False     4.687500       27.0        1.0         3.0       1.0       0.0       None                None  7.200000e+09              -1.000000e+00  7.200000e+09              -1.000000e+00  7.200000e+09           0.000000e+00            None        128.0      3613.0       32.0                    False              False     1.0              0.0            158.0"
      ]
     },
     "execution_count": 7,
     "metadata": {},
     "output_type": "execute_result"
    }
   ],
   "source": [
    "items_df.head()"
   ]
  },
  {
   "cell_type": "markdown",
   "metadata": {},
   "source": [
    "### Xử lý khác biệt ngữ nghĩa do parse data từ JSON\n",
    "\n",
    "Do dữ liệu trả về từ API của shopee, những dữ liệu thiếu có dạng string: 'None' nên pandas sẽ không đếm được lượng dữ liệu không có giá trị này. Ta tiến hành thay 'None' thành np.nan để có thể đếm lượng dữ liệu thiếu này chính xác."
   ]
  },
  {
   "cell_type": "code",
   "execution_count": 8,
   "metadata": {},
   "outputs": [],
   "source": [
    "items_df = items_df.replace('None', np.nan)"
   ]
  },
  {
   "cell_type": "markdown",
   "metadata": {},
   "source": [
    "### 1. Kiểm tra output hợp lệ\n",
    "Ta kiểm tra xem dữ liệu thu được có đủ điều kiện để mô hình hóa hay không? Vì đây là bài toán hồi qui nên cột output bắt buộc phải có dạng số; nếu hiện chưa có dạng số (ví dụ, số nhưng được lưu dưới dạng chuỗi) thì ta cần chuyển sang dạng số rồi mới tách các tập"
   ]
  },
  {
   "cell_type": "code",
   "execution_count": 9,
   "metadata": {},
   "outputs": [
    {
     "data": {
      "text/plain": [
       "dtype('float64')"
      ]
     },
     "execution_count": 9,
     "metadata": {},
     "output_type": "execute_result"
    }
   ],
   "source": [
    "# Cột output hiện có kiểu dữ liệu gì?\n",
    "items_df['historical_sold'].dtype"
   ]
  },
  {
   "cell_type": "code",
   "execution_count": 10,
   "metadata": {},
   "outputs": [
    {
     "data": {
      "text/plain": [
       "1"
      ]
     },
     "execution_count": 10,
     "metadata": {},
     "output_type": "execute_result"
    }
   ],
   "source": [
    "# Cột output có giá trị thiếu không?\n",
    "items_df['historical_sold'].isna().sum()"
   ]
  },
  {
   "cell_type": "code",
   "execution_count": 11,
   "metadata": {},
   "outputs": [],
   "source": [
    "# Xóa các mẫu có giá trị output thiếu\n",
    "items_df.dropna(subset=['historical_sold'], inplace=True)"
   ]
  },
  {
   "cell_type": "code",
   "execution_count": 12,
   "metadata": {},
   "outputs": [
    {
     "data": {
      "text/plain": [
       "count    10850.000000\n",
       "mean        92.164516\n",
       "std        844.028673\n",
       "min          0.000000\n",
       "25%          0.000000\n",
       "50%          0.000000\n",
       "75%          4.000000\n",
       "max      37079.000000\n",
       "Name: historical_sold, dtype: float64"
      ]
     },
     "execution_count": 12,
     "metadata": {},
     "output_type": "execute_result"
    }
   ],
   "source": [
    "# Xem phân bố các giá trị của output\n",
    "items_df['historical_sold'].describe()"
   ]
  },
  {
   "cell_type": "markdown",
   "metadata": {},
   "source": [
    "Ta có thể thấy giá trị 0 chiếm rất nhiều trong output khiến cho phân bố bị lệch trái rõ rệt, hãy xem biểu đồ phân bố dưới đây"
   ]
  },
  {
   "cell_type": "code",
   "execution_count": 13,
   "metadata": {},
   "outputs": [
    {
     "data": {
      "text/plain": [
       "<AxesSubplot:ylabel='Frequency'>"
      ]
     },
     "execution_count": 13,
     "metadata": {},
     "output_type": "execute_result"
    },
    {
     "data": {
      "image/png": "[encoded data removed]",
      "text/plain": [
       "<Figure size 432x288 with 1 Axes>"
      ]
     },
     "metadata": {
      "needs_background": "light"
     },
     "output_type": "display_data"
    }
   ],
   "source": [
    "items_df['historical_sold'].plot.hist(bins=range(0, 300,10), edgecolor='black')"
   ]
  },
  {
   "cell_type": "code",
   "execution_count": 14,
   "metadata": {},
   "outputs": [
    {
     "data": {
      "text/plain": [
       "22.392901815404624"
      ]
     },
     "execution_count": 14,
     "metadata": {},
     "output_type": "execute_result"
    }
   ],
   "source": [
    "# Tính thử độ lệch của output\n",
    "items_df['historical_sold'].skew()"
   ]
  },
  {
   "cell_type": "markdown",
   "metadata": {},
   "source": [
    "Ta sẽ quay lại xử lý vấn đề này sau"
   ]
  },
  {
   "cell_type": "markdown",
   "metadata": {},
   "source": [
    "### 2. Ý nghĩa của mỗi dòng\n",
    "Quan sát sơ bộ dữ liệu và qua quá trình crawler data, ta thấy mỗi dòng chứa thông tin của một món hàng, và không có vấn đề các dòng có ý nghĩa khác nhau"
   ]
  },
  {
   "cell_type": "markdown",
   "metadata": {},
   "source": [
    "### 3. Kiểm tra các giá trị trùng\n",
    "Ta xem thử có bao nhiêu mẫu bị trùng giá trị"
   ]
  },
  {
   "cell_type": "code",
   "execution_count": 15,
   "metadata": {},
   "outputs": [
    {
     "data": {
      "text/plain": [
       "102"
      ]
     },
     "execution_count": 15,
     "metadata": {},
     "output_type": "execute_result"
    }
   ],
   "source": [
    "num_duplicated_rows = items_df.duplicated().sum()\n",
    "num_duplicated_rows"
   ]
  },
  {
   "cell_type": "markdown",
   "metadata": {},
   "source": [
    "Xóa các mẫu có giá trị trùng bằng phương thức drop_duplicates của pandas, mặc định giữ lại dòng có giá trị lặp đầu tiên"
   ]
  },
  {
   "cell_type": "code",
   "execution_count": 16,
   "metadata": {},
   "outputs": [],
   "source": [
    "items_df = items_df.drop_duplicates(ignore_index = True)"
   ]
  },
  {
   "cell_type": "markdown",
   "metadata": {},
   "source": [
    "### 4. Kiểm tra các giá trị không hợp lệ"
   ]
  },
  {
   "cell_type": "code",
   "execution_count": 17,
   "metadata": {},
   "outputs": [
    {
     "data": {
      "text/html": [
       "<div>\n",
       "<style scoped>\n",
       "    .dataframe tbody tr th:only-of-type {\n",
       "        vertical-align: middle;\n",
       "    }\n",
       "\n",
       "    .dataframe tbody tr th {\n",
       "        vertical-align: top;\n",
       "    }\n",
       "\n",
       "    .dataframe thead th {\n",
       "        text-align: right;\n",
       "    }\n",
       "</style>\n",
       "<table border=\"1\" class=\"dataframe\">\n",
       "  <thead>\n",
       "    <tr style=\"text-align: right;\">\n",
       "      <th></th>\n",
       "      <th>category_id</th>\n",
       "      <th>item_public_time</th>\n",
       "      <th>item_be_got_time</th>\n",
       "      <th>sell_time</th>\n",
       "      <th>options</th>\n",
       "      <th>rating_star</th>\n",
       "      <th>five_star</th>\n",
       "      <th>four_star</th>\n",
       "      <th>three_star</th>\n",
       "      <th>two_star</th>\n",
       "      <th>one_star</th>\n",
       "      <th>flash_sale</th>\n",
       "      <th>upcoming_flash_sale</th>\n",
       "      <th>price_min</th>\n",
       "      <th>price_min_before_discount</th>\n",
       "      <th>price_max</th>\n",
       "      <th>price_max_before_discount</th>\n",
       "      <th>price</th>\n",
       "      <th>price_before_discount</th>\n",
       "      <th>coin_earn_label</th>\n",
       "      <th>liked_count</th>\n",
       "      <th>view_count</th>\n",
       "      <th>cmt_count</th>\n",
       "      <th>images</th>\n",
       "      <th>video_info_list</th>\n",
       "      <th>historical_sold</th>\n",
       "    </tr>\n",
       "  </thead>\n",
       "  <tbody>\n",
       "    <tr>\n",
       "      <th>count</th>\n",
       "      <td>10748.000000</td>\n",
       "      <td>1.074800e+04</td>\n",
       "      <td>1.074800e+04</td>\n",
       "      <td>1.074800e+04</td>\n",
       "      <td>10748.000000</td>\n",
       "      <td>10748.000000</td>\n",
       "      <td>10748.000000</td>\n",
       "      <td>10748.000000</td>\n",
       "      <td>10748.000000</td>\n",
       "      <td>10748.000000</td>\n",
       "      <td>10748.000000</td>\n",
       "      <td>0.0</td>\n",
       "      <td>0.0</td>\n",
       "      <td>1.074800e+04</td>\n",
       "      <td>1.074800e+04</td>\n",
       "      <td>1.074800e+04</td>\n",
       "      <td>1.074800e+04</td>\n",
       "      <td>1.074800e+04</td>\n",
       "      <td>1.074800e+04</td>\n",
       "      <td>0.0</td>\n",
       "      <td>10748.000000</td>\n",
       "      <td>10748.000000</td>\n",
       "      <td>10748.000000</td>\n",
       "      <td>10748.000000</td>\n",
       "      <td>10748.000000</td>\n",
       "      <td>10748.000000</td>\n",
       "    </tr>\n",
       "    <tr>\n",
       "      <th>mean</th>\n",
       "      <td>7820.808895</td>\n",
       "      <td>1.615117e+09</td>\n",
       "      <td>1.610267e+09</td>\n",
       "      <td>-4.849890e+06</td>\n",
       "      <td>14.083923</td>\n",
       "      <td>1.512381</td>\n",
       "      <td>17.058523</td>\n",
       "      <td>1.077131</td>\n",
       "      <td>0.473111</td>\n",
       "      <td>0.156866</td>\n",
       "      <td>0.304243</td>\n",
       "      <td>NaN</td>\n",
       "      <td>NaN</td>\n",
       "      <td>2.490995e+10</td>\n",
       "      <td>1.942725e+10</td>\n",
       "      <td>2.564087e+10</td>\n",
       "      <td>1.988520e+10</td>\n",
       "      <td>2.491504e+10</td>\n",
       "      <td>1.949396e+10</td>\n",
       "      <td>NaN</td>\n",
       "      <td>377.439896</td>\n",
       "      <td>332.093599</td>\n",
       "      <td>19.031169</td>\n",
       "      <td>6.764421</td>\n",
       "      <td>0.082713</td>\n",
       "      <td>89.395702</td>\n",
       "    </tr>\n",
       "    <tr>\n",
       "      <th>std</th>\n",
       "      <td>4532.649995</td>\n",
       "      <td>1.639321e+08</td>\n",
       "      <td>3.366795e+05</td>\n",
       "      <td>1.638767e+08</td>\n",
       "      <td>13.191224</td>\n",
       "      <td>2.233879</td>\n",
       "      <td>174.807206</td>\n",
       "      <td>14.037485</td>\n",
       "      <td>7.121846</td>\n",
       "      <td>2.869150</td>\n",
       "      <td>6.136859</td>\n",
       "      <td>NaN</td>\n",
       "      <td>NaN</td>\n",
       "      <td>2.676040e+10</td>\n",
       "      <td>2.441459e+10</td>\n",
       "      <td>2.721072e+10</td>\n",
       "      <td>2.489001e+10</td>\n",
       "      <td>2.675672e+10</td>\n",
       "      <td>2.457162e+10</td>\n",
       "      <td>NaN</td>\n",
       "      <td>2223.495576</td>\n",
       "      <td>3215.224983</td>\n",
       "      <td>202.068231</td>\n",
       "      <td>2.586901</td>\n",
       "      <td>0.275461</td>\n",
       "      <td>835.687930</td>\n",
       "    </tr>\n",
       "    <tr>\n",
       "      <th>min</th>\n",
       "      <td>1899.000000</td>\n",
       "      <td>1.439048e+09</td>\n",
       "      <td>1.609910e+09</td>\n",
       "      <td>-1.567207e+09</td>\n",
       "      <td>0.000000</td>\n",
       "      <td>0.000000</td>\n",
       "      <td>0.000000</td>\n",
       "      <td>0.000000</td>\n",
       "      <td>0.000000</td>\n",
       "      <td>0.000000</td>\n",
       "      <td>0.000000</td>\n",
       "      <td>NaN</td>\n",
       "      <td>NaN</td>\n",
       "      <td>2.500000e+08</td>\n",
       "      <td>-2.000000e+00</td>\n",
       "      <td>2.730000e+08</td>\n",
       "      <td>-2.000000e+00</td>\n",
       "      <td>2.500000e+08</td>\n",
       "      <td>0.000000e+00</td>\n",
       "      <td>NaN</td>\n",
       "      <td>0.000000</td>\n",
       "      <td>0.000000</td>\n",
       "      <td>0.000000</td>\n",
       "      <td>1.000000</td>\n",
       "      <td>0.000000</td>\n",
       "      <td>0.000000</td>\n",
       "    </tr>\n",
       "    <tr>\n",
       "      <th>25%</th>\n",
       "      <td>2829.000000</td>\n",
       "      <td>1.582929e+09</td>\n",
       "      <td>1.609949e+09</td>\n",
       "      <td>2.874107e+06</td>\n",
       "      <td>4.000000</td>\n",
       "      <td>0.000000</td>\n",
       "      <td>0.000000</td>\n",
       "      <td>0.000000</td>\n",
       "      <td>0.000000</td>\n",
       "      <td>0.000000</td>\n",
       "      <td>0.000000</td>\n",
       "      <td>NaN</td>\n",
       "      <td>NaN</td>\n",
       "      <td>9.900000e+09</td>\n",
       "      <td>-1.000000e+00</td>\n",
       "      <td>9.990000e+09</td>\n",
       "      <td>-1.000000e+00</td>\n",
       "      <td>9.900000e+09</td>\n",
       "      <td>0.000000e+00</td>\n",
       "      <td>NaN</td>\n",
       "      <td>0.000000</td>\n",
       "      <td>0.000000</td>\n",
       "      <td>0.000000</td>\n",
       "      <td>5.000000</td>\n",
       "      <td>0.000000</td>\n",
       "      <td>0.000000</td>\n",
       "    </tr>\n",
       "    <tr>\n",
       "      <th>50%</th>\n",
       "      <td>8947.000000</td>\n",
       "      <td>1.598349e+09</td>\n",
       "      <td>1.609994e+09</td>\n",
       "      <td>1.200848e+07</td>\n",
       "      <td>10.000000</td>\n",
       "      <td>0.000000</td>\n",
       "      <td>0.000000</td>\n",
       "      <td>0.000000</td>\n",
       "      <td>0.000000</td>\n",
       "      <td>0.000000</td>\n",
       "      <td>0.000000</td>\n",
       "      <td>NaN</td>\n",
       "      <td>NaN</td>\n",
       "      <td>1.790000e+10</td>\n",
       "      <td>1.290000e+10</td>\n",
       "      <td>1.817000e+10</td>\n",
       "      <td>1.291000e+10</td>\n",
       "      <td>1.790000e+10</td>\n",
       "      <td>1.290000e+10</td>\n",
       "      <td>NaN</td>\n",
       "      <td>0.000000</td>\n",
       "      <td>0.000000</td>\n",
       "      <td>0.000000</td>\n",
       "      <td>8.000000</td>\n",
       "      <td>0.000000</td>\n",
       "      <td>0.000000</td>\n",
       "    </tr>\n",
       "    <tr>\n",
       "      <th>75%</th>\n",
       "      <td>9572.000000</td>\n",
       "      <td>1.607335e+09</td>\n",
       "      <td>1.610629e+09</td>\n",
       "      <td>2.730005e+07</td>\n",
       "      <td>20.000000</td>\n",
       "      <td>4.714286</td>\n",
       "      <td>1.000000</td>\n",
       "      <td>0.000000</td>\n",
       "      <td>0.000000</td>\n",
       "      <td>0.000000</td>\n",
       "      <td>0.000000</td>\n",
       "      <td>NaN</td>\n",
       "      <td>NaN</td>\n",
       "      <td>3.092000e+10</td>\n",
       "      <td>3.200000e+10</td>\n",
       "      <td>3.157750e+10</td>\n",
       "      <td>3.300000e+10</td>\n",
       "      <td>3.093250e+10</td>\n",
       "      <td>3.200000e+10</td>\n",
       "      <td>NaN</td>\n",
       "      <td>5.000000</td>\n",
       "      <td>28.000000</td>\n",
       "      <td>1.000000</td>\n",
       "      <td>9.000000</td>\n",
       "      <td>0.000000</td>\n",
       "      <td>4.000000</td>\n",
       "    </tr>\n",
       "    <tr>\n",
       "      <th>max</th>\n",
       "      <td>15139.000000</td>\n",
       "      <td>3.177817e+09</td>\n",
       "      <td>1.610639e+09</td>\n",
       "      <td>1.715907e+08</td>\n",
       "      <td>100.000000</td>\n",
       "      <td>5.996798</td>\n",
       "      <td>7869.000000</td>\n",
       "      <td>777.000000</td>\n",
       "      <td>427.000000</td>\n",
       "      <td>199.000000</td>\n",
       "      <td>462.000000</td>\n",
       "      <td>NaN</td>\n",
       "      <td>NaN</td>\n",
       "      <td>6.900000e+11</td>\n",
       "      <td>3.580000e+11</td>\n",
       "      <td>6.900000e+11</td>\n",
       "      <td>3.580000e+11</td>\n",
       "      <td>6.900000e+11</td>\n",
       "      <td>3.580000e+11</td>\n",
       "      <td>NaN</td>\n",
       "      <td>79919.000000</td>\n",
       "      <td>189252.000000</td>\n",
       "      <td>9737.000000</td>\n",
       "      <td>9.000000</td>\n",
       "      <td>1.000000</td>\n",
       "      <td>37079.000000</td>\n",
       "    </tr>\n",
       "  </tbody>\n",
       "</table>\n",
       "</div>"
      ],
      "text/plain": [
       "        category_id  item_public_time  item_be_got_time     sell_time       options   rating_star     five_star     four_star    three_star      two_star      one_star  flash_sale  upcoming_flash_sale     price_min  price_min_before_discount     price_max  price_max_before_discount         price  price_before_discount  coin_earn_label   liked_count     view_count     cmt_count        images  video_info_list  historical_sold\n",
       "count  10748.000000      1.074800e+04      1.074800e+04  1.074800e+04  10748.000000  10748.000000  10748.000000  10748.000000  10748.000000  10748.000000  10748.000000         0.0                  0.0  1.074800e+04               1.074800e+04  1.074800e+04               1.074800e+04  1.074800e+04           1.074800e+04              0.0  10748.000000   10748.000000  10748.000000  10748.000000     10748.000000     10748.000000\n",
       "mean    7820.808895      1.615117e+09      1.610267e+09 -4.849890e+06     14.083923      1.512381     17.058523      1.077131      0.473111      0.156866      0.304243         NaN                  NaN  2.490995e+10               1.942725e+10  2.564087e+10               1.988520e+10  2.491504e+10           1.949396e+10              NaN    377.439896     332.093599     19.031169      6.764421         0.082713        89.395702\n",
       "std     4532.649995      1.639321e+08      3.366795e+05  1.638767e+08     13.191224      2.233879    174.807206     14.037485      7.121846      2.869150      6.136859         NaN                  NaN  2.676040e+10               2.441459e+10  2.721072e+10               2.489001e+10  2.675672e+10           2.457162e+10              NaN   2223.495576    3215.224983    202.068231      2.586901         0.275461       835.687930\n",
       "min     1899.000000      1.439048e+09      1.609910e+09 -1.567207e+09      0.000000      0.000000      0.000000      0.000000      0.000000      0.000000      0.000000         NaN                  NaN  2.500000e+08              -2.000000e+00  2.730000e+08              -2.000000e+00  2.500000e+08           0.000000e+00              NaN      0.000000       0.000000      0.000000      1.000000         0.000000         0.000000\n",
       "25%     2829.000000      1.582929e+09      1.609949e+09  2.874107e+06      4.000000      0.000000      0.000000      0.000000      0.000000      0.000000      0.000000         NaN                  NaN  9.900000e+09              -1.000000e+00  9.990000e+09              -1.000000e+00  9.900000e+09           0.000000e+00              NaN      0.000000       0.000000      0.000000      5.000000         0.000000         0.000000\n",
       "50%     8947.000000      1.598349e+09      1.609994e+09  1.200848e+07     10.000000      0.000000      0.000000      0.000000      0.000000      0.000000      0.000000         NaN                  NaN  1.790000e+10               1.290000e+10  1.817000e+10               1.291000e+10  1.790000e+10           1.290000e+10              NaN      0.000000       0.000000      0.000000      8.000000         0.000000         0.000000\n",
       "75%     9572.000000      1.607335e+09      1.610629e+09  2.730005e+07     20.000000      4.714286      1.000000      0.000000      0.000000      0.000000      0.000000         NaN                  NaN  3.092000e+10               3.200000e+10  3.157750e+10               3.300000e+10  3.093250e+10           3.200000e+10              NaN      5.000000      28.000000      1.000000      9.000000         0.000000         4.000000\n",
       "max    15139.000000      3.177817e+09      1.610639e+09  1.715907e+08    100.000000      5.996798   7869.000000    777.000000    427.000000    199.000000    462.000000         NaN                  NaN  6.900000e+11               3.580000e+11  6.900000e+11               3.580000e+11  6.900000e+11           3.580000e+11              NaN  79919.000000  189252.000000   9737.000000      9.000000         1.000000     37079.000000"
      ]
     },
     "execution_count": 17,
     "metadata": {},
     "output_type": "execute_result"
    }
   ],
   "source": [
    "items_df.describe()"
   ]
  },
  {
   "cell_type": "markdown",
   "metadata": {},
   "source": [
    "Nhìn vào bảng trên, ta thấy có một số bất thường. Thật ra giá trị của những mẫu này đều đang hoạt động bình thường trên giao diện shopee nên khả năng lỗi là rất thấp. Ta vẫn xem xét các trường hợp như sau:\n",
    "\n",
    "1. Cột price_min_before_discount và cột price_max_before_discount có giá trị âm\n",
    "\n",
    "2. Cột sell_time có giá trị âm\n",
    "  \n",
    "2. So sánh price_min > price_max, price_min_before_discount > price_max_before_discount\n",
    "\n",
    "3. So sánh price < price_before_discount, price_min < price_min_before_discount, price_max < price_max_before_discount"
   ]
  },
  {
   "cell_type": "code",
   "execution_count": 18,
   "metadata": {},
   "outputs": [
    {
     "data": {
      "text/plain": [
       "0.39067733531819876"
      ]
     },
     "execution_count": 18,
     "metadata": {},
     "output_type": "execute_result"
    }
   ],
   "source": [
    "# Xử lý trường hợp 1.\n",
    "\n",
    "invalid_price_negative = (items_df.price_min_before_discount < 0) | (items_df.price_max_before_discount < 0)\n",
    "invalid_price_negative_vals = invalid_price_negative.sum()\n",
    "invalid_price_negative_vals/len(items_df)"
   ]
  },
  {
   "cell_type": "markdown",
   "metadata": {},
   "source": [
    "Ta thấy có đến xấp xỉ 39.07% các giá trị `price_min_before_discount` và `price_min_before_discount` bị âm.\n",
    "Do shopee vẫn hiển thị bình thường nên ta dự đoán có lẽ do tại những mẫu có giá trị âm này thì `discount` bị thiếu. "
   ]
  },
  {
   "cell_type": "code",
   "execution_count": 19,
   "metadata": {},
   "outputs": [
    {
     "name": "stdout",
     "output_type": "stream",
     "text": [
      "0.39067733531819876\n",
      "True\n"
     ]
    }
   ],
   "source": [
    "print((items_df.discount.isnull()).sum()/len(items_df))\n",
    "print((items_df.discount.isnull()).sum()/len(items_df) == invalid_price_negative_vals/len(items_df))"
   ]
  },
  {
   "cell_type": "markdown",
   "metadata": {},
   "source": [
    "Kiểm tra thấy hai giá trị là hoàn toàn giống nhau chứng tỏ dự đoán là đúng.\n",
    "Vậy code Shopee chịu lỗi này hoặc đây là quy ước data của shopee, khi lấy mẫu mới về từ Shopee trường hợp này vẫn sẽ là giá trị âm. Vậy nên những giá trị âm này ta xem như hợp lệ"
   ]
  },
  {
   "cell_type": "code",
   "execution_count": 20,
   "metadata": {},
   "outputs": [
    {
     "data": {
      "text/plain": [
       "348"
      ]
     },
     "execution_count": 20,
     "metadata": {},
     "output_type": "execute_result"
    }
   ],
   "source": [
    "# Xử lý trường hợp 2.\n",
    "invalid_sell_time = (items_df['sell_time'] < 0)\n",
    "invalid_sell_time.sum()"
   ]
  },
  {
   "cell_type": "markdown",
   "metadata": {},
   "source": [
    "Có khá nhiều mẫu có thuộc tính sell_time âm, ta xóa những mẫu này"
   ]
  },
  {
   "cell_type": "code",
   "execution_count": 21,
   "metadata": {},
   "outputs": [],
   "source": [
    "items_df = items_df[~invalid_sell_time]"
   ]
  },
  {
   "cell_type": "code",
   "execution_count": 22,
   "metadata": {},
   "outputs": [
    {
     "data": {
      "text/plain": [
       "1"
      ]
     },
     "execution_count": 22,
     "metadata": {},
     "output_type": "execute_result"
    }
   ],
   "source": [
    "# Xử lý trường hợp 3\n",
    "invalid_price_min_max = (items_df.price_min_before_discount > items_df.price_max_before_discount) | (items_df.price_max < items_df.price_min)\n",
    "invalid_price_min_max_vals = invalid_price_min_max.sum()\n",
    "invalid_price_min_max_vals\n"
   ]
  },
  {
   "cell_type": "markdown",
   "metadata": {},
   "source": [
    "Có 1 mẫu bất hợp lệ trong trường hợp này, ta xóa nốt"
   ]
  },
  {
   "cell_type": "code",
   "execution_count": 23,
   "metadata": {},
   "outputs": [],
   "source": [
    "items_df = items_df[~invalid_price_min_max]"
   ]
  },
  {
   "cell_type": "code",
   "execution_count": 24,
   "metadata": {},
   "outputs": [
    {
     "data": {
      "text/plain": [
       "0.3993653235888066"
      ]
     },
     "execution_count": 24,
     "metadata": {},
     "output_type": "execute_result"
    }
   ],
   "source": [
    "# Xử lý trường hợp 4\n",
    "invalid_price_before_after = (items_df.price > items_df.price_before_discount) | (items_df.price_min > items_df.price_min_before_discount) | (items_df.price_max > items_df.price_max_before_discount)\n",
    "invalid_price_before_after_vals = invalid_price_before_after.sum()\n",
    "invalid_price_before_after_vals / len(items_df)"
   ]
  },
  {
   "cell_type": "markdown",
   "metadata": {},
   "source": [
    "Ta thấy phần trăm các giá trị lỗi giống như ở trường hợp 1 nên kiểm tra riêng lại cho điều kiện (items_df.price_min > items_df.price_min_before_discount) | (items_df.price_max > items_df.price_max_before_discount)"
   ]
  },
  {
   "cell_type": "code",
   "execution_count": 25,
   "metadata": {},
   "outputs": [
    {
     "name": "stdout",
     "output_type": "stream",
     "text": [
      "(items_df.price_min > items_df.price_min_before_discount) | (items_df.price_max > items_df.price_max_before_discount):\n",
      "-> 0.3993653235888066\n",
      "True if it equal to (items_df.discount == \"None\").sum()/len(items_df))\n",
      "-> False\n"
     ]
    }
   ],
   "source": [
    "print('(items_df.price_min > items_df.price_min_before_discount) | (items_df.price_max > items_df.price_max_before_discount):\\n->', ((items_df.price_min > items_df.price_min_before_discount) | (items_df.price_max > items_df.price_max_before_discount)).sum()/len(items_df))\n",
    "print('True if it equal to (items_df.discount == \"None\").sum()/len(items_df))\\n->', ((items_df.price_min > items_df.price_min_before_discount) | (items_df.price_max > items_df.price_max_before_discount)).sum()/len(items_df) == (items_df.discount == 'None').sum()/len(items_df))"
   ]
  },
  {
   "cell_type": "markdown",
   "metadata": {},
   "source": [
    "Vậy tương tự như trường hợp 1, những giá trị này là hợp lệ"
   ]
  },
  {
   "cell_type": "markdown",
   "metadata": {},
   "source": [
    "Kiểm tra lại số mẫu"
   ]
  },
  {
   "cell_type": "code",
   "execution_count": 26,
   "metadata": {},
   "outputs": [
    {
     "data": {
      "text/plain": [
       "(10399, 34)"
      ]
     },
     "execution_count": 26,
     "metadata": {},
     "output_type": "execute_result"
    }
   ],
   "source": [
    "items_df.shape"
   ]
  },
  {
   "cell_type": "markdown",
   "metadata": {},
   "source": [
    "### 5. Xử lý dữ liệu bị lệch"
   ]
  },
  {
   "cell_type": "markdown",
   "metadata": {},
   "source": [
    "Ta sẽ viết một hàm để giảm độ lệch của dữ liệu, ý tưởng là giảm số lượng giá trị xuất hiện nhiều nhất bằng với số lượng của giá trị xuất hiện nhiều thứ 2 cho đến khi độ lệch đạt một mức nào đó, ta sẽ điều chỉnh tham số s là độ lệch của cột đó sau khi biến đổi bằng hàm logarithm tự nhiên với độ dời là 1 (hàm log(x + 1)) do dữ liệu có giá trị 0"
   ]
  },
  {
   "cell_type": "code",
   "execution_count": 27,
   "metadata": {},
   "outputs": [],
   "source": [
    "def reduce_skew(df, column, s=0.6):\n",
    "    k = df.copy()\n",
    "    while (np.log(k[column] + 1).skew() > s):\n",
    "        vc = k[column].value_counts()\n",
    "        mf = vc.index[0]\n",
    "        if len(vc[vc < vc[0]]):\n",
    "            sf_n = vc[vc < vc[0]].iloc[0]\n",
    "        else:\n",
    "            break\n",
    "        mf_sample = k[k[column] == mf]\n",
    "        not_mf_sample = k[k[column] != mf]\n",
    "        undersampled = resample(mf_sample, replace = False,\n",
    "                                    n_samples = sf_n, random_state = 0)\n",
    "        k = pd.concat([undersampled, not_mf_sample])\n",
    "    return k"
   ]
  },
  {
   "cell_type": "markdown",
   "metadata": {},
   "source": [
    "Gọi hàm reduce_skew với mỗi s tùy chọn, lưu ý rằng khi độ lệch càng nhỏ tức là phải bỏ đi nhiều mẫu, ta sẽ cố gắng cân bằng sao cho độ lệch và số mẫu ở mức chấp nhận được. Dữ liệu có độ lệch < 1 thì có thể coi là không lệch quá nhiều, vậy ta sẽ chọn s = 0.9"
   ]
  },
  {
   "cell_type": "code",
   "execution_count": 28,
   "metadata": {},
   "outputs": [
    {
     "data": {
      "text/plain": [
       "(3967, 34)"
      ]
     },
     "execution_count": 28,
     "metadata": {},
     "output_type": "execute_result"
    }
   ],
   "source": [
    "x = reduce_skew(items_df, 'historical_sold', 0.9)\n",
    "x.shape"
   ]
  },
  {
   "cell_type": "markdown",
   "metadata": {},
   "source": [
    "Số mẫu còn lại là 3900 từ hơn 10000 mẫu. \n",
    "\n",
    "Tiếp theo ta sẽ so sánh độ lệch của dữ liệu trước và sau khi giảm lệch"
   ]
  },
  {
   "cell_type": "code",
   "execution_count": 29,
   "metadata": {},
   "outputs": [
    {
     "name": "stdout",
     "output_type": "stream",
     "text": [
      "Độ lệch trước: 22.84609010299126\n",
      "Độ lệch sau: 14.191024989235334\n"
     ]
    }
   ],
   "source": [
    "print('Độ lệch trước:', items_df['historical_sold'].skew())\n",
    "print('Độ lệch sau:', x['historical_sold'].skew())"
   ]
  },
  {
   "cell_type": "code",
   "execution_count": 30,
   "metadata": {},
   "outputs": [
    {
     "data": {
      "text/plain": [
       "<AxesSubplot:ylabel='Frequency'>"
      ]
     },
     "execution_count": 30,
     "metadata": {},
     "output_type": "execute_result"
    },
    {
     "data": {
      "image/png": "[encoded data removed]",
      "text/plain": [
       "<Figure size 1080x360 with 2 Axes>"
      ]
     },
     "metadata": {
      "needs_background": "light"
     },
     "output_type": "display_data"
    }
   ],
   "source": [
    "# Vẽ biểu đồ phân phối giữa dữ liệu trước và sau khi giảm lệch\n",
    "fig, (ax, ax2) = plt.subplots(ncols=2, sharey=True, figsize=(15,5))\n",
    "items_df['historical_sold'].plot.hist(bins=range(0, 300, 10), edgecolor='black',ax=ax)\n",
    "x['historical_sold'].plot.hist(bins=range(0, 300, 10), edgecolor='black', ax=ax2)"
   ]
  },
  {
   "cell_type": "markdown",
   "metadata": {},
   "source": [
    "Có thể thấy độ lệch được giảm đáng kể, ta hãy tiếp tục so sánh độ lệch của dữ liệu sau khi biến đổi"
   ]
  },
  {
   "cell_type": "code",
   "execution_count": 31,
   "metadata": {},
   "outputs": [
    {
     "name": "stdout",
     "output_type": "stream",
     "text": [
      "Độ lệch trước: 1.9205475195292694\n",
      "Độ lệch sau: 0.7989797963253716\n"
     ]
    }
   ],
   "source": [
    "transformed_before = np.log(items_df['historical_sold'] + 1)\n",
    "transformed_after = np.log(x['historical_sold'] + 1)\n",
    "print('Độ lệch trước:', transformed_before.skew())\n",
    "print('Độ lệch sau:', transformed_after.skew())"
   ]
  },
  {
   "cell_type": "code",
   "execution_count": 32,
   "metadata": {},
   "outputs": [
    {
     "data": {
      "text/plain": [
       "<AxesSubplot:ylabel='Frequency'>"
      ]
     },
     "execution_count": 32,
     "metadata": {},
     "output_type": "execute_result"
    },
    {
     "data": {
      "image/png": "[encoded data removed]",
      "text/plain": [
       "<Figure size 1080x360 with 2 Axes>"
      ]
     },
     "metadata": {
      "needs_background": "light"
     },
     "output_type": "display_data"
    }
   ],
   "source": [
    "fig, (ax, ax2) = plt.subplots(ncols=2, sharey=True, figsize=(15,5))\n",
    "transformed_before.plot.hist(bins=range(0, 11, 1), edgecolor='black', ax=ax)\n",
    "transformed_after.plot.hist(bins=range(0, 11, 1), edgecolor='black', ax=ax2)"
   ]
  },
  {
   "cell_type": "markdown",
   "metadata": {},
   "source": [
    "Ta thấy khi s = 0.9 thì phân phối có vẻ tốt, vậy ta quyết định biến đổi output bằng hàm log nói trên để dữ liệu phân bố đều hơn"
   ]
  },
  {
   "cell_type": "code",
   "execution_count": 33,
   "metadata": {},
   "outputs": [
    {
     "data": {
      "text/plain": [
       "count    3967.000000\n",
       "mean        2.745083\n",
       "std         2.055163\n",
       "min         0.000000\n",
       "25%         1.098612\n",
       "50%         2.302585\n",
       "75%         4.158883\n",
       "max        10.520833\n",
       "Name: historical_sold, dtype: float64"
      ]
     },
     "execution_count": 33,
     "metadata": {},
     "output_type": "execute_result"
    }
   ],
   "source": [
    "items_df = x\n",
    "items_df['historical_sold'] = transformed_after\n",
    "items_df['historical_sold'].describe()"
   ]
  },
  {
   "cell_type": "markdown",
   "metadata": {},
   "source": [
    "### 6. Tách các tập\n",
    "Vậy là dữ liệu đã sẵn sàng để tách và khám phá"
   ]
  },
  {
   "cell_type": "code",
   "execution_count": 34,
   "metadata": {},
   "outputs": [],
   "source": [
    "# Tách X và y\n",
    "y_sr = items_df[\"historical_sold\"]\n",
    "X_df = items_df.drop(\"historical_sold\", axis=1)"
   ]
  },
  {
   "cell_type": "code",
   "execution_count": 35,
   "metadata": {},
   "outputs": [],
   "source": [
    "# Tách train và test\n",
    "rest_X_df, test_X_df, rest_y_sr, test_y_sr = train_test_split(X_df, y_sr, test_size=0.2, random_state=0)"
   ]
  },
  {
   "cell_type": "code",
   "execution_count": 36,
   "metadata": {},
   "outputs": [],
   "source": [
    "# Tách train và validation\n",
    "train_X_df, val_X_df, train_y_sr, val_y_sr = train_test_split(rest_X_df, rest_y_sr, test_size=0.2, random_state=0)"
   ]
  },
  {
   "cell_type": "code",
   "execution_count": 37,
   "metadata": {},
   "outputs": [
    {
     "data": {
      "text/plain": [
       "(2538, 33)"
      ]
     },
     "execution_count": 37,
     "metadata": {},
     "output_type": "execute_result"
    }
   ],
   "source": [
    "train_X_df.shape"
   ]
  },
  {
   "cell_type": "code",
   "execution_count": 38,
   "metadata": {},
   "outputs": [
    {
     "data": {
      "text/plain": [
       "(2538,)"
      ]
     },
     "execution_count": 38,
     "metadata": {},
     "output_type": "execute_result"
    }
   ],
   "source": [
    "train_y_sr.shape"
   ]
  },
  {
   "cell_type": "code",
   "execution_count": 39,
   "metadata": {},
   "outputs": [
    {
     "data": {
      "text/plain": [
       "(635, 33)"
      ]
     },
     "execution_count": 39,
     "metadata": {},
     "output_type": "execute_result"
    }
   ],
   "source": [
    "val_X_df.shape"
   ]
  },
  {
   "cell_type": "code",
   "execution_count": 40,
   "metadata": {},
   "outputs": [
    {
     "data": {
      "text/plain": [
       "(635,)"
      ]
     },
     "execution_count": 40,
     "metadata": {},
     "output_type": "execute_result"
    }
   ],
   "source": [
    "val_y_sr.shape"
   ]
  },
  {
   "cell_type": "code",
   "execution_count": 41,
   "metadata": {},
   "outputs": [
    {
     "data": {
      "text/plain": [
       "(794, 33)"
      ]
     },
     "execution_count": 41,
     "metadata": {},
     "output_type": "execute_result"
    }
   ],
   "source": [
    "test_X_df.shape"
   ]
  },
  {
   "cell_type": "code",
   "execution_count": 42,
   "metadata": {},
   "outputs": [
    {
     "data": {
      "text/plain": [
       "(794,)"
      ]
     },
     "execution_count": 42,
     "metadata": {},
     "output_type": "execute_result"
    }
   ],
   "source": [
    "test_y_sr.shape"
   ]
  },
  {
   "cell_type": "markdown",
   "metadata": {},
   "source": [
    "## IV. Khám phá dữ liệu (tập huấn luyện)\n",
    "\n",
    "Quá trình làm việc của nhóm trong branch [Preprocessing](https://github.com/cstotodile/ds_final/tree/Preprocessing)\n"
   ]
  },
  {
   "cell_type": "markdown",
   "metadata": {},
   "source": [
    "### 1. Kiểm tra kiểu dữ liệu của input có phù hợp"
   ]
  },
  {
   "cell_type": "code",
   "execution_count": 43,
   "metadata": {},
   "outputs": [
    {
     "data": {
      "text/plain": [
       "category_id                            int64\n",
       "name                                  object\n",
       "shop_location                         object\n",
       "item_public_time                     float64\n",
       "item_be_got_time                     float64\n",
       "sell_time                            float64\n",
       "shopee_verified                       object\n",
       "discount                              object\n",
       "is_adult                              object\n",
       "options                              float64\n",
       "show_official_shop_label_in_title     object\n",
       "rating_star                          float64\n",
       "five_star                            float64\n",
       "four_star                            float64\n",
       "three_star                           float64\n",
       "two_star                             float64\n",
       "one_star                             float64\n",
       "flash_sale                           float64\n",
       "upcoming_flash_sale                  float64\n",
       "price_min                            float64\n",
       "price_min_before_discount            float64\n",
       "price_max                            float64\n",
       "price_max_before_discount            float64\n",
       "price                                float64\n",
       "price_before_discount                float64\n",
       "coin_earn_label                      float64\n",
       "liked_count                          float64\n",
       "view_count                           float64\n",
       "cmt_count                            float64\n",
       "is_preferred_plus_seller              object\n",
       "show_free_shipping                    object\n",
       "images                               float64\n",
       "video_info_list                      float64\n",
       "dtype: object"
      ]
     },
     "execution_count": 43,
     "metadata": {},
     "output_type": "execute_result"
    }
   ],
   "source": [
    "train_X_df.dtypes"
   ]
  },
  {
   "cell_type": "markdown",
   "metadata": {},
   "source": [
    "Ta nhận thấy thuộc tính `discount` có kiểu dữ liệu không phù hợp, đáng lẽ phải ở dạng số. Ta hãy kiểm tra xem `discount` giữ những giá trị gì?"
   ]
  },
  {
   "cell_type": "code",
   "execution_count": 44,
   "metadata": {},
   "outputs": [
    {
     "data": {
      "text/plain": [
       "array(['48%', '46%', nan, '47%', '36%', '30%', '34%', '13%', '19%', '56%',\n",
       "       '43%', '41%', '40%', '35%', '25%', '50%', '42%', '33%', '45%',\n",
       "       '38%', '7%', '37%', '31%', '29%', '18%', '15%', '39%', '49%',\n",
       "       '20%', '44%', '26%', '5%', '24%', '32%', '21%', '23%', '27%',\n",
       "       '28%', '10%', '22%', '4%', '53%', '1%', '17%', '12%', '51%', '11%',\n",
       "       '14%', '6%', '16%', '9%', '3%', '8%', '61%', '2%', '60%', '52%'],\n",
       "      dtype=object)"
      ]
     },
     "execution_count": 44,
     "metadata": {},
     "output_type": "execute_result"
    }
   ],
   "source": [
    "train_X_df['discount'].unique()"
   ]
  },
  {
   "cell_type": "markdown",
   "metadata": {},
   "source": [
    "Nhận xét: `discount` gồm con số và theo sau là kí tự %, `discount` có giá trị nan"
   ]
  },
  {
   "cell_type": "markdown",
   "metadata": {},
   "source": [
    "### 2. Phân bố giá trị của cột có kiểu dữ liệu dạng số\n",
    "\n",
    "- Tỉ lệ % (từ 0 đến 100) các giá trị thiếu \n",
    "- Giá trị min\n",
    "- Giá trị lower quartile (phân vị 25)\n",
    "- Giá trị median (phân vị 50)\n",
    "- Giá trị upper quartile (phân vị 75)\n",
    "- Giá trị max\n",
    "\n",
    "Kết quả được lưu vào DataFrame `num_col_info_df`, trong đó: \n",
    "- Tên của các cột là tên của các cột số trong `train_X_df`\n",
    "- Tên của các dòng là: \"missing_ratio\", \"min\", \"lower_quartile\", \"median\", \"upper_quartile\", \"max\" "
   ]
  },
  {
   "cell_type": "code",
   "execution_count": 45,
   "metadata": {},
   "outputs": [],
   "source": [
    "num_cols = ['item_public_time','item_be_got_time', 'sell_time', 'discount', \n",
    "            'options', 'rating_star' ,'five_star', 'four_star', 'three_star', \n",
    "            'two_star' ,'one_star' ,'price_min_before_discount', 'price_max', 'price_min', \n",
    "            'price_max_before_discount', 'price', 'price_before_discount', \n",
    "            'liked_count', 'view_count', 'cmt_count','images', 'video_info_list']\n",
    "cat_cols = list(set(train_X_df.columns) - set(num_cols))"
   ]
  },
  {
   "cell_type": "code",
   "execution_count": 46,
   "metadata": {},
   "outputs": [
    {
     "data": {
      "text/html": [
       "<div>\n",
       "<style scoped>\n",
       "    .dataframe tbody tr th:only-of-type {\n",
       "        vertical-align: middle;\n",
       "    }\n",
       "\n",
       "    .dataframe tbody tr th {\n",
       "        vertical-align: top;\n",
       "    }\n",
       "\n",
       "    .dataframe thead th {\n",
       "        text-align: right;\n",
       "    }\n",
       "</style>\n",
       "<table border=\"1\" class=\"dataframe\">\n",
       "  <thead>\n",
       "    <tr style=\"text-align: right;\">\n",
       "      <th></th>\n",
       "      <th>item_public_time</th>\n",
       "      <th>item_be_got_time</th>\n",
       "      <th>sell_time</th>\n",
       "      <th>discount</th>\n",
       "      <th>options</th>\n",
       "      <th>rating_star</th>\n",
       "      <th>five_star</th>\n",
       "      <th>four_star</th>\n",
       "      <th>three_star</th>\n",
       "      <th>two_star</th>\n",
       "      <th>one_star</th>\n",
       "      <th>price_min_before_discount</th>\n",
       "      <th>price_max</th>\n",
       "      <th>price_min</th>\n",
       "      <th>price_max_before_discount</th>\n",
       "      <th>price</th>\n",
       "      <th>price_before_discount</th>\n",
       "      <th>liked_count</th>\n",
       "      <th>view_count</th>\n",
       "      <th>cmt_count</th>\n",
       "      <th>images</th>\n",
       "      <th>video_info_list</th>\n",
       "    </tr>\n",
       "  </thead>\n",
       "  <tbody>\n",
       "    <tr>\n",
       "      <th>missing_ratio</th>\n",
       "      <td>0.000000e+00</td>\n",
       "      <td>0.000000e+00</td>\n",
       "      <td>0.0</td>\n",
       "      <td>29.3</td>\n",
       "      <td>0.0</td>\n",
       "      <td>0.0</td>\n",
       "      <td>0.0</td>\n",
       "      <td>0.0</td>\n",
       "      <td>0.0</td>\n",
       "      <td>0.0</td>\n",
       "      <td>0.0</td>\n",
       "      <td>0.000000e+00</td>\n",
       "      <td>0.000000e+00</td>\n",
       "      <td>0.000000e+00</td>\n",
       "      <td>0.000000e+00</td>\n",
       "      <td>0.000000e+00</td>\n",
       "      <td>0.000000e+00</td>\n",
       "      <td>0.0</td>\n",
       "      <td>0.0</td>\n",
       "      <td>0.0</td>\n",
       "      <td>0.0</td>\n",
       "      <td>0.0</td>\n",
       "    </tr>\n",
       "    <tr>\n",
       "      <th>min</th>\n",
       "      <td>1.439048e+09</td>\n",
       "      <td>1.609910e+09</td>\n",
       "      <td>70041.0</td>\n",
       "      <td>NaN</td>\n",
       "      <td>0.0</td>\n",
       "      <td>0.0</td>\n",
       "      <td>0.0</td>\n",
       "      <td>0.0</td>\n",
       "      <td>0.0</td>\n",
       "      <td>0.0</td>\n",
       "      <td>0.0</td>\n",
       "      <td>-1.000000e+00</td>\n",
       "      <td>2.730000e+08</td>\n",
       "      <td>2.665000e+08</td>\n",
       "      <td>-1.000000e+00</td>\n",
       "      <td>2.665000e+08</td>\n",
       "      <td>0.000000e+00</td>\n",
       "      <td>0.0</td>\n",
       "      <td>0.0</td>\n",
       "      <td>0.0</td>\n",
       "      <td>1.0</td>\n",
       "      <td>0.0</td>\n",
       "    </tr>\n",
       "    <tr>\n",
       "      <th>lower_quartile</th>\n",
       "      <td>1.559014e+09</td>\n",
       "      <td>1.609949e+09</td>\n",
       "      <td>12112114.8</td>\n",
       "      <td>NaN</td>\n",
       "      <td>4.0</td>\n",
       "      <td>4.0</td>\n",
       "      <td>1.0</td>\n",
       "      <td>0.0</td>\n",
       "      <td>0.0</td>\n",
       "      <td>0.0</td>\n",
       "      <td>0.0</td>\n",
       "      <td>-1.000000e+00</td>\n",
       "      <td>7.500000e+09</td>\n",
       "      <td>6.900000e+09</td>\n",
       "      <td>-1.000000e+00</td>\n",
       "      <td>6.900000e+09</td>\n",
       "      <td>0.000000e+00</td>\n",
       "      <td>1.0</td>\n",
       "      <td>4.0</td>\n",
       "      <td>1.0</td>\n",
       "      <td>5.0</td>\n",
       "      <td>0.0</td>\n",
       "    </tr>\n",
       "    <tr>\n",
       "      <th>median</th>\n",
       "      <td>1.583827e+09</td>\n",
       "      <td>1.609994e+09</td>\n",
       "      <td>26419699.5</td>\n",
       "      <td>NaN</td>\n",
       "      <td>9.0</td>\n",
       "      <td>4.9</td>\n",
       "      <td>3.0</td>\n",
       "      <td>0.0</td>\n",
       "      <td>0.0</td>\n",
       "      <td>0.0</td>\n",
       "      <td>0.0</td>\n",
       "      <td>1.250000e+10</td>\n",
       "      <td>1.152140e+10</td>\n",
       "      <td>1.098500e+10</td>\n",
       "      <td>1.290000e+10</td>\n",
       "      <td>1.098500e+10</td>\n",
       "      <td>1.250000e+10</td>\n",
       "      <td>8.0</td>\n",
       "      <td>42.0</td>\n",
       "      <td>3.0</td>\n",
       "      <td>8.0</td>\n",
       "      <td>0.0</td>\n",
       "    </tr>\n",
       "    <tr>\n",
       "      <th>upper_quartile</th>\n",
       "      <td>1.598262e+09</td>\n",
       "      <td>1.610629e+09</td>\n",
       "      <td>51440169.5</td>\n",
       "      <td>NaN</td>\n",
       "      <td>18.0</td>\n",
       "      <td>5.0</td>\n",
       "      <td>14.0</td>\n",
       "      <td>1.0</td>\n",
       "      <td>0.0</td>\n",
       "      <td>0.0</td>\n",
       "      <td>0.0</td>\n",
       "      <td>2.100000e+10</td>\n",
       "      <td>1.890000e+10</td>\n",
       "      <td>1.850000e+10</td>\n",
       "      <td>2.150000e+10</td>\n",
       "      <td>1.850000e+10</td>\n",
       "      <td>2.100000e+10</td>\n",
       "      <td>185.0</td>\n",
       "      <td>204.0</td>\n",
       "      <td>15.0</td>\n",
       "      <td>9.0</td>\n",
       "      <td>0.0</td>\n",
       "    </tr>\n",
       "    <tr>\n",
       "      <th>max</th>\n",
       "      <td>1.610296e+09</td>\n",
       "      <td>1.610639e+09</td>\n",
       "      <td>171590688.0</td>\n",
       "      <td>NaN</td>\n",
       "      <td>80.0</td>\n",
       "      <td>5.0</td>\n",
       "      <td>7869.0</td>\n",
       "      <td>777.0</td>\n",
       "      <td>427.0</td>\n",
       "      <td>199.0</td>\n",
       "      <td>462.0</td>\n",
       "      <td>1.750000e+11</td>\n",
       "      <td>6.900000e+11</td>\n",
       "      <td>6.900000e+11</td>\n",
       "      <td>1.750000e+11</td>\n",
       "      <td>6.900000e+11</td>\n",
       "      <td>1.750000e+11</td>\n",
       "      <td>70382.0</td>\n",
       "      <td>189252.0</td>\n",
       "      <td>9737.0</td>\n",
       "      <td>9.0</td>\n",
       "      <td>1.0</td>\n",
       "    </tr>\n",
       "  </tbody>\n",
       "</table>\n",
       "</div>"
      ],
      "text/plain": [
       "                item_public_time  item_be_got_time    sell_time  discount  options  rating_star  five_star  four_star  three_star  two_star  one_star  price_min_before_discount     price_max     price_min  price_max_before_discount         price  price_before_discount  liked_count  view_count  cmt_count  images  video_info_list\n",
       "missing_ratio       0.000000e+00      0.000000e+00          0.0      29.3      0.0          0.0        0.0        0.0         0.0       0.0       0.0               0.000000e+00  0.000000e+00  0.000000e+00               0.000000e+00  0.000000e+00           0.000000e+00          0.0         0.0        0.0     0.0              0.0\n",
       "min                 1.439048e+09      1.609910e+09      70041.0       NaN      0.0          0.0        0.0        0.0         0.0       0.0       0.0              -1.000000e+00  2.730000e+08  2.665000e+08              -1.000000e+00  2.665000e+08           0.000000e+00          0.0         0.0        0.0     1.0              0.0\n",
       "lower_quartile      1.559014e+09      1.609949e+09   12112114.8       NaN      4.0          4.0        1.0        0.0         0.0       0.0       0.0              -1.000000e+00  7.500000e+09  6.900000e+09              -1.000000e+00  6.900000e+09           0.000000e+00          1.0         4.0        1.0     5.0              0.0\n",
       "median              1.583827e+09      1.609994e+09   26419699.5       NaN      9.0          4.9        3.0        0.0         0.0       0.0       0.0               1.250000e+10  1.152140e+10  1.098500e+10               1.290000e+10  1.098500e+10           1.250000e+10          8.0        42.0        3.0     8.0              0.0\n",
       "upper_quartile      1.598262e+09      1.610629e+09   51440169.5       NaN     18.0          5.0       14.0        1.0         0.0       0.0       0.0               2.100000e+10  1.890000e+10  1.850000e+10               2.150000e+10  1.850000e+10           2.100000e+10        185.0       204.0       15.0     9.0              0.0\n",
       "max                 1.610296e+09      1.610639e+09  171590688.0       NaN     80.0          5.0     7869.0      777.0       427.0     199.0     462.0               1.750000e+11  6.900000e+11  6.900000e+11               1.750000e+11  6.900000e+11           1.750000e+11      70382.0    189252.0     9737.0     9.0              1.0"
      ]
     },
     "execution_count": 46,
     "metadata": {},
     "output_type": "execute_result"
    }
   ],
   "source": [
    "def missing_ratio(df):\n",
    "    return (df.isna().mean() * 100).round(1)\n",
    "def lower_quartile(df):\n",
    "    return df.quantile(0.25)\n",
    "def median(df):\n",
    "    return df.quantile(0.5)\n",
    "def upper_quartile(df):\n",
    "    return df.quantile(0.75)\n",
    "df = train_X_df[num_cols]\n",
    "num_col_info_df = df.agg([missing_ratio, min, lower_quartile, median, upper_quartile, max]).round(1)\n",
    "num_col_info_df"
   ]
  },
  {
   "cell_type": "markdown",
   "metadata": {},
   "source": [
    "Nhận xét: Tuy một số thuộc tính có phân bố bị lệch nhưng điều này không ảnh hưởng đến việc mô hình hóa, nhìn chung thì không có gì bất thường cả"
   ]
  },
  {
   "cell_type": "markdown",
   "metadata": {},
   "source": [
    "### 3. Phân bố giá trị của cột có kiểu dữ liệu không phải dạng số\n",
    "\n",
    "- Tỉ lệ % (từ 0 đến 100) các giá trị thiếu \n",
    "\n",
    "- Số lượng các giá trị (các giá trị ở đây là các giá trị khác nhau và ta không xét giá trị thiếu)\n",
    "\n",
    "- Tỉ lệ % (từ 0 đến 100) của mỗi giá trị được sort theo tỉ lệ % giảm dần (ta không xét giá trị thiếu, tỉ lệ là tỉ lệ so với số lượng các giá trị không thiếu): dùng dictionary để lưu, key là giá trị, value là tỉ lệ %\n",
    "\n",
    "Kết quả được lưu vào DataFrame `cat_col_info_df`, trong đó: \n",
    "\n",
    "- Tên của các cột là tên của các cột không phải số trong `train_X_df`\n",
    "- Tên của các dòng là: \"missing_ratio\", \"num_values\", \"value_ratios\"  "
   ]
  },
  {
   "cell_type": "markdown",
   "metadata": {},
   "source": [
    "Trước hết kiểm tra có bao nhiêu giá trị `name`"
   ]
  },
  {
   "cell_type": "code",
   "execution_count": 47,
   "metadata": {},
   "outputs": [
    {
     "data": {
      "text/plain": [
       "2213"
      ]
     },
     "execution_count": 47,
     "metadata": {},
     "output_type": "execute_result"
    }
   ],
   "source": [
    "len(train_X_df['name'].unique())"
   ]
  },
  {
   "cell_type": "markdown",
   "metadata": {},
   "source": [
    "Do giá trị `name` rất nhiều ta sẽ không xét nó nữa và sẽ xóa trong phần tiền xử lý"
   ]
  },
  {
   "cell_type": "code",
   "execution_count": 48,
   "metadata": {},
   "outputs": [],
   "source": [
    "cat_cols = list(set(cat_cols) - set(['name']))"
   ]
  },
  {
   "cell_type": "code",
   "execution_count": 49,
   "metadata": {},
   "outputs": [
    {
     "data": {
      "text/html": [
       "<div>\n",
       "<style scoped>\n",
       "    .dataframe tbody tr th:only-of-type {\n",
       "        vertical-align: middle;\n",
       "    }\n",
       "\n",
       "    .dataframe tbody tr th {\n",
       "        vertical-align: top;\n",
       "    }\n",
       "\n",
       "    .dataframe thead th {\n",
       "        text-align: right;\n",
       "    }\n",
       "</style>\n",
       "<table border=\"1\" class=\"dataframe\">\n",
       "  <thead>\n",
       "    <tr style=\"text-align: right;\">\n",
       "      <th></th>\n",
       "      <th>is_preferred_plus_seller</th>\n",
       "      <th>is_adult</th>\n",
       "      <th>flash_sale</th>\n",
       "      <th>upcoming_flash_sale</th>\n",
       "      <th>show_official_shop_label_in_title</th>\n",
       "      <th>coin_earn_label</th>\n",
       "      <th>category_id</th>\n",
       "      <th>shop_location</th>\n",
       "      <th>shopee_verified</th>\n",
       "      <th>show_free_shipping</th>\n",
       "    </tr>\n",
       "  </thead>\n",
       "  <tbody>\n",
       "    <tr>\n",
       "      <th>missing_ratio</th>\n",
       "      <td>0</td>\n",
       "      <td>0</td>\n",
       "      <td>100</td>\n",
       "      <td>100</td>\n",
       "      <td>0.9</td>\n",
       "      <td>100</td>\n",
       "      <td>0</td>\n",
       "      <td>0.7</td>\n",
       "      <td>0</td>\n",
       "      <td>0</td>\n",
       "    </tr>\n",
       "    <tr>\n",
       "      <th>num_values</th>\n",
       "      <td>2</td>\n",
       "      <td>2</td>\n",
       "      <td>0</td>\n",
       "      <td>0</td>\n",
       "      <td>2</td>\n",
       "      <td>0</td>\n",
       "      <td>9</td>\n",
       "      <td>36</td>\n",
       "      <td>2</td>\n",
       "      <td>2</td>\n",
       "    </tr>\n",
       "    <tr>\n",
       "      <th>value_ratios</th>\n",
       "      <td>{False: 93.1, True: 6.9}</td>\n",
       "      <td>{'False': 100.0, 'True': 0.0}</td>\n",
       "      <td>{}</td>\n",
       "      <td>{}</td>\n",
       "      <td>{'False': 95.6, 'True': 4.4}</td>\n",
       "      <td>{}</td>\n",
       "      <td>{15139: 24.3, 8947: 14.1, 8948: 13.5, 2429: 13.1, 1899: 11.7, 2831: 8.0, 9572: 7.4, 2829: 4.8, 8945: 3.1}</td>\n",
       "      <td>{'Hà Nội': 40.1, 'Nước ngoài': 27.0, 'TP. Hồ Chí Minh': 26.8, 'Bình Định': 0.8, 'Bình Dương': 0.7, 'Quảng Ninh': 0.6, 'Hà Nam': 0.5, 'Phú Thọ': 0.5, 'Đồng Nai': 0.5, 'Hưng Yên': 0.2, 'Bắc Ninh': 0.2, 'Lào Cai': 0.2, 'Hải Dương': 0.2, 'An Giang': 0.2, 'Hải Phòng': 0.2, 'Đắk Nông': 0.2, 'Đắk Lắk': 0.2, 'Nghệ An': 0.1, 'Cần Thơ': 0.1, 'Ninh Bình': 0.1, 'Kon Tum': 0.1, 'Thừa Thiên Huế': 0.1, 'Thái Nguyên': 0.1, 'Đà Nẵng': 0.1, 'Nam Định': 0.1, 'Bà Rịa - Vũng Tàu': 0.1, 'Bình Thuận': 0.0, 'Thanh Hóa': 0.0, 'TP. Hồ Chí': 0.0, 'Thái Bình': 0.0, 'Vĩnh Phúc': 0.0, 'Bắc Kạn': 0.0, 'Bắc Giang': 0.0, 'Cà Mau': 0.0, 'Tiền Giang': 0.0, 'Lâm Đồng': 0.0}</td>\n",
       "      <td>{False: 57.1, True: 42.9}</td>\n",
       "      <td>{False: 56.7, True: 43.3}</td>\n",
       "    </tr>\n",
       "  </tbody>\n",
       "</table>\n",
       "</div>"
      ],
      "text/plain": [
       "               is_preferred_plus_seller                       is_adult flash_sale upcoming_flash_sale show_official_shop_label_in_title coin_earn_label                                                                                                category_id                                                                                                                                                                                                                                                                                                                                                                                                                                                                                                                                                                                                                                                           shop_location            shopee_verified         show_free_shipping\n",
       "missing_ratio                         0                              0        100                 100                               0.9             100                                                                                                          0                                                                                                                                                                                                                                                                                                                                                                                                                                                                                                                                                                                                                                                                     0.7                          0                          0\n",
       "num_values                            2                              2          0                   0                                 2               0                                                                                                          9                                                                                                                                                                                                                                                                                                                                                                                                                                                                                                                                                                                                                                                                      36                          2                          2\n",
       "value_ratios   {False: 93.1, True: 6.9}  {'False': 100.0, 'True': 0.0}         {}                  {}      {'False': 95.6, 'True': 4.4}              {}  {15139: 24.3, 8947: 14.1, 8948: 13.5, 2429: 13.1, 1899: 11.7, 2831: 8.0, 9572: 7.4, 2829: 4.8, 8945: 3.1}  {'Hà Nội': 40.1, 'Nước ngoài': 27.0, 'TP. Hồ Chí Minh': 26.8, 'Bình Định': 0.8, 'Bình Dương': 0.7, 'Quảng Ninh': 0.6, 'Hà Nam': 0.5, 'Phú Thọ': 0.5, 'Đồng Nai': 0.5, 'Hưng Yên': 0.2, 'Bắc Ninh': 0.2, 'Lào Cai': 0.2, 'Hải Dương': 0.2, 'An Giang': 0.2, 'Hải Phòng': 0.2, 'Đắk Nông': 0.2, 'Đắk Lắk': 0.2, 'Nghệ An': 0.1, 'Cần Thơ': 0.1, 'Ninh Bình': 0.1, 'Kon Tum': 0.1, 'Thừa Thiên Huế': 0.1, 'Thái Nguyên': 0.1, 'Đà Nẵng': 0.1, 'Nam Định': 0.1, 'Bà Rịa - Vũng Tàu': 0.1, 'Bình Thuận': 0.0, 'Thanh Hóa': 0.0, 'TP. Hồ Chí': 0.0, 'Thái Bình': 0.0, 'Vĩnh Phúc': 0.0, 'Bắc Kạn': 0.0, 'Bắc Giang': 0.0, 'Cà Mau': 0.0, 'Tiền Giang': 0.0, 'Lâm Đồng': 0.0}  {False: 57.1, True: 42.9}  {False: 56.7, True: 43.3}"
      ]
     },
     "execution_count": 49,
     "metadata": {},
     "output_type": "execute_result"
    }
   ],
   "source": [
    "def missing_ratio(df):\n",
    "    return (df.isna().mean() * 100).round(1)\n",
    "def num_values(df):\n",
    "    return df.nunique()\n",
    "def value_ratios(c):\n",
    "    return dict((c.value_counts(normalize=True) * 100).round(1))\n",
    "df = train_X_df[cat_cols]\n",
    "cat_col_info_df = df.agg([missing_ratio, num_values, value_ratios])\n",
    "cat_col_info_df"
   ]
  },
  {
   "cell_type": "markdown",
   "metadata": {},
   "source": [
    "Nhận xét: \n",
    "- Thuộc tính `coin_earn_label`, `flash_sale` và `upcoming_flash_sale` thiếu 100% giá trị, ta sẽ xóa  ba thuộc tính này bằng câu lệnh sau:\n",
    "```python\n",
    "Pandas.DataFrame.dropna(axis = 1, how = 'all')\n",
    "```\n",
    "- Thuộc tính `is_adult` có 100% giá trị False, ta xóa thuộc tính này\n",
    "- Thuộc tính `show_official_shop_label_in_title` thiếu 0.6%, có giá trị True False nhưng ở dạng chuỗi\n",
    "- Thuộc tính `shop_location` có 3 giá trị chiếm phần lớn mẫu là 'Hà Nội', 'TP. Hồ Chí Minh', 'Nước ngoài' với tỉ lệ chiếm là hơn 90%"
   ]
  },
  {
   "cell_type": "markdown",
   "metadata": {},
   "source": [
    "- Thuộc tính `shop_location` _thiếu_ 0.5%\n",
    "\n",
    "  - Ta có thể xóa các mẫu bị thiếu dữ liệu do thiếu ít, hoặc điền giá trị thiếu nhờ hỗ trợ của thư viện SciKit Learn nhưng ta sẽ thử xử lý ở thuộc tính này thay vì xóa hẳn.\n",
    "\n",
    "  - Lưu ý rằng các dữ liệu này vẫn hoạt động tốt trên shopee nên ta dùng lệnh sau để xem những mẫu nào bị _thiếu_ và đối chiếu với trên shopee.\n",
    "```python\n",
    "items_df.loc[items_df['shop_location'].isnull()]\n",
    "```\n",
    "\n",
    "Sau khi đối chiếu ta được kết quả sau: \n",
    "\n",
    "Mẫu không thiếu:\n",
    "\n",
    "![shop_location_not_missing_value](images/shop_location_not_missing_value.jpg)\n",
    "\n",
    "Mẫu thiếu:\n",
    "\n",
    "![shop_location_missing_value](images/shop_location_missing_value.jpg)\n",
    "\n",
    "Tức là những mẫu có thuộc tính shop_location thiếu sẽ không hiển thị vị trí shop ở góc dưới.\n",
    "\n",
    "Vậy ta sẽ xử lý bằng cách thay các giá trị thiếu này thành chuỗi \"None\".\n"
   ]
  },
  {
   "cell_type": "code",
   "execution_count": 50,
   "metadata": {},
   "outputs": [
    {
     "data": {
      "text/html": [
       "<div>\n",
       "<style scoped>\n",
       "    .dataframe tbody tr th:only-of-type {\n",
       "        vertical-align: middle;\n",
       "    }\n",
       "\n",
       "    .dataframe tbody tr th {\n",
       "        vertical-align: top;\n",
       "    }\n",
       "\n",
       "    .dataframe thead th {\n",
       "        text-align: right;\n",
       "    }\n",
       "</style>\n",
       "<table border=\"1\" class=\"dataframe\">\n",
       "  <thead>\n",
       "    <tr style=\"text-align: right;\">\n",
       "      <th></th>\n",
       "      <th>category_id</th>\n",
       "      <th>name</th>\n",
       "      <th>shop_location</th>\n",
       "      <th>item_public_time</th>\n",
       "      <th>item_be_got_time</th>\n",
       "      <th>sell_time</th>\n",
       "      <th>shopee_verified</th>\n",
       "      <th>discount</th>\n",
       "      <th>is_adult</th>\n",
       "      <th>options</th>\n",
       "      <th>show_official_shop_label_in_title</th>\n",
       "      <th>rating_star</th>\n",
       "      <th>five_star</th>\n",
       "      <th>four_star</th>\n",
       "      <th>three_star</th>\n",
       "      <th>two_star</th>\n",
       "      <th>one_star</th>\n",
       "      <th>flash_sale</th>\n",
       "      <th>upcoming_flash_sale</th>\n",
       "      <th>price_min</th>\n",
       "      <th>price_min_before_discount</th>\n",
       "      <th>price_max</th>\n",
       "      <th>price_max_before_discount</th>\n",
       "      <th>price</th>\n",
       "      <th>price_before_discount</th>\n",
       "      <th>coin_earn_label</th>\n",
       "      <th>liked_count</th>\n",
       "      <th>view_count</th>\n",
       "      <th>cmt_count</th>\n",
       "      <th>is_preferred_plus_seller</th>\n",
       "      <th>show_free_shipping</th>\n",
       "      <th>images</th>\n",
       "      <th>video_info_list</th>\n",
       "      <th>historical_sold</th>\n",
       "    </tr>\n",
       "  </thead>\n",
       "  <tbody>\n",
       "    <tr>\n",
       "      <th>4126</th>\n",
       "      <td>2831</td>\n",
       "      <td>Nón Kết Đen ❤FREESHIP❤ Mũ lưỡi trai nam nữ thời trang Hàn Quốc hàng chất lượng tốt loại 1</td>\n",
       "      <td>NaN</td>\n",
       "      <td>1.599018e+09</td>\n",
       "      <td>1.609910e+09</td>\n",
       "      <td>10892814.0</td>\n",
       "      <td>False</td>\n",
       "      <td>10%</td>\n",
       "      <td>False</td>\n",
       "      <td>1.0</td>\n",
       "      <td>NaN</td>\n",
       "      <td>5.000000</td>\n",
       "      <td>1.0</td>\n",
       "      <td>0.0</td>\n",
       "      <td>0.0</td>\n",
       "      <td>0.0</td>\n",
       "      <td>0.0</td>\n",
       "      <td>NaN</td>\n",
       "      <td>NaN</td>\n",
       "      <td>9.900000e+09</td>\n",
       "      <td>1.100000e+10</td>\n",
       "      <td>9.900000e+09</td>\n",
       "      <td>1.100000e+10</td>\n",
       "      <td>9.900000e+09</td>\n",
       "      <td>1.100000e+10</td>\n",
       "      <td>NaN</td>\n",
       "      <td>6.0</td>\n",
       "      <td>116.0</td>\n",
       "      <td>1.0</td>\n",
       "      <td>False</td>\n",
       "      <td>False</td>\n",
       "      <td>5.0</td>\n",
       "      <td>0.0</td>\n",
       "      <td>0.693147</td>\n",
       "    </tr>\n",
       "    <tr>\n",
       "      <th>2381</th>\n",
       "      <td>9572</td>\n",
       "      <td>[Nhung123] Túi đeo chéo 🎒 Free Ship 🎒 Túi đeo vai thời trang nam</td>\n",
       "      <td>NaN</td>\n",
       "      <td>1.607187e+09</td>\n",
       "      <td>1.609994e+09</td>\n",
       "      <td>2807274.0</td>\n",
       "      <td>False</td>\n",
       "      <td>NaN</td>\n",
       "      <td>False</td>\n",
       "      <td>5.0</td>\n",
       "      <td>False</td>\n",
       "      <td>0.000000</td>\n",
       "      <td>0.0</td>\n",
       "      <td>0.0</td>\n",
       "      <td>0.0</td>\n",
       "      <td>0.0</td>\n",
       "      <td>0.0</td>\n",
       "      <td>NaN</td>\n",
       "      <td>NaN</td>\n",
       "      <td>1.694000e+10</td>\n",
       "      <td>-1.000000e+00</td>\n",
       "      <td>1.694000e+10</td>\n",
       "      <td>-1.000000e+00</td>\n",
       "      <td>1.694000e+10</td>\n",
       "      <td>0.000000e+00</td>\n",
       "      <td>NaN</td>\n",
       "      <td>0.0</td>\n",
       "      <td>0.0</td>\n",
       "      <td>0.0</td>\n",
       "      <td>False</td>\n",
       "      <td>False</td>\n",
       "      <td>9.0</td>\n",
       "      <td>0.0</td>\n",
       "      <td>0.000000</td>\n",
       "    </tr>\n",
       "    <tr>\n",
       "      <th>5107</th>\n",
       "      <td>1899</td>\n",
       "      <td>[ DEAL KHỦNG ] Quần short jeans nam thiết kế thời trang cao cấp nam , quần sọt jean thời trang nam C12 - TCBOUTIQUE</td>\n",
       "      <td>NaN</td>\n",
       "      <td>1.608439e+09</td>\n",
       "      <td>1.609992e+09</td>\n",
       "      <td>1552897.0</td>\n",
       "      <td>False</td>\n",
       "      <td>NaN</td>\n",
       "      <td>False</td>\n",
       "      <td>6.0</td>\n",
       "      <td>False</td>\n",
       "      <td>0.000000</td>\n",
       "      <td>0.0</td>\n",
       "      <td>0.0</td>\n",
       "      <td>0.0</td>\n",
       "      <td>0.0</td>\n",
       "      <td>0.0</td>\n",
       "      <td>NaN</td>\n",
       "      <td>NaN</td>\n",
       "      <td>1.853330e+10</td>\n",
       "      <td>-1.000000e+00</td>\n",
       "      <td>1.853330e+10</td>\n",
       "      <td>-1.000000e+00</td>\n",
       "      <td>1.853330e+10</td>\n",
       "      <td>0.000000e+00</td>\n",
       "      <td>NaN</td>\n",
       "      <td>0.0</td>\n",
       "      <td>3.0</td>\n",
       "      <td>0.0</td>\n",
       "      <td>False</td>\n",
       "      <td>False</td>\n",
       "      <td>5.0</td>\n",
       "      <td>0.0</td>\n",
       "      <td>0.000000</td>\n",
       "    </tr>\n",
       "    <tr>\n",
       "      <th>2386</th>\n",
       "      <td>9572</td>\n",
       "      <td>[Nhung123] Túi đeo chéo 🎒 Free Ship 🎒 Túi đeo vai thời trang nam</td>\n",
       "      <td>NaN</td>\n",
       "      <td>1.607187e+09</td>\n",
       "      <td>1.609994e+09</td>\n",
       "      <td>2807280.0</td>\n",
       "      <td>False</td>\n",
       "      <td>NaN</td>\n",
       "      <td>False</td>\n",
       "      <td>5.0</td>\n",
       "      <td>False</td>\n",
       "      <td>0.000000</td>\n",
       "      <td>0.0</td>\n",
       "      <td>0.0</td>\n",
       "      <td>0.0</td>\n",
       "      <td>0.0</td>\n",
       "      <td>0.0</td>\n",
       "      <td>NaN</td>\n",
       "      <td>NaN</td>\n",
       "      <td>1.694000e+10</td>\n",
       "      <td>-1.000000e+00</td>\n",
       "      <td>1.694000e+10</td>\n",
       "      <td>-1.000000e+00</td>\n",
       "      <td>1.694000e+10</td>\n",
       "      <td>0.000000e+00</td>\n",
       "      <td>NaN</td>\n",
       "      <td>0.0</td>\n",
       "      <td>0.0</td>\n",
       "      <td>0.0</td>\n",
       "      <td>False</td>\n",
       "      <td>False</td>\n",
       "      <td>9.0</td>\n",
       "      <td>0.0</td>\n",
       "      <td>0.000000</td>\n",
       "    </tr>\n",
       "    <tr>\n",
       "      <th>3850</th>\n",
       "      <td>2831</td>\n",
       "      <td>Khăn quàng cổ nam ấp đẹp thời trang</td>\n",
       "      <td>NaN</td>\n",
       "      <td>1.590046e+09</td>\n",
       "      <td>1.609910e+09</td>\n",
       "      <td>19864572.0</td>\n",
       "      <td>False</td>\n",
       "      <td>NaN</td>\n",
       "      <td>False</td>\n",
       "      <td>3.0</td>\n",
       "      <td>NaN</td>\n",
       "      <td>4.947368</td>\n",
       "      <td>54.0</td>\n",
       "      <td>3.0</td>\n",
       "      <td>0.0</td>\n",
       "      <td>0.0</td>\n",
       "      <td>0.0</td>\n",
       "      <td>NaN</td>\n",
       "      <td>NaN</td>\n",
       "      <td>2.090000e+10</td>\n",
       "      <td>-1.000000e+00</td>\n",
       "      <td>2.090000e+10</td>\n",
       "      <td>-1.000000e+00</td>\n",
       "      <td>2.090000e+10</td>\n",
       "      <td>0.000000e+00</td>\n",
       "      <td>NaN</td>\n",
       "      <td>55.0</td>\n",
       "      <td>644.0</td>\n",
       "      <td>57.0</td>\n",
       "      <td>False</td>\n",
       "      <td>False</td>\n",
       "      <td>8.0</td>\n",
       "      <td>0.0</td>\n",
       "      <td>4.454347</td>\n",
       "    </tr>\n",
       "    <tr>\n",
       "      <th>3857</th>\n",
       "      <td>2831</td>\n",
       "      <td>Nón kết, Mũ lưỡi trai thể thao lưới 2 lớp cao cấp thấm hút mồ hôi thời trang nam</td>\n",
       "      <td>NaN</td>\n",
       "      <td>1.591948e+09</td>\n",
       "      <td>1.609910e+09</td>\n",
       "      <td>17962064.0</td>\n",
       "      <td>False</td>\n",
       "      <td>25%</td>\n",
       "      <td>False</td>\n",
       "      <td>3.0</td>\n",
       "      <td>NaN</td>\n",
       "      <td>4.888889</td>\n",
       "      <td>8.0</td>\n",
       "      <td>1.0</td>\n",
       "      <td>0.0</td>\n",
       "      <td>0.0</td>\n",
       "      <td>0.0</td>\n",
       "      <td>NaN</td>\n",
       "      <td>NaN</td>\n",
       "      <td>4.900000e+09</td>\n",
       "      <td>6.500000e+09</td>\n",
       "      <td>4.900000e+09</td>\n",
       "      <td>6.500000e+09</td>\n",
       "      <td>4.900000e+09</td>\n",
       "      <td>6.500000e+09</td>\n",
       "      <td>NaN</td>\n",
       "      <td>3.0</td>\n",
       "      <td>114.0</td>\n",
       "      <td>9.0</td>\n",
       "      <td>False</td>\n",
       "      <td>False</td>\n",
       "      <td>5.0</td>\n",
       "      <td>1.0</td>\n",
       "      <td>2.995732</td>\n",
       "    </tr>\n",
       "    <tr>\n",
       "      <th>3859</th>\n",
       "      <td>2831</td>\n",
       "      <td>Mũ nón lưỡi trai nam Ediko thời trang nam</td>\n",
       "      <td>NaN</td>\n",
       "      <td>1.607101e+09</td>\n",
       "      <td>1.609910e+09</td>\n",
       "      <td>2809294.0</td>\n",
       "      <td>False</td>\n",
       "      <td>NaN</td>\n",
       "      <td>False</td>\n",
       "      <td>1.0</td>\n",
       "      <td>NaN</td>\n",
       "      <td>5.000000</td>\n",
       "      <td>3.0</td>\n",
       "      <td>0.0</td>\n",
       "      <td>0.0</td>\n",
       "      <td>0.0</td>\n",
       "      <td>0.0</td>\n",
       "      <td>NaN</td>\n",
       "      <td>NaN</td>\n",
       "      <td>2.500000e+10</td>\n",
       "      <td>-1.000000e+00</td>\n",
       "      <td>2.500000e+10</td>\n",
       "      <td>-1.000000e+00</td>\n",
       "      <td>2.500000e+10</td>\n",
       "      <td>0.000000e+00</td>\n",
       "      <td>NaN</td>\n",
       "      <td>0.0</td>\n",
       "      <td>23.0</td>\n",
       "      <td>3.0</td>\n",
       "      <td>False</td>\n",
       "      <td>False</td>\n",
       "      <td>4.0</td>\n",
       "      <td>0.0</td>\n",
       "      <td>3.663562</td>\n",
       "    </tr>\n",
       "    <tr>\n",
       "      <th>3867</th>\n",
       "      <td>2831</td>\n",
       "      <td>Vớ thời trang nam</td>\n",
       "      <td>NaN</td>\n",
       "      <td>1.544847e+09</td>\n",
       "      <td>1.609910e+09</td>\n",
       "      <td>65063516.0</td>\n",
       "      <td>False</td>\n",
       "      <td>NaN</td>\n",
       "      <td>False</td>\n",
       "      <td>4.0</td>\n",
       "      <td>NaN</td>\n",
       "      <td>5.000000</td>\n",
       "      <td>28.0</td>\n",
       "      <td>0.0</td>\n",
       "      <td>0.0</td>\n",
       "      <td>0.0</td>\n",
       "      <td>0.0</td>\n",
       "      <td>NaN</td>\n",
       "      <td>NaN</td>\n",
       "      <td>1.500000e+10</td>\n",
       "      <td>-1.000000e+00</td>\n",
       "      <td>2.500000e+10</td>\n",
       "      <td>-1.000000e+00</td>\n",
       "      <td>1.500000e+10</td>\n",
       "      <td>0.000000e+00</td>\n",
       "      <td>NaN</td>\n",
       "      <td>3.0</td>\n",
       "      <td>1.0</td>\n",
       "      <td>28.0</td>\n",
       "      <td>False</td>\n",
       "      <td>True</td>\n",
       "      <td>1.0</td>\n",
       "      <td>0.0</td>\n",
       "      <td>4.290459</td>\n",
       "    </tr>\n",
       "    <tr>\n",
       "      <th>3887</th>\n",
       "      <td>2831</td>\n",
       "      <td>Nón lưỡi trai Kaki nam nữ MrCAPs freesize, full hộp, Nón Kết thêu Logo, Trắng, Đen</td>\n",
       "      <td>NaN</td>\n",
       "      <td>1.603450e+09</td>\n",
       "      <td>1.609910e+09</td>\n",
       "      <td>6460881.0</td>\n",
       "      <td>False</td>\n",
       "      <td>7%</td>\n",
       "      <td>False</td>\n",
       "      <td>20.0</td>\n",
       "      <td>NaN</td>\n",
       "      <td>4.764706</td>\n",
       "      <td>13.0</td>\n",
       "      <td>4.0</td>\n",
       "      <td>0.0</td>\n",
       "      <td>0.0</td>\n",
       "      <td>0.0</td>\n",
       "      <td>NaN</td>\n",
       "      <td>NaN</td>\n",
       "      <td>1.390000e+10</td>\n",
       "      <td>1.500000e+10</td>\n",
       "      <td>1.390000e+10</td>\n",
       "      <td>1.500000e+10</td>\n",
       "      <td>1.390000e+10</td>\n",
       "      <td>1.500000e+10</td>\n",
       "      <td>NaN</td>\n",
       "      <td>28.0</td>\n",
       "      <td>696.0</td>\n",
       "      <td>17.0</td>\n",
       "      <td>False</td>\n",
       "      <td>False</td>\n",
       "      <td>6.0</td>\n",
       "      <td>0.0</td>\n",
       "      <td>4.025352</td>\n",
       "    </tr>\n",
       "    <tr>\n",
       "      <th>3888</th>\n",
       "      <td>2831</td>\n",
       "      <td>Mũ Nón Kết - Mũ Lưỡi Trai Kaki Rách Thời Trang Cao Cấp cực chất dành cho cả nam và nữ.</td>\n",
       "      <td>NaN</td>\n",
       "      <td>1.587717e+09</td>\n",
       "      <td>1.609910e+09</td>\n",
       "      <td>22193418.0</td>\n",
       "      <td>False</td>\n",
       "      <td>40%</td>\n",
       "      <td>False</td>\n",
       "      <td>3.0</td>\n",
       "      <td>NaN</td>\n",
       "      <td>4.802326</td>\n",
       "      <td>74.0</td>\n",
       "      <td>7.0</td>\n",
       "      <td>5.0</td>\n",
       "      <td>0.0</td>\n",
       "      <td>0.0</td>\n",
       "      <td>NaN</td>\n",
       "      <td>NaN</td>\n",
       "      <td>1.500000e+10</td>\n",
       "      <td>2.500000e+10</td>\n",
       "      <td>1.500000e+10</td>\n",
       "      <td>2.500000e+10</td>\n",
       "      <td>1.500000e+10</td>\n",
       "      <td>2.500000e+10</td>\n",
       "      <td>NaN</td>\n",
       "      <td>142.0</td>\n",
       "      <td>1237.0</td>\n",
       "      <td>86.0</td>\n",
       "      <td>False</td>\n",
       "      <td>True</td>\n",
       "      <td>9.0</td>\n",
       "      <td>0.0</td>\n",
       "      <td>5.411646</td>\n",
       "    </tr>\n",
       "    <tr>\n",
       "      <th>3889</th>\n",
       "      <td>2831</td>\n",
       "      <td>Nón lưỡi trai Kaki nam nữ MrCAPs freesize, full hộp,thời tang</td>\n",
       "      <td>NaN</td>\n",
       "      <td>1.605778e+09</td>\n",
       "      <td>1.609910e+09</td>\n",
       "      <td>4132173.0</td>\n",
       "      <td>False</td>\n",
       "      <td>7%</td>\n",
       "      <td>False</td>\n",
       "      <td>6.0</td>\n",
       "      <td>NaN</td>\n",
       "      <td>3.000000</td>\n",
       "      <td>0.0</td>\n",
       "      <td>0.0</td>\n",
       "      <td>1.0</td>\n",
       "      <td>0.0</td>\n",
       "      <td>0.0</td>\n",
       "      <td>NaN</td>\n",
       "      <td>NaN</td>\n",
       "      <td>1.390000e+10</td>\n",
       "      <td>1.500000e+10</td>\n",
       "      <td>1.390000e+10</td>\n",
       "      <td>1.500000e+10</td>\n",
       "      <td>1.390000e+10</td>\n",
       "      <td>1.500000e+10</td>\n",
       "      <td>NaN</td>\n",
       "      <td>3.0</td>\n",
       "      <td>375.0</td>\n",
       "      <td>1.0</td>\n",
       "      <td>False</td>\n",
       "      <td>False</td>\n",
       "      <td>6.0</td>\n",
       "      <td>0.0</td>\n",
       "      <td>1.386294</td>\n",
       "    </tr>\n",
       "    <tr>\n",
       "      <th>3899</th>\n",
       "      <td>2831</td>\n",
       "      <td>Khăn đa năng thời trang nam 2 lớp cao cấp theo tiêu chuẩn xuất khẩu Pháp</td>\n",
       "      <td>NaN</td>\n",
       "      <td>1.588776e+09</td>\n",
       "      <td>1.609910e+09</td>\n",
       "      <td>21134252.0</td>\n",
       "      <td>False</td>\n",
       "      <td>50%</td>\n",
       "      <td>False</td>\n",
       "      <td>3.0</td>\n",
       "      <td>NaN</td>\n",
       "      <td>4.500000</td>\n",
       "      <td>10.0</td>\n",
       "      <td>0.0</td>\n",
       "      <td>1.0</td>\n",
       "      <td>0.0</td>\n",
       "      <td>1.0</td>\n",
       "      <td>NaN</td>\n",
       "      <td>NaN</td>\n",
       "      <td>5.000000e+09</td>\n",
       "      <td>1.000000e+10</td>\n",
       "      <td>5.000000e+09</td>\n",
       "      <td>1.000000e+10</td>\n",
       "      <td>5.000000e+09</td>\n",
       "      <td>1.000000e+10</td>\n",
       "      <td>NaN</td>\n",
       "      <td>5.0</td>\n",
       "      <td>395.0</td>\n",
       "      <td>12.0</td>\n",
       "      <td>False</td>\n",
       "      <td>False</td>\n",
       "      <td>9.0</td>\n",
       "      <td>0.0</td>\n",
       "      <td>3.637586</td>\n",
       "    </tr>\n",
       "    <tr>\n",
       "      <th>3904</th>\n",
       "      <td>2831</td>\n",
       "      <td>thắt lưng da thật playboy mới nhất/ Thắt lưng thời trang nam/ dây lưng cho nam giới/ thắt lugw nâu,đen</td>\n",
       "      <td>NaN</td>\n",
       "      <td>1.507192e+09</td>\n",
       "      <td>1.609910e+09</td>\n",
       "      <td>102718833.0</td>\n",
       "      <td>False</td>\n",
       "      <td>NaN</td>\n",
       "      <td>False</td>\n",
       "      <td>1.0</td>\n",
       "      <td>NaN</td>\n",
       "      <td>5.000000</td>\n",
       "      <td>3.0</td>\n",
       "      <td>0.0</td>\n",
       "      <td>0.0</td>\n",
       "      <td>0.0</td>\n",
       "      <td>0.0</td>\n",
       "      <td>NaN</td>\n",
       "      <td>NaN</td>\n",
       "      <td>6.990000e+10</td>\n",
       "      <td>-1.000000e+00</td>\n",
       "      <td>6.990000e+10</td>\n",
       "      <td>-1.000000e+00</td>\n",
       "      <td>6.990000e+10</td>\n",
       "      <td>0.000000e+00</td>\n",
       "      <td>NaN</td>\n",
       "      <td>5.0</td>\n",
       "      <td>0.0</td>\n",
       "      <td>3.0</td>\n",
       "      <td>False</td>\n",
       "      <td>True</td>\n",
       "      <td>4.0</td>\n",
       "      <td>0.0</td>\n",
       "      <td>1.791759</td>\n",
       "    </tr>\n",
       "    <tr>\n",
       "      <th>3925</th>\n",
       "      <td>2831</td>\n",
       "      <td>Cà vạt Nam cao cấp bản nhỏ 5cm thời trang Hàn Quốc, cà vạt tự thắt - AdamZone</td>\n",
       "      <td>NaN</td>\n",
       "      <td>1.591033e+09</td>\n",
       "      <td>1.609910e+09</td>\n",
       "      <td>18877646.0</td>\n",
       "      <td>False</td>\n",
       "      <td>NaN</td>\n",
       "      <td>False</td>\n",
       "      <td>6.0</td>\n",
       "      <td>NaN</td>\n",
       "      <td>4.666667</td>\n",
       "      <td>10.0</td>\n",
       "      <td>1.0</td>\n",
       "      <td>0.0</td>\n",
       "      <td>1.0</td>\n",
       "      <td>0.0</td>\n",
       "      <td>NaN</td>\n",
       "      <td>NaN</td>\n",
       "      <td>6.500000e+09</td>\n",
       "      <td>-1.000000e+00</td>\n",
       "      <td>6.500000e+09</td>\n",
       "      <td>-1.000000e+00</td>\n",
       "      <td>6.500000e+09</td>\n",
       "      <td>0.000000e+00</td>\n",
       "      <td>NaN</td>\n",
       "      <td>11.0</td>\n",
       "      <td>556.0</td>\n",
       "      <td>12.0</td>\n",
       "      <td>False</td>\n",
       "      <td>True</td>\n",
       "      <td>6.0</td>\n",
       "      <td>0.0</td>\n",
       "      <td>3.931826</td>\n",
       "    </tr>\n",
       "    <tr>\n",
       "      <th>3932</th>\n",
       "      <td>2831</td>\n",
       "      <td>khăn choàng thời trang cho nam</td>\n",
       "      <td>NaN</td>\n",
       "      <td>1.596701e+09</td>\n",
       "      <td>1.609910e+09</td>\n",
       "      <td>13209790.0</td>\n",
       "      <td>False</td>\n",
       "      <td>NaN</td>\n",
       "      <td>False</td>\n",
       "      <td>0.0</td>\n",
       "      <td>NaN</td>\n",
       "      <td>5.000000</td>\n",
       "      <td>23.0</td>\n",
       "      <td>0.0</td>\n",
       "      <td>0.0</td>\n",
       "      <td>0.0</td>\n",
       "      <td>0.0</td>\n",
       "      <td>NaN</td>\n",
       "      <td>NaN</td>\n",
       "      <td>1.000000e+10</td>\n",
       "      <td>-1.000000e+00</td>\n",
       "      <td>3.500000e+10</td>\n",
       "      <td>-1.000000e+00</td>\n",
       "      <td>1.000000e+10</td>\n",
       "      <td>0.000000e+00</td>\n",
       "      <td>NaN</td>\n",
       "      <td>1.0</td>\n",
       "      <td>163.0</td>\n",
       "      <td>23.0</td>\n",
       "      <td>False</td>\n",
       "      <td>False</td>\n",
       "      <td>1.0</td>\n",
       "      <td>0.0</td>\n",
       "      <td>3.295837</td>\n",
       "    </tr>\n",
       "    <tr>\n",
       "      <th>3935</th>\n",
       "      <td>2831</td>\n",
       "      <td>Bộ 3 đôi vớ thời trang nam cao cấp 30SHINE INSHINE (mix màu ngẫu nhiên)</td>\n",
       "      <td>NaN</td>\n",
       "      <td>1.605102e+09</td>\n",
       "      <td>1.609910e+09</td>\n",
       "      <td>4808136.0</td>\n",
       "      <td>False</td>\n",
       "      <td>15%</td>\n",
       "      <td>False</td>\n",
       "      <td>1.0</td>\n",
       "      <td>NaN</td>\n",
       "      <td>5.000000</td>\n",
       "      <td>1.0</td>\n",
       "      <td>0.0</td>\n",
       "      <td>0.0</td>\n",
       "      <td>0.0</td>\n",
       "      <td>0.0</td>\n",
       "      <td>NaN</td>\n",
       "      <td>NaN</td>\n",
       "      <td>8.900000e+09</td>\n",
       "      <td>1.050000e+10</td>\n",
       "      <td>8.900000e+09</td>\n",
       "      <td>1.050000e+10</td>\n",
       "      <td>8.900000e+09</td>\n",
       "      <td>1.050000e+10</td>\n",
       "      <td>NaN</td>\n",
       "      <td>1.0</td>\n",
       "      <td>565.0</td>\n",
       "      <td>1.0</td>\n",
       "      <td>False</td>\n",
       "      <td>False</td>\n",
       "      <td>8.0</td>\n",
       "      <td>0.0</td>\n",
       "      <td>1.386294</td>\n",
       "    </tr>\n",
       "    <tr>\n",
       "      <th>3947</th>\n",
       "      <td>2831</td>\n",
       "      <td>[HÀNG NHẬP] MŨ LƯỠI TRAI ULLZANG PHONG CÁCH THỜI TRANG NAM NỮ</td>\n",
       "      <td>NaN</td>\n",
       "      <td>1.593330e+09</td>\n",
       "      <td>1.609910e+09</td>\n",
       "      <td>16580590.0</td>\n",
       "      <td>False</td>\n",
       "      <td>7%</td>\n",
       "      <td>False</td>\n",
       "      <td>5.0</td>\n",
       "      <td>NaN</td>\n",
       "      <td>4.926829</td>\n",
       "      <td>76.0</td>\n",
       "      <td>6.0</td>\n",
       "      <td>0.0</td>\n",
       "      <td>0.0</td>\n",
       "      <td>0.0</td>\n",
       "      <td>NaN</td>\n",
       "      <td>NaN</td>\n",
       "      <td>5.301000e+09</td>\n",
       "      <td>5.700000e+09</td>\n",
       "      <td>5.301000e+09</td>\n",
       "      <td>5.700000e+09</td>\n",
       "      <td>5.301000e+09</td>\n",
       "      <td>5.700000e+09</td>\n",
       "      <td>NaN</td>\n",
       "      <td>198.0</td>\n",
       "      <td>4226.0</td>\n",
       "      <td>82.0</td>\n",
       "      <td>False</td>\n",
       "      <td>False</td>\n",
       "      <td>3.0</td>\n",
       "      <td>0.0</td>\n",
       "      <td>5.743003</td>\n",
       "    </tr>\n",
       "    <tr>\n",
       "      <th>3953</th>\n",
       "      <td>2831</td>\n",
       "      <td>NÓN KẾT KAKI THỜI TRANG NAM NỮ - ADDAS MẠC ĐEN</td>\n",
       "      <td>NaN</td>\n",
       "      <td>1.531877e+09</td>\n",
       "      <td>1.609910e+09</td>\n",
       "      <td>78033712.0</td>\n",
       "      <td>False</td>\n",
       "      <td>25%</td>\n",
       "      <td>False</td>\n",
       "      <td>4.0</td>\n",
       "      <td>NaN</td>\n",
       "      <td>4.761468</td>\n",
       "      <td>96.0</td>\n",
       "      <td>6.0</td>\n",
       "      <td>4.0</td>\n",
       "      <td>0.0</td>\n",
       "      <td>3.0</td>\n",
       "      <td>NaN</td>\n",
       "      <td>NaN</td>\n",
       "      <td>3.000000e+09</td>\n",
       "      <td>4.000000e+09</td>\n",
       "      <td>3.000000e+09</td>\n",
       "      <td>4.000000e+09</td>\n",
       "      <td>3.000000e+09</td>\n",
       "      <td>4.000000e+09</td>\n",
       "      <td>NaN</td>\n",
       "      <td>64.0</td>\n",
       "      <td>767.0</td>\n",
       "      <td>109.0</td>\n",
       "      <td>False</td>\n",
       "      <td>True</td>\n",
       "      <td>2.0</td>\n",
       "      <td>0.0</td>\n",
       "      <td>6.198479</td>\n",
       "    </tr>\n",
       "    <tr>\n",
       "      <th>3967</th>\n",
       "      <td>2831</td>\n",
       "      <td>Mũ Nón Sơn Thời Trang Nam Cao Cấp - Chính Hiệu [Sale Giá Tốt Nhất 2020]</td>\n",
       "      <td>NaN</td>\n",
       "      <td>1.587547e+09</td>\n",
       "      <td>1.609910e+09</td>\n",
       "      <td>22363502.0</td>\n",
       "      <td>False</td>\n",
       "      <td>35%</td>\n",
       "      <td>False</td>\n",
       "      <td>3.0</td>\n",
       "      <td>NaN</td>\n",
       "      <td>2.000000</td>\n",
       "      <td>0.0</td>\n",
       "      <td>0.0</td>\n",
       "      <td>0.0</td>\n",
       "      <td>1.0</td>\n",
       "      <td>0.0</td>\n",
       "      <td>NaN</td>\n",
       "      <td>NaN</td>\n",
       "      <td>1.202500e+10</td>\n",
       "      <td>1.850000e+10</td>\n",
       "      <td>1.592500e+10</td>\n",
       "      <td>2.450000e+10</td>\n",
       "      <td>1.202500e+10</td>\n",
       "      <td>1.850000e+10</td>\n",
       "      <td>NaN</td>\n",
       "      <td>2.0</td>\n",
       "      <td>35.0</td>\n",
       "      <td>1.0</td>\n",
       "      <td>False</td>\n",
       "      <td>True</td>\n",
       "      <td>9.0</td>\n",
       "      <td>0.0</td>\n",
       "      <td>1.098612</td>\n",
       "    </tr>\n",
       "    <tr>\n",
       "      <th>3968</th>\n",
       "      <td>2831</td>\n",
       "      <td>Kẹp cà vạt Nam thời trang kim loại cao cấp 6cm phù hợp cà vạt 6cm trở lên {Phụ Kiện Vest Nam - AdamZone}</td>\n",
       "      <td>NaN</td>\n",
       "      <td>1.564943e+09</td>\n",
       "      <td>1.609910e+09</td>\n",
       "      <td>44967162.0</td>\n",
       "      <td>False</td>\n",
       "      <td>NaN</td>\n",
       "      <td>False</td>\n",
       "      <td>8.0</td>\n",
       "      <td>NaN</td>\n",
       "      <td>4.808219</td>\n",
       "      <td>63.0</td>\n",
       "      <td>6.0</td>\n",
       "      <td>4.0</td>\n",
       "      <td>0.0</td>\n",
       "      <td>0.0</td>\n",
       "      <td>NaN</td>\n",
       "      <td>NaN</td>\n",
       "      <td>1.991000e+09</td>\n",
       "      <td>-1.000000e+00</td>\n",
       "      <td>5.900000e+09</td>\n",
       "      <td>-1.000000e+00</td>\n",
       "      <td>1.991000e+09</td>\n",
       "      <td>0.000000e+00</td>\n",
       "      <td>NaN</td>\n",
       "      <td>29.0</td>\n",
       "      <td>435.0</td>\n",
       "      <td>73.0</td>\n",
       "      <td>False</td>\n",
       "      <td>True</td>\n",
       "      <td>7.0</td>\n",
       "      <td>0.0</td>\n",
       "      <td>5.493061</td>\n",
       "    </tr>\n",
       "    <tr>\n",
       "      <th>3990</th>\n",
       "      <td>2831</td>\n",
       "      <td>Nón Snapback Nam Nữ Thời Trang N86 - Mũ Hiphop N86</td>\n",
       "      <td>NaN</td>\n",
       "      <td>1.583590e+09</td>\n",
       "      <td>1.609910e+09</td>\n",
       "      <td>26319994.0</td>\n",
       "      <td>False</td>\n",
       "      <td>50%</td>\n",
       "      <td>False</td>\n",
       "      <td>2.0</td>\n",
       "      <td>NaN</td>\n",
       "      <td>4.733333</td>\n",
       "      <td>12.0</td>\n",
       "      <td>2.0</td>\n",
       "      <td>1.0</td>\n",
       "      <td>0.0</td>\n",
       "      <td>0.0</td>\n",
       "      <td>NaN</td>\n",
       "      <td>NaN</td>\n",
       "      <td>7.300000e+09</td>\n",
       "      <td>1.460000e+10</td>\n",
       "      <td>7.300000e+09</td>\n",
       "      <td>1.460000e+10</td>\n",
       "      <td>7.300000e+09</td>\n",
       "      <td>1.460000e+10</td>\n",
       "      <td>NaN</td>\n",
       "      <td>9.0</td>\n",
       "      <td>788.0</td>\n",
       "      <td>15.0</td>\n",
       "      <td>False</td>\n",
       "      <td>False</td>\n",
       "      <td>9.0</td>\n",
       "      <td>0.0</td>\n",
       "      <td>3.688879</td>\n",
       "    </tr>\n",
       "    <tr>\n",
       "      <th>4025</th>\n",
       "      <td>2831</td>\n",
       "      <td>Nón kết The North Face (Mẫu 01) - Thời trang Nam</td>\n",
       "      <td>NaN</td>\n",
       "      <td>1.501910e+09</td>\n",
       "      <td>1.609910e+09</td>\n",
       "      <td>108000219.0</td>\n",
       "      <td>False</td>\n",
       "      <td>NaN</td>\n",
       "      <td>False</td>\n",
       "      <td>1.0</td>\n",
       "      <td>NaN</td>\n",
       "      <td>5.000000</td>\n",
       "      <td>2.0</td>\n",
       "      <td>0.0</td>\n",
       "      <td>0.0</td>\n",
       "      <td>0.0</td>\n",
       "      <td>0.0</td>\n",
       "      <td>NaN</td>\n",
       "      <td>NaN</td>\n",
       "      <td>7.800000e+09</td>\n",
       "      <td>-1.000000e+00</td>\n",
       "      <td>7.800000e+09</td>\n",
       "      <td>-1.000000e+00</td>\n",
       "      <td>7.800000e+09</td>\n",
       "      <td>0.000000e+00</td>\n",
       "      <td>NaN</td>\n",
       "      <td>4.0</td>\n",
       "      <td>17.0</td>\n",
       "      <td>2.0</td>\n",
       "      <td>False</td>\n",
       "      <td>True</td>\n",
       "      <td>5.0</td>\n",
       "      <td>0.0</td>\n",
       "      <td>1.098612</td>\n",
       "    </tr>\n",
       "    <tr>\n",
       "      <th>4035</th>\n",
       "      <td>2831</td>\n",
       "      <td>Nơ đeo cài cổ áo Vest Nam 2 lớp thời trang đính đá và nhiều mẫu họa tiết NO-80 {Phụ Kiện Vest Nam – AdamZone}</td>\n",
       "      <td>NaN</td>\n",
       "      <td>1.575568e+09</td>\n",
       "      <td>1.609910e+09</td>\n",
       "      <td>34341912.0</td>\n",
       "      <td>False</td>\n",
       "      <td>NaN</td>\n",
       "      <td>False</td>\n",
       "      <td>19.0</td>\n",
       "      <td>NaN</td>\n",
       "      <td>4.961538</td>\n",
       "      <td>25.0</td>\n",
       "      <td>1.0</td>\n",
       "      <td>0.0</td>\n",
       "      <td>0.0</td>\n",
       "      <td>0.0</td>\n",
       "      <td>NaN</td>\n",
       "      <td>NaN</td>\n",
       "      <td>8.899900e+09</td>\n",
       "      <td>-1.000000e+00</td>\n",
       "      <td>8.899900e+09</td>\n",
       "      <td>-1.000000e+00</td>\n",
       "      <td>8.899900e+09</td>\n",
       "      <td>0.000000e+00</td>\n",
       "      <td>NaN</td>\n",
       "      <td>14.0</td>\n",
       "      <td>288.0</td>\n",
       "      <td>26.0</td>\n",
       "      <td>False</td>\n",
       "      <td>True</td>\n",
       "      <td>9.0</td>\n",
       "      <td>0.0</td>\n",
       "      <td>4.406719</td>\n",
       "    </tr>\n",
       "    <tr>\n",
       "      <th>4039</th>\n",
       "      <td>2831</td>\n",
       "      <td>Nơ cài cổ áo Nam thời trang màu Đen NO-50 {Phụ Kiện Áo Vest V-Smile VietNam}</td>\n",
       "      <td>NaN</td>\n",
       "      <td>1.544987e+09</td>\n",
       "      <td>1.609910e+09</td>\n",
       "      <td>64923083.0</td>\n",
       "      <td>False</td>\n",
       "      <td>21%</td>\n",
       "      <td>False</td>\n",
       "      <td>10.0</td>\n",
       "      <td>NaN</td>\n",
       "      <td>4.818182</td>\n",
       "      <td>10.0</td>\n",
       "      <td>0.0</td>\n",
       "      <td>1.0</td>\n",
       "      <td>0.0</td>\n",
       "      <td>0.0</td>\n",
       "      <td>NaN</td>\n",
       "      <td>NaN</td>\n",
       "      <td>4.950000e+09</td>\n",
       "      <td>4.950000e+09</td>\n",
       "      <td>6.250000e+09</td>\n",
       "      <td>7.900000e+09</td>\n",
       "      <td>4.950000e+09</td>\n",
       "      <td>4.950000e+09</td>\n",
       "      <td>NaN</td>\n",
       "      <td>8.0</td>\n",
       "      <td>79.0</td>\n",
       "      <td>11.0</td>\n",
       "      <td>False</td>\n",
       "      <td>True</td>\n",
       "      <td>9.0</td>\n",
       "      <td>0.0</td>\n",
       "      <td>3.713572</td>\n",
       "    </tr>\n",
       "    <tr>\n",
       "      <th>4058</th>\n",
       "      <td>2831</td>\n",
       "      <td>Mũ lưỡi trai – Nón kết thời trang nam chóp vuông logo lệch hình chim</td>\n",
       "      <td>NaN</td>\n",
       "      <td>1.573102e+09</td>\n",
       "      <td>1.609910e+09</td>\n",
       "      <td>36808040.0</td>\n",
       "      <td>False</td>\n",
       "      <td>34%</td>\n",
       "      <td>False</td>\n",
       "      <td>3.0</td>\n",
       "      <td>NaN</td>\n",
       "      <td>5.000000</td>\n",
       "      <td>1.0</td>\n",
       "      <td>0.0</td>\n",
       "      <td>0.0</td>\n",
       "      <td>0.0</td>\n",
       "      <td>0.0</td>\n",
       "      <td>NaN</td>\n",
       "      <td>NaN</td>\n",
       "      <td>7.900000e+09</td>\n",
       "      <td>1.200000e+10</td>\n",
       "      <td>7.900000e+09</td>\n",
       "      <td>1.200000e+10</td>\n",
       "      <td>7.900000e+09</td>\n",
       "      <td>1.200000e+10</td>\n",
       "      <td>NaN</td>\n",
       "      <td>0.0</td>\n",
       "      <td>24.0</td>\n",
       "      <td>1.0</td>\n",
       "      <td>False</td>\n",
       "      <td>False</td>\n",
       "      <td>9.0</td>\n",
       "      <td>0.0</td>\n",
       "      <td>2.197225</td>\n",
       "    </tr>\n",
       "    <tr>\n",
       "      <th>4065</th>\n",
       "      <td>2831</td>\n",
       "      <td>Combo 5 Đôi Tất Nam Thể Thao Cổ Ngắn Thời Trang</td>\n",
       "      <td>NaN</td>\n",
       "      <td>1.607091e+09</td>\n",
       "      <td>1.609910e+09</td>\n",
       "      <td>2819130.0</td>\n",
       "      <td>False</td>\n",
       "      <td>NaN</td>\n",
       "      <td>False</td>\n",
       "      <td>5.0</td>\n",
       "      <td>NaN</td>\n",
       "      <td>5.000000</td>\n",
       "      <td>8.0</td>\n",
       "      <td>0.0</td>\n",
       "      <td>0.0</td>\n",
       "      <td>0.0</td>\n",
       "      <td>0.0</td>\n",
       "      <td>NaN</td>\n",
       "      <td>NaN</td>\n",
       "      <td>3.100000e+09</td>\n",
       "      <td>-1.000000e+00</td>\n",
       "      <td>3.100000e+09</td>\n",
       "      <td>-1.000000e+00</td>\n",
       "      <td>3.100000e+09</td>\n",
       "      <td>0.000000e+00</td>\n",
       "      <td>NaN</td>\n",
       "      <td>6.0</td>\n",
       "      <td>367.0</td>\n",
       "      <td>8.0</td>\n",
       "      <td>False</td>\n",
       "      <td>False</td>\n",
       "      <td>6.0</td>\n",
       "      <td>0.0</td>\n",
       "      <td>5.894403</td>\n",
       "    </tr>\n",
       "    <tr>\n",
       "      <th>4070</th>\n",
       "      <td>2831</td>\n",
       "      <td>Mũ lưỡi trai cotton form đẹp, thời trang cho cả nam và nữ</td>\n",
       "      <td>NaN</td>\n",
       "      <td>1.593007e+09</td>\n",
       "      <td>1.609910e+09</td>\n",
       "      <td>16903338.0</td>\n",
       "      <td>False</td>\n",
       "      <td>14%</td>\n",
       "      <td>False</td>\n",
       "      <td>1.0</td>\n",
       "      <td>NaN</td>\n",
       "      <td>5.000000</td>\n",
       "      <td>28.0</td>\n",
       "      <td>0.0</td>\n",
       "      <td>0.0</td>\n",
       "      <td>0.0</td>\n",
       "      <td>0.0</td>\n",
       "      <td>NaN</td>\n",
       "      <td>NaN</td>\n",
       "      <td>1.600000e+10</td>\n",
       "      <td>1.870000e+10</td>\n",
       "      <td>1.600000e+10</td>\n",
       "      <td>1.870000e+10</td>\n",
       "      <td>1.600000e+10</td>\n",
       "      <td>1.870000e+10</td>\n",
       "      <td>NaN</td>\n",
       "      <td>2637.0</td>\n",
       "      <td>475.0</td>\n",
       "      <td>28.0</td>\n",
       "      <td>False</td>\n",
       "      <td>True</td>\n",
       "      <td>8.0</td>\n",
       "      <td>1.0</td>\n",
       "      <td>5.736572</td>\n",
       "    </tr>\n",
       "    <tr>\n",
       "      <th>4080</th>\n",
       "      <td>2831</td>\n",
       "      <td>Combo 10 đôi tất nam uni khử mùi cổ cao</td>\n",
       "      <td>NaN</td>\n",
       "      <td>1.511352e+09</td>\n",
       "      <td>1.609910e+09</td>\n",
       "      <td>98558160.0</td>\n",
       "      <td>False</td>\n",
       "      <td>34%</td>\n",
       "      <td>False</td>\n",
       "      <td>1.0</td>\n",
       "      <td>NaN</td>\n",
       "      <td>4.767568</td>\n",
       "      <td>165.0</td>\n",
       "      <td>8.0</td>\n",
       "      <td>6.0</td>\n",
       "      <td>1.0</td>\n",
       "      <td>5.0</td>\n",
       "      <td>NaN</td>\n",
       "      <td>NaN</td>\n",
       "      <td>9.900000e+09</td>\n",
       "      <td>1.500000e+10</td>\n",
       "      <td>9.900000e+09</td>\n",
       "      <td>1.500000e+10</td>\n",
       "      <td>9.900000e+09</td>\n",
       "      <td>1.500000e+10</td>\n",
       "      <td>NaN</td>\n",
       "      <td>48.0</td>\n",
       "      <td>595.0</td>\n",
       "      <td>185.0</td>\n",
       "      <td>False</td>\n",
       "      <td>True</td>\n",
       "      <td>1.0</td>\n",
       "      <td>0.0</td>\n",
       "      <td>6.270988</td>\n",
       "    </tr>\n",
       "    <tr>\n",
       "      <th>4105</th>\n",
       "      <td>2831</td>\n",
       "      <td>Mũ lưỡi trai phong cách thời trang hiện đại Hàn Quốc cho cả nam và nữ</td>\n",
       "      <td>NaN</td>\n",
       "      <td>1.593393e+09</td>\n",
       "      <td>1.609910e+09</td>\n",
       "      <td>16517688.0</td>\n",
       "      <td>False</td>\n",
       "      <td>22%</td>\n",
       "      <td>False</td>\n",
       "      <td>4.0</td>\n",
       "      <td>NaN</td>\n",
       "      <td>5.000000</td>\n",
       "      <td>18.0</td>\n",
       "      <td>0.0</td>\n",
       "      <td>0.0</td>\n",
       "      <td>0.0</td>\n",
       "      <td>0.0</td>\n",
       "      <td>NaN</td>\n",
       "      <td>NaN</td>\n",
       "      <td>1.290000e+10</td>\n",
       "      <td>1.660000e+10</td>\n",
       "      <td>1.290000e+10</td>\n",
       "      <td>1.660000e+10</td>\n",
       "      <td>1.290000e+10</td>\n",
       "      <td>1.660000e+10</td>\n",
       "      <td>NaN</td>\n",
       "      <td>1662.0</td>\n",
       "      <td>159.0</td>\n",
       "      <td>18.0</td>\n",
       "      <td>False</td>\n",
       "      <td>False</td>\n",
       "      <td>9.0</td>\n",
       "      <td>1.0</td>\n",
       "      <td>5.030438</td>\n",
       "    </tr>\n",
       "    <tr>\n",
       "      <th>4127</th>\n",
       "      <td>2831</td>\n",
       "      <td>Nơ cài cổ áo và Khăn cài túi áo Vest thời trang NO-80 và khăn KT-10 {Phụ Kiện Áo Vest Nam - AdamZone}</td>\n",
       "      <td>NaN</td>\n",
       "      <td>1.542700e+09</td>\n",
       "      <td>1.609910e+09</td>\n",
       "      <td>67209912.0</td>\n",
       "      <td>False</td>\n",
       "      <td>NaN</td>\n",
       "      <td>False</td>\n",
       "      <td>8.0</td>\n",
       "      <td>NaN</td>\n",
       "      <td>4.739130</td>\n",
       "      <td>20.0</td>\n",
       "      <td>2.0</td>\n",
       "      <td>0.0</td>\n",
       "      <td>0.0</td>\n",
       "      <td>1.0</td>\n",
       "      <td>NaN</td>\n",
       "      <td>NaN</td>\n",
       "      <td>4.200000e+09</td>\n",
       "      <td>-1.000000e+00</td>\n",
       "      <td>8.900000e+09</td>\n",
       "      <td>-1.000000e+00</td>\n",
       "      <td>4.200000e+09</td>\n",
       "      <td>0.000000e+00</td>\n",
       "      <td>NaN</td>\n",
       "      <td>21.0</td>\n",
       "      <td>225.0</td>\n",
       "      <td>23.0</td>\n",
       "      <td>False</td>\n",
       "      <td>True</td>\n",
       "      <td>9.0</td>\n",
       "      <td>0.0</td>\n",
       "      <td>4.418841</td>\n",
       "    </tr>\n",
       "    <tr>\n",
       "      <th>4923</th>\n",
       "      <td>1899</td>\n",
       "      <td>Quần âu nam, quần baggy đen co dãn ôm ống côn vải chống nhăn cao cấp không bai, xù</td>\n",
       "      <td>NaN</td>\n",
       "      <td>1.530066e+09</td>\n",
       "      <td>1.609992e+09</td>\n",
       "      <td>79926350.0</td>\n",
       "      <td>False</td>\n",
       "      <td>46%</td>\n",
       "      <td>False</td>\n",
       "      <td>32.0</td>\n",
       "      <td>NaN</td>\n",
       "      <td>4.666820</td>\n",
       "      <td>7257.0</td>\n",
       "      <td>708.0</td>\n",
       "      <td>353.0</td>\n",
       "      <td>144.0</td>\n",
       "      <td>264.0</td>\n",
       "      <td>NaN</td>\n",
       "      <td>NaN</td>\n",
       "      <td>7.500000e+09</td>\n",
       "      <td>1.400000e+10</td>\n",
       "      <td>7.500000e+09</td>\n",
       "      <td>1.400000e+10</td>\n",
       "      <td>7.500000e+09</td>\n",
       "      <td>1.400000e+10</td>\n",
       "      <td>NaN</td>\n",
       "      <td>26262.0</td>\n",
       "      <td>79284.0</td>\n",
       "      <td>8723.0</td>\n",
       "      <td>False</td>\n",
       "      <td>True</td>\n",
       "      <td>9.0</td>\n",
       "      <td>1.0</td>\n",
       "      <td>10.296306</td>\n",
       "    </tr>\n",
       "    <tr>\n",
       "      <th>5023</th>\n",
       "      <td>1899</td>\n",
       "      <td>Quần Âu Nam Kojiba Dáng Ôm Hàn Quốc, Chất Liệu Cao Cấp</td>\n",
       "      <td>NaN</td>\n",
       "      <td>1.571889e+09</td>\n",
       "      <td>1.609992e+09</td>\n",
       "      <td>38103111.0</td>\n",
       "      <td>False</td>\n",
       "      <td>42%</td>\n",
       "      <td>False</td>\n",
       "      <td>40.0</td>\n",
       "      <td>NaN</td>\n",
       "      <td>4.930233</td>\n",
       "      <td>40.0</td>\n",
       "      <td>3.0</td>\n",
       "      <td>0.0</td>\n",
       "      <td>0.0</td>\n",
       "      <td>0.0</td>\n",
       "      <td>NaN</td>\n",
       "      <td>NaN</td>\n",
       "      <td>8.700000e+09</td>\n",
       "      <td>1.500000e+10</td>\n",
       "      <td>1.500000e+10</td>\n",
       "      <td>1.500000e+10</td>\n",
       "      <td>8.700000e+09</td>\n",
       "      <td>1.500000e+10</td>\n",
       "      <td>NaN</td>\n",
       "      <td>116.0</td>\n",
       "      <td>864.0</td>\n",
       "      <td>43.0</td>\n",
       "      <td>False</td>\n",
       "      <td>True</td>\n",
       "      <td>9.0</td>\n",
       "      <td>1.0</td>\n",
       "      <td>4.976734</td>\n",
       "    </tr>\n",
       "  </tbody>\n",
       "</table>\n",
       "</div>"
      ],
      "text/plain": [
       "      category_id                                                                                                                 name shop_location  item_public_time  item_be_got_time    sell_time shopee_verified discount is_adult  options show_official_shop_label_in_title  rating_star  five_star  four_star  three_star  two_star  one_star  flash_sale  upcoming_flash_sale     price_min  price_min_before_discount     price_max  price_max_before_discount         price  price_before_discount  coin_earn_label  liked_count  view_count  cmt_count is_preferred_plus_seller show_free_shipping  images  video_info_list  historical_sold\n",
       "4126         2831                            Nón Kết Đen ❤FREESHIP❤ Mũ lưỡi trai nam nữ thời trang Hàn Quốc hàng chất lượng tốt loại 1           NaN      1.599018e+09      1.609910e+09   10892814.0           False      10%    False      1.0                               NaN     5.000000        1.0        0.0         0.0       0.0       0.0         NaN                  NaN  9.900000e+09               1.100000e+10  9.900000e+09               1.100000e+10  9.900000e+09           1.100000e+10              NaN          6.0       116.0        1.0                    False              False     5.0              0.0         0.693147\n",
       "2381         9572                                                     [Nhung123] Túi đeo chéo 🎒 Free Ship 🎒 Túi đeo vai thời trang nam           NaN      1.607187e+09      1.609994e+09    2807274.0           False      NaN    False      5.0                             False     0.000000        0.0        0.0         0.0       0.0       0.0         NaN                  NaN  1.694000e+10              -1.000000e+00  1.694000e+10              -1.000000e+00  1.694000e+10           0.000000e+00              NaN          0.0         0.0        0.0                    False              False     9.0              0.0         0.000000\n",
       "5107         1899  [ DEAL KHỦNG ] Quần short jeans nam thiết kế thời trang cao cấp nam , quần sọt jean thời trang nam C12 - TCBOUTIQUE           NaN      1.608439e+09      1.609992e+09    1552897.0           False      NaN    False      6.0                             False     0.000000        0.0        0.0         0.0       0.0       0.0         NaN                  NaN  1.853330e+10              -1.000000e+00  1.853330e+10              -1.000000e+00  1.853330e+10           0.000000e+00              NaN          0.0         3.0        0.0                    False              False     5.0              0.0         0.000000\n",
       "2386         9572                                                     [Nhung123] Túi đeo chéo 🎒 Free Ship 🎒 Túi đeo vai thời trang nam           NaN      1.607187e+09      1.609994e+09    2807280.0           False      NaN    False      5.0                             False     0.000000        0.0        0.0         0.0       0.0       0.0         NaN                  NaN  1.694000e+10              -1.000000e+00  1.694000e+10              -1.000000e+00  1.694000e+10           0.000000e+00              NaN          0.0         0.0        0.0                    False              False     9.0              0.0         0.000000\n",
       "3850         2831                                                                                  Khăn quàng cổ nam ấp đẹp thời trang           NaN      1.590046e+09      1.609910e+09   19864572.0           False      NaN    False      3.0                               NaN     4.947368       54.0        3.0         0.0       0.0       0.0         NaN                  NaN  2.090000e+10              -1.000000e+00  2.090000e+10              -1.000000e+00  2.090000e+10           0.000000e+00              NaN         55.0       644.0       57.0                    False              False     8.0              0.0         4.454347\n",
       "3857         2831                                     Nón kết, Mũ lưỡi trai thể thao lưới 2 lớp cao cấp thấm hút mồ hôi thời trang nam           NaN      1.591948e+09      1.609910e+09   17962064.0           False      25%    False      3.0                               NaN     4.888889        8.0        1.0         0.0       0.0       0.0         NaN                  NaN  4.900000e+09               6.500000e+09  4.900000e+09               6.500000e+09  4.900000e+09           6.500000e+09              NaN          3.0       114.0        9.0                    False              False     5.0              1.0         2.995732\n",
       "3859         2831                                                                            Mũ nón lưỡi trai nam Ediko thời trang nam           NaN      1.607101e+09      1.609910e+09    2809294.0           False      NaN    False      1.0                               NaN     5.000000        3.0        0.0         0.0       0.0       0.0         NaN                  NaN  2.500000e+10              -1.000000e+00  2.500000e+10              -1.000000e+00  2.500000e+10           0.000000e+00              NaN          0.0        23.0        3.0                    False              False     4.0              0.0         3.663562\n",
       "3867         2831                                                                                                    Vớ thời trang nam           NaN      1.544847e+09      1.609910e+09   65063516.0           False      NaN    False      4.0                               NaN     5.000000       28.0        0.0         0.0       0.0       0.0         NaN                  NaN  1.500000e+10              -1.000000e+00  2.500000e+10              -1.000000e+00  1.500000e+10           0.000000e+00              NaN          3.0         1.0       28.0                    False               True     1.0              0.0         4.290459\n",
       "3887         2831                                   Nón lưỡi trai Kaki nam nữ MrCAPs freesize, full hộp, Nón Kết thêu Logo, Trắng, Đen           NaN      1.603450e+09      1.609910e+09    6460881.0           False       7%    False     20.0                               NaN     4.764706       13.0        4.0         0.0       0.0       0.0         NaN                  NaN  1.390000e+10               1.500000e+10  1.390000e+10               1.500000e+10  1.390000e+10           1.500000e+10              NaN         28.0       696.0       17.0                    False              False     6.0              0.0         4.025352\n",
       "3888         2831                               Mũ Nón Kết - Mũ Lưỡi Trai Kaki Rách Thời Trang Cao Cấp cực chất dành cho cả nam và nữ.           NaN      1.587717e+09      1.609910e+09   22193418.0           False      40%    False      3.0                               NaN     4.802326       74.0        7.0         5.0       0.0       0.0         NaN                  NaN  1.500000e+10               2.500000e+10  1.500000e+10               2.500000e+10  1.500000e+10           2.500000e+10              NaN        142.0      1237.0       86.0                    False               True     9.0              0.0         5.411646\n",
       "3889         2831                                                        Nón lưỡi trai Kaki nam nữ MrCAPs freesize, full hộp,thời tang           NaN      1.605778e+09      1.609910e+09    4132173.0           False       7%    False      6.0                               NaN     3.000000        0.0        0.0         1.0       0.0       0.0         NaN                  NaN  1.390000e+10               1.500000e+10  1.390000e+10               1.500000e+10  1.390000e+10           1.500000e+10              NaN          3.0       375.0        1.0                    False              False     6.0              0.0         1.386294\n",
       "3899         2831                                             Khăn đa năng thời trang nam 2 lớp cao cấp theo tiêu chuẩn xuất khẩu Pháp           NaN      1.588776e+09      1.609910e+09   21134252.0           False      50%    False      3.0                               NaN     4.500000       10.0        0.0         1.0       0.0       1.0         NaN                  NaN  5.000000e+09               1.000000e+10  5.000000e+09               1.000000e+10  5.000000e+09           1.000000e+10              NaN          5.0       395.0       12.0                    False              False     9.0              0.0         3.637586\n",
       "3904         2831               thắt lưng da thật playboy mới nhất/ Thắt lưng thời trang nam/ dây lưng cho nam giới/ thắt lugw nâu,đen           NaN      1.507192e+09      1.609910e+09  102718833.0           False      NaN    False      1.0                               NaN     5.000000        3.0        0.0         0.0       0.0       0.0         NaN                  NaN  6.990000e+10              -1.000000e+00  6.990000e+10              -1.000000e+00  6.990000e+10           0.000000e+00              NaN          5.0         0.0        3.0                    False               True     4.0              0.0         1.791759\n",
       "3925         2831                                        Cà vạt Nam cao cấp bản nhỏ 5cm thời trang Hàn Quốc, cà vạt tự thắt - AdamZone           NaN      1.591033e+09      1.609910e+09   18877646.0           False      NaN    False      6.0                               NaN     4.666667       10.0        1.0         0.0       1.0       0.0         NaN                  NaN  6.500000e+09              -1.000000e+00  6.500000e+09              -1.000000e+00  6.500000e+09           0.000000e+00              NaN         11.0       556.0       12.0                    False               True     6.0              0.0         3.931826\n",
       "3932         2831                                                                                       khăn choàng thời trang cho nam           NaN      1.596701e+09      1.609910e+09   13209790.0           False      NaN    False      0.0                               NaN     5.000000       23.0        0.0         0.0       0.0       0.0         NaN                  NaN  1.000000e+10              -1.000000e+00  3.500000e+10              -1.000000e+00  1.000000e+10           0.000000e+00              NaN          1.0       163.0       23.0                    False              False     1.0              0.0         3.295837\n",
       "3935         2831                                              Bộ 3 đôi vớ thời trang nam cao cấp 30SHINE INSHINE (mix màu ngẫu nhiên)           NaN      1.605102e+09      1.609910e+09    4808136.0           False      15%    False      1.0                               NaN     5.000000        1.0        0.0         0.0       0.0       0.0         NaN                  NaN  8.900000e+09               1.050000e+10  8.900000e+09               1.050000e+10  8.900000e+09           1.050000e+10              NaN          1.0       565.0        1.0                    False              False     8.0              0.0         1.386294\n",
       "3947         2831                                                        [HÀNG NHẬP] MŨ LƯỠI TRAI ULLZANG PHONG CÁCH THỜI TRANG NAM NỮ           NaN      1.593330e+09      1.609910e+09   16580590.0           False       7%    False      5.0                               NaN     4.926829       76.0        6.0         0.0       0.0       0.0         NaN                  NaN  5.301000e+09               5.700000e+09  5.301000e+09               5.700000e+09  5.301000e+09           5.700000e+09              NaN        198.0      4226.0       82.0                    False              False     3.0              0.0         5.743003\n",
       "3953         2831                                                                       NÓN KẾT KAKI THỜI TRANG NAM NỮ - ADDAS MẠC ĐEN           NaN      1.531877e+09      1.609910e+09   78033712.0           False      25%    False      4.0                               NaN     4.761468       96.0        6.0         4.0       0.0       3.0         NaN                  NaN  3.000000e+09               4.000000e+09  3.000000e+09               4.000000e+09  3.000000e+09           4.000000e+09              NaN         64.0       767.0      109.0                    False               True     2.0              0.0         6.198479\n",
       "3967         2831                                              Mũ Nón Sơn Thời Trang Nam Cao Cấp - Chính Hiệu [Sale Giá Tốt Nhất 2020]           NaN      1.587547e+09      1.609910e+09   22363502.0           False      35%    False      3.0                               NaN     2.000000        0.0        0.0         0.0       1.0       0.0         NaN                  NaN  1.202500e+10               1.850000e+10  1.592500e+10               2.450000e+10  1.202500e+10           1.850000e+10              NaN          2.0        35.0        1.0                    False               True     9.0              0.0         1.098612\n",
       "3968         2831             Kẹp cà vạt Nam thời trang kim loại cao cấp 6cm phù hợp cà vạt 6cm trở lên {Phụ Kiện Vest Nam - AdamZone}           NaN      1.564943e+09      1.609910e+09   44967162.0           False      NaN    False      8.0                               NaN     4.808219       63.0        6.0         4.0       0.0       0.0         NaN                  NaN  1.991000e+09              -1.000000e+00  5.900000e+09              -1.000000e+00  1.991000e+09           0.000000e+00              NaN         29.0       435.0       73.0                    False               True     7.0              0.0         5.493061\n",
       "3990         2831                                                                   Nón Snapback Nam Nữ Thời Trang N86 - Mũ Hiphop N86           NaN      1.583590e+09      1.609910e+09   26319994.0           False      50%    False      2.0                               NaN     4.733333       12.0        2.0         1.0       0.0       0.0         NaN                  NaN  7.300000e+09               1.460000e+10  7.300000e+09               1.460000e+10  7.300000e+09           1.460000e+10              NaN          9.0       788.0       15.0                    False              False     9.0              0.0         3.688879\n",
       "4025         2831                                                                     Nón kết The North Face (Mẫu 01) - Thời trang Nam           NaN      1.501910e+09      1.609910e+09  108000219.0           False      NaN    False      1.0                               NaN     5.000000        2.0        0.0         0.0       0.0       0.0         NaN                  NaN  7.800000e+09              -1.000000e+00  7.800000e+09              -1.000000e+00  7.800000e+09           0.000000e+00              NaN          4.0        17.0        2.0                    False               True     5.0              0.0         1.098612\n",
       "4035         2831        Nơ đeo cài cổ áo Vest Nam 2 lớp thời trang đính đá và nhiều mẫu họa tiết NO-80 {Phụ Kiện Vest Nam – AdamZone}           NaN      1.575568e+09      1.609910e+09   34341912.0           False      NaN    False     19.0                               NaN     4.961538       25.0        1.0         0.0       0.0       0.0         NaN                  NaN  8.899900e+09              -1.000000e+00  8.899900e+09              -1.000000e+00  8.899900e+09           0.000000e+00              NaN         14.0       288.0       26.0                    False               True     9.0              0.0         4.406719\n",
       "4039         2831                                         Nơ cài cổ áo Nam thời trang màu Đen NO-50 {Phụ Kiện Áo Vest V-Smile VietNam}           NaN      1.544987e+09      1.609910e+09   64923083.0           False      21%    False     10.0                               NaN     4.818182       10.0        0.0         1.0       0.0       0.0         NaN                  NaN  4.950000e+09               4.950000e+09  6.250000e+09               7.900000e+09  4.950000e+09           4.950000e+09              NaN          8.0        79.0       11.0                    False               True     9.0              0.0         3.713572\n",
       "4058         2831                                                 Mũ lưỡi trai – Nón kết thời trang nam chóp vuông logo lệch hình chim           NaN      1.573102e+09      1.609910e+09   36808040.0           False      34%    False      3.0                               NaN     5.000000        1.0        0.0         0.0       0.0       0.0         NaN                  NaN  7.900000e+09               1.200000e+10  7.900000e+09               1.200000e+10  7.900000e+09           1.200000e+10              NaN          0.0        24.0        1.0                    False              False     9.0              0.0         2.197225\n",
       "4065         2831                                                                      Combo 5 Đôi Tất Nam Thể Thao Cổ Ngắn Thời Trang           NaN      1.607091e+09      1.609910e+09    2819130.0           False      NaN    False      5.0                               NaN     5.000000        8.0        0.0         0.0       0.0       0.0         NaN                  NaN  3.100000e+09              -1.000000e+00  3.100000e+09              -1.000000e+00  3.100000e+09           0.000000e+00              NaN          6.0       367.0        8.0                    False              False     6.0              0.0         5.894403\n",
       "4070         2831                                                            Mũ lưỡi trai cotton form đẹp, thời trang cho cả nam và nữ           NaN      1.593007e+09      1.609910e+09   16903338.0           False      14%    False      1.0                               NaN     5.000000       28.0        0.0         0.0       0.0       0.0         NaN                  NaN  1.600000e+10               1.870000e+10  1.600000e+10               1.870000e+10  1.600000e+10           1.870000e+10              NaN       2637.0       475.0       28.0                    False               True     8.0              1.0         5.736572\n",
       "4080         2831                                                                              Combo 10 đôi tất nam uni khử mùi cổ cao           NaN      1.511352e+09      1.609910e+09   98558160.0           False      34%    False      1.0                               NaN     4.767568      165.0        8.0         6.0       1.0       5.0         NaN                  NaN  9.900000e+09               1.500000e+10  9.900000e+09               1.500000e+10  9.900000e+09           1.500000e+10              NaN         48.0       595.0      185.0                    False               True     1.0              0.0         6.270988\n",
       "4105         2831                                               Mũ lưỡi trai phong cách thời trang hiện đại Hàn Quốc cho cả nam và nữ           NaN      1.593393e+09      1.609910e+09   16517688.0           False      22%    False      4.0                               NaN     5.000000       18.0        0.0         0.0       0.0       0.0         NaN                  NaN  1.290000e+10               1.660000e+10  1.290000e+10               1.660000e+10  1.290000e+10           1.660000e+10              NaN       1662.0       159.0       18.0                    False              False     9.0              1.0         5.030438\n",
       "4127         2831                Nơ cài cổ áo và Khăn cài túi áo Vest thời trang NO-80 và khăn KT-10 {Phụ Kiện Áo Vest Nam - AdamZone}           NaN      1.542700e+09      1.609910e+09   67209912.0           False      NaN    False      8.0                               NaN     4.739130       20.0        2.0         0.0       0.0       1.0         NaN                  NaN  4.200000e+09              -1.000000e+00  8.900000e+09              -1.000000e+00  4.200000e+09           0.000000e+00              NaN         21.0       225.0       23.0                    False               True     9.0              0.0         4.418841\n",
       "4923         1899                                   Quần âu nam, quần baggy đen co dãn ôm ống côn vải chống nhăn cao cấp không bai, xù           NaN      1.530066e+09      1.609992e+09   79926350.0           False      46%    False     32.0                               NaN     4.666820     7257.0      708.0       353.0     144.0     264.0         NaN                  NaN  7.500000e+09               1.400000e+10  7.500000e+09               1.400000e+10  7.500000e+09           1.400000e+10              NaN      26262.0     79284.0     8723.0                    False               True     9.0              1.0        10.296306\n",
       "5023         1899                                                               Quần Âu Nam Kojiba Dáng Ôm Hàn Quốc, Chất Liệu Cao Cấp           NaN      1.571889e+09      1.609992e+09   38103111.0           False      42%    False     40.0                               NaN     4.930233       40.0        3.0         0.0       0.0       0.0         NaN                  NaN  8.700000e+09               1.500000e+10  1.500000e+10               1.500000e+10  8.700000e+09           1.500000e+10              NaN        116.0       864.0       43.0                    False               True     9.0              1.0         4.976734"
      ]
     },
     "execution_count": 50,
     "metadata": {},
     "output_type": "execute_result"
    }
   ],
   "source": [
    "items_df.loc[items_df['shop_location'].isnull()]"
   ]
  },
  {
   "cell_type": "markdown",
   "metadata": {},
   "source": [
    "## V. Tiền xử lý (tập huấn luyện)"
   ]
  },
  {
   "cell_type": "markdown",
   "metadata": {},
   "source": [
    "### 1. Bỏ cột\n",
    "\n",
    "Ta sẽ tiến hành bỏ những cột sau:\n",
    "- `name`: do quá nhiều giá trị, nếu mã hóa bằng OneHot hoặc sử dụng kỹ thuật Bag of Word thì số cột tăng lên rất nhiều\n",
    "- `flash_sale`, `upcoming_flash_sale`, `coin_earn_label`: 3 thuộc tính đều bị thiếu toàn bộ dữ liệu nên vô nghĩa\n",
    "- `is_adult`: chỉ có giá trị False nên cũng vô nghĩa"
   ]
  },
  {
   "cell_type": "markdown",
   "metadata": {},
   "source": [
    "### 2. Sửa cột\n",
    "Ta tiến hành sửa những cột sau: \n",
    "1. `shop_location`: Ta thấy có khá nhiều giá trị khác nhau trong tập huấn luyện, trong đó có các giá trị chỉ xuất hiện một hoặc một ít lần; nếu ta để nguyên thì khi chuyển sang dạng số bằng phương pháp one-hot sẽ có nhiều cột → dễ bị overfit. Ta sẽ xử lý vấn đề này như sau: chỉ lấy num_top_locations (ví dụ, 4) giá trị xuất hiện nhiều nhất, các giá trị còn lại sẽ được thay thế bằng giá trị \"Others\". Lúc sau, ta sẽ thí nghiệm để chọn ra giá trị num_top_locations\n",
    "\n",
    "2. `discount`: có thêm kí tự % đằng sau nên có kiểu chuỗi, vậy ta sẽ tách số ra đó và chuyển thành số. Ngoài ra, ta còn thấy `discount` có giá trị thiếu. Kiểm tra đối chiếu với các item trên Shopee, ta thấy thực tế những mẫu bị _thiếu_ dữ liệu ở thuộc tính `discount` là do không có giảm giá (`discount` = 0). Ta tiến hành sửa bằng cách thay giá trị nan tại cột này thành 0\n",
    "\n",
    "3. `shopee_verified`, `show_official_shop_label_in_title`, `is_preferred_plus_seller`, `show_free_shipping`: những cột kiểu bool như này thì ta chuyển hết về 0 và 1\n"
   ]
  },
  {
   "cell_type": "markdown",
   "metadata": {},
   "source": [
    "Class ColAdderDropper sẽ thực hiện các bước trên."
   ]
  },
  {
   "cell_type": "code",
   "execution_count": 51,
   "metadata": {},
   "outputs": [],
   "source": [
    "class ColAdderDropper(BaseEstimator, TransformerMixin):\n",
    "    def __init__(self, num_top_locations=3):\n",
    "        self.num_top_locations = num_top_locations\n",
    "    def fit(self, X_df, y=None):\n",
    "        location_col = X_df['shop_location'].copy()\n",
    "#         location_col = location_col.replace('None', np.nan)\n",
    "        location_col = location_col.replace(np.nan, 'None')\n",
    "        self.location_counts_ = location_col.value_counts()\n",
    "        locations = list(self.location_counts_.index)\n",
    "        self.top_locations_ = locations[:max(1, min(self.num_top_locations, len(locations)))]\n",
    "        return self\n",
    "    def transform(self, X_df, y=None):\n",
    "        tf_df = X_df.copy()\n",
    "        \n",
    "        # Bước 1\n",
    "        tf_df = tf_df.dropna(axis = 0, thresh = 15)\n",
    "        tf_df = tf_df.dropna(axis = 1, how = 'all')\n",
    "        tf_df = tf_df.drop(['name', 'is_adult'], axis=1)\n",
    "        \n",
    "        # Bước 2.1 Sửa cột location\n",
    "        tf_df['shop_location'] = tf_df['shop_location'].replace(np.nan, 'None')\n",
    "        locations = list(tf_df['shop_location'].value_counts().index)\n",
    "        other_locations = list(set(locations) - set(self.top_locations_))\n",
    "        tf_df['shop_location'] = tf_df['shop_location'].replace(other_locations, 'Others')\n",
    "        \n",
    "        # Bước 2.2 Sửa cột discount\n",
    "        tf_df['discount'] = tf_df['discount'].replace(np.nan, 0)\n",
    "        \n",
    "        def apply_discount(discount):\n",
    "            if type(discount) == int:\n",
    "                return discount\n",
    "            else:\n",
    "                result = re.findall(r'\\d+',discount)\n",
    "                return result[0]\n",
    "            pass\n",
    "\n",
    "        tf_df['discount'] = tf_df.apply(lambda row: apply_discount(row['discount']), axis=1)\n",
    "        \n",
    "        def convert_col_dtype(col):\n",
    "            if col.name in ['discount']:\n",
    "                return pd.to_numeric(col, errors='coerce')\n",
    "            return col\n",
    "\n",
    "        tf_df = tf_df.apply(convert_col_dtype)\n",
    "        \n",
    "        # Bước 3.3 Sửa các cột boolean\n",
    "        def apply_bool(FalseOrTrue):\n",
    "            if FalseOrTrue == 'False' or FalseOrTrue == False:\n",
    "                return 0\n",
    "            if FalseOrTrue == 'True' or FalseOrTrue == True:\n",
    "                return 1\n",
    "            else:\n",
    "                return FalseOrTrue\n",
    "            pass\n",
    "\n",
    "        tf_df['show_official_shop_label_in_title'] = tf_df.apply(lambda row: apply_bool(row['show_official_shop_label_in_title']), axis=1)\n",
    "        tf_df['is_preferred_plus_seller'] = tf_df.apply(lambda row: apply_bool(row['is_preferred_plus_seller']), axis=1)\n",
    "        tf_df['shopee_verified'] = tf_df.apply(lambda row: apply_bool(row['shopee_verified']), axis=1)\n",
    "        tf_df['show_free_shipping'] = tf_df.apply(lambda row: apply_bool(row['show_free_shipping']), axis=1)\n",
    "        return tf_df\n",
    "        #raise NotImplementedError()"
   ]
  },
  {
   "cell_type": "code",
   "execution_count": 52,
   "metadata": {},
   "outputs": [
    {
     "data": {
      "text/html": [
       "<div>\n",
       "<style scoped>\n",
       "    .dataframe tbody tr th:only-of-type {\n",
       "        vertical-align: middle;\n",
       "    }\n",
       "\n",
       "    .dataframe tbody tr th {\n",
       "        vertical-align: top;\n",
       "    }\n",
       "\n",
       "    .dataframe thead th {\n",
       "        text-align: right;\n",
       "    }\n",
       "</style>\n",
       "<table border=\"1\" class=\"dataframe\">\n",
       "  <thead>\n",
       "    <tr style=\"text-align: right;\">\n",
       "      <th></th>\n",
       "      <th>category_id</th>\n",
       "      <th>shop_location</th>\n",
       "      <th>item_public_time</th>\n",
       "      <th>item_be_got_time</th>\n",
       "      <th>sell_time</th>\n",
       "      <th>shopee_verified</th>\n",
       "      <th>discount</th>\n",
       "      <th>options</th>\n",
       "      <th>show_official_shop_label_in_title</th>\n",
       "      <th>rating_star</th>\n",
       "      <th>five_star</th>\n",
       "      <th>four_star</th>\n",
       "      <th>three_star</th>\n",
       "      <th>two_star</th>\n",
       "      <th>one_star</th>\n",
       "      <th>price_min</th>\n",
       "      <th>price_min_before_discount</th>\n",
       "      <th>price_max</th>\n",
       "      <th>price_max_before_discount</th>\n",
       "      <th>price</th>\n",
       "      <th>price_before_discount</th>\n",
       "      <th>liked_count</th>\n",
       "      <th>view_count</th>\n",
       "      <th>cmt_count</th>\n",
       "      <th>is_preferred_plus_seller</th>\n",
       "      <th>show_free_shipping</th>\n",
       "      <th>images</th>\n",
       "      <th>video_info_list</th>\n",
       "    </tr>\n",
       "  </thead>\n",
       "  <tbody>\n",
       "    <tr>\n",
       "      <th>9009</th>\n",
       "      <td>15139</td>\n",
       "      <td>TP. Hồ Chí Minh</td>\n",
       "      <td>1.590657e+09</td>\n",
       "      <td>1.610639e+09</td>\n",
       "      <td>19981277.0</td>\n",
       "      <td>1</td>\n",
       "      <td>48</td>\n",
       "      <td>8.0</td>\n",
       "      <td>0.0</td>\n",
       "      <td>5.000000</td>\n",
       "      <td>7.0</td>\n",
       "      <td>0.0</td>\n",
       "      <td>0.0</td>\n",
       "      <td>0.0</td>\n",
       "      <td>0.0</td>\n",
       "      <td>9.900000e+09</td>\n",
       "      <td>1.890000e+10</td>\n",
       "      <td>1.090000e+10</td>\n",
       "      <td>1.890000e+10</td>\n",
       "      <td>9.900000e+09</td>\n",
       "      <td>1.890000e+10</td>\n",
       "      <td>4.0</td>\n",
       "      <td>104.0</td>\n",
       "      <td>7.0</td>\n",
       "      <td>0</td>\n",
       "      <td>0</td>\n",
       "      <td>8.0</td>\n",
       "      <td>1.0</td>\n",
       "    </tr>\n",
       "    <tr>\n",
       "      <th>3872</th>\n",
       "      <td>2831</td>\n",
       "      <td>Hà Nội</td>\n",
       "      <td>1.602761e+09</td>\n",
       "      <td>1.609910e+09</td>\n",
       "      <td>7149688.0</td>\n",
       "      <td>0</td>\n",
       "      <td>46</td>\n",
       "      <td>1.0</td>\n",
       "      <td>0.0</td>\n",
       "      <td>4.666667</td>\n",
       "      <td>5.0</td>\n",
       "      <td>0.0</td>\n",
       "      <td>1.0</td>\n",
       "      <td>0.0</td>\n",
       "      <td>0.0</td>\n",
       "      <td>8.900000e+09</td>\n",
       "      <td>1.660000e+10</td>\n",
       "      <td>8.900000e+09</td>\n",
       "      <td>1.660000e+10</td>\n",
       "      <td>8.900000e+09</td>\n",
       "      <td>1.660000e+10</td>\n",
       "      <td>8.0</td>\n",
       "      <td>493.0</td>\n",
       "      <td>6.0</td>\n",
       "      <td>0</td>\n",
       "      <td>0</td>\n",
       "      <td>5.0</td>\n",
       "      <td>0.0</td>\n",
       "    </tr>\n",
       "    <tr>\n",
       "      <th>10475</th>\n",
       "      <td>15139</td>\n",
       "      <td>TP. Hồ Chí Minh</td>\n",
       "      <td>1.508202e+09</td>\n",
       "      <td>1.610639e+09</td>\n",
       "      <td>102436797.0</td>\n",
       "      <td>0</td>\n",
       "      <td>0</td>\n",
       "      <td>1.0</td>\n",
       "      <td>0.0</td>\n",
       "      <td>0.000000</td>\n",
       "      <td>0.0</td>\n",
       "      <td>0.0</td>\n",
       "      <td>0.0</td>\n",
       "      <td>0.0</td>\n",
       "      <td>0.0</td>\n",
       "      <td>4.800000e+09</td>\n",
       "      <td>-1.000000e+00</td>\n",
       "      <td>4.800000e+09</td>\n",
       "      <td>-1.000000e+00</td>\n",
       "      <td>4.800000e+09</td>\n",
       "      <td>0.000000e+00</td>\n",
       "      <td>1.0</td>\n",
       "      <td>3.0</td>\n",
       "      <td>0.0</td>\n",
       "      <td>0</td>\n",
       "      <td>1</td>\n",
       "      <td>5.0</td>\n",
       "      <td>0.0</td>\n",
       "    </tr>\n",
       "    <tr>\n",
       "      <th>4806</th>\n",
       "      <td>1899</td>\n",
       "      <td>Hà Nội</td>\n",
       "      <td>1.586276e+09</td>\n",
       "      <td>1.609992e+09</td>\n",
       "      <td>23715556.0</td>\n",
       "      <td>1</td>\n",
       "      <td>47</td>\n",
       "      <td>20.0</td>\n",
       "      <td>0.0</td>\n",
       "      <td>4.927273</td>\n",
       "      <td>208.0</td>\n",
       "      <td>9.0</td>\n",
       "      <td>2.0</td>\n",
       "      <td>1.0</td>\n",
       "      <td>0.0</td>\n",
       "      <td>6.900000e+09</td>\n",
       "      <td>1.290000e+10</td>\n",
       "      <td>6.900000e+09</td>\n",
       "      <td>1.290000e+10</td>\n",
       "      <td>6.900000e+09</td>\n",
       "      <td>1.290000e+10</td>\n",
       "      <td>63.0</td>\n",
       "      <td>110.0</td>\n",
       "      <td>220.0</td>\n",
       "      <td>0</td>\n",
       "      <td>1</td>\n",
       "      <td>9.0</td>\n",
       "      <td>0.0</td>\n",
       "    </tr>\n",
       "    <tr>\n",
       "      <th>6168</th>\n",
       "      <td>2829</td>\n",
       "      <td>Nước ngoài</td>\n",
       "      <td>1.609852e+09</td>\n",
       "      <td>1.610610e+09</td>\n",
       "      <td>757726.0</td>\n",
       "      <td>1</td>\n",
       "      <td>36</td>\n",
       "      <td>42.0</td>\n",
       "      <td>0.0</td>\n",
       "      <td>0.000000</td>\n",
       "      <td>0.0</td>\n",
       "      <td>0.0</td>\n",
       "      <td>0.0</td>\n",
       "      <td>0.0</td>\n",
       "      <td>0.0</td>\n",
       "      <td>1.785530e+10</td>\n",
       "      <td>2.785530e+10</td>\n",
       "      <td>1.785530e+10</td>\n",
       "      <td>2.785530e+10</td>\n",
       "      <td>1.785530e+10</td>\n",
       "      <td>2.785530e+10</td>\n",
       "      <td>0.0</td>\n",
       "      <td>0.0</td>\n",
       "      <td>0.0</td>\n",
       "      <td>0</td>\n",
       "      <td>0</td>\n",
       "      <td>7.0</td>\n",
       "      <td>0.0</td>\n",
       "    </tr>\n",
       "  </tbody>\n",
       "</table>\n",
       "</div>"
      ],
      "text/plain": [
       "       category_id    shop_location  item_public_time  item_be_got_time    sell_time  shopee_verified  discount  options  show_official_shop_label_in_title  rating_star  five_star  four_star  three_star  two_star  one_star     price_min  price_min_before_discount     price_max  price_max_before_discount         price  price_before_discount  liked_count  view_count  cmt_count  is_preferred_plus_seller  show_free_shipping  images  video_info_list\n",
       "9009         15139  TP. Hồ Chí Minh      1.590657e+09      1.610639e+09   19981277.0                1        48      8.0                                0.0     5.000000        7.0        0.0         0.0       0.0       0.0  9.900000e+09               1.890000e+10  1.090000e+10               1.890000e+10  9.900000e+09           1.890000e+10          4.0       104.0        7.0                         0                   0     8.0              1.0\n",
       "3872          2831           Hà Nội      1.602761e+09      1.609910e+09    7149688.0                0        46      1.0                                0.0     4.666667        5.0        0.0         1.0       0.0       0.0  8.900000e+09               1.660000e+10  8.900000e+09               1.660000e+10  8.900000e+09           1.660000e+10          8.0       493.0        6.0                         0                   0     5.0              0.0\n",
       "10475        15139  TP. Hồ Chí Minh      1.508202e+09      1.610639e+09  102436797.0                0         0      1.0                                0.0     0.000000        0.0        0.0         0.0       0.0       0.0  4.800000e+09              -1.000000e+00  4.800000e+09              -1.000000e+00  4.800000e+09           0.000000e+00          1.0         3.0        0.0                         0                   1     5.0              0.0\n",
       "4806          1899           Hà Nội      1.586276e+09      1.609992e+09   23715556.0                1        47     20.0                                0.0     4.927273      208.0        9.0         2.0       1.0       0.0  6.900000e+09               1.290000e+10  6.900000e+09               1.290000e+10  6.900000e+09           1.290000e+10         63.0       110.0      220.0                         0                   1     9.0              0.0\n",
       "6168          2829       Nước ngoài      1.609852e+09      1.610610e+09     757726.0                1        36     42.0                                0.0     0.000000        0.0        0.0         0.0       0.0       0.0  1.785530e+10               2.785530e+10  1.785530e+10               2.785530e+10  1.785530e+10           2.785530e+10          0.0         0.0        0.0                         0                   0     7.0              0.0"
      ]
     },
     "execution_count": 52,
     "metadata": {},
     "output_type": "execute_result"
    }
   ],
   "source": [
    "# Test\n",
    "col_adderdropper = ColAdderDropper(num_top_locations=4)\n",
    "fewer_cols_train_X_df = col_adderdropper.fit_transform(train_X_df)\n",
    "fewer_cols_train_X_df.head()"
   ]
  },
  {
   "cell_type": "code",
   "execution_count": 53,
   "metadata": {},
   "outputs": [
    {
     "data": {
      "text/html": [
       "<div>\n",
       "<style scoped>\n",
       "    .dataframe tbody tr th:only-of-type {\n",
       "        vertical-align: middle;\n",
       "    }\n",
       "\n",
       "    .dataframe tbody tr th {\n",
       "        vertical-align: top;\n",
       "    }\n",
       "\n",
       "    .dataframe thead th {\n",
       "        text-align: right;\n",
       "    }\n",
       "</style>\n",
       "<table border=\"1\" class=\"dataframe\">\n",
       "  <thead>\n",
       "    <tr style=\"text-align: right;\">\n",
       "      <th></th>\n",
       "      <th>is_preferred_plus_seller</th>\n",
       "      <th>show_official_shop_label_in_title</th>\n",
       "      <th>category_id</th>\n",
       "      <th>shop_location</th>\n",
       "      <th>shopee_verified</th>\n",
       "      <th>show_free_shipping</th>\n",
       "    </tr>\n",
       "  </thead>\n",
       "  <tbody>\n",
       "    <tr>\n",
       "      <th>missing_ratio</th>\n",
       "      <td>0</td>\n",
       "      <td>0.9</td>\n",
       "      <td>0</td>\n",
       "      <td>0</td>\n",
       "      <td>0</td>\n",
       "      <td>0</td>\n",
       "    </tr>\n",
       "    <tr>\n",
       "      <th>num_values</th>\n",
       "      <td>2</td>\n",
       "      <td>2</td>\n",
       "      <td>9</td>\n",
       "      <td>5</td>\n",
       "      <td>2</td>\n",
       "      <td>2</td>\n",
       "    </tr>\n",
       "    <tr>\n",
       "      <th>value_ratios</th>\n",
       "      <td>{0: 93.1, 1: 6.9}</td>\n",
       "      <td>{0.0: 95.6, 1.0: 4.4}</td>\n",
       "      <td>{15139: 24.3, 8947: 14.1, 8948: 13.5, 2429: 13.1, 1899: 11.7, 2831: 8.0, 9572: 7.4, 2829: 4.8, 8945: 3.1}</td>\n",
       "      <td>{'Hà Nội': 39.8, 'Nước ngoài': 26.8, 'TP. Hồ Chí Minh': 26.6, 'Others': 6.1, 'Bình Định': 0.7}</td>\n",
       "      <td>{0: 57.1, 1: 42.9}</td>\n",
       "      <td>{0: 56.7, 1: 43.3}</td>\n",
       "    </tr>\n",
       "  </tbody>\n",
       "</table>\n",
       "</div>"
      ],
      "text/plain": [
       "              is_preferred_plus_seller show_official_shop_label_in_title                                                                                                category_id                                                                                   shop_location     shopee_verified  show_free_shipping\n",
       "missing_ratio                        0                               0.9                                                                                                          0                                                                                               0                   0                   0\n",
       "num_values                           2                                 2                                                                                                          9                                                                                               5                   2                   2\n",
       "value_ratios         {0: 93.1, 1: 6.9}             {0.0: 95.6, 1.0: 4.4}  {15139: 24.3, 8947: 14.1, 8948: 13.5, 2429: 13.1, 1899: 11.7, 2831: 8.0, 9572: 7.4, 2829: 4.8, 8945: 3.1}  {'Hà Nội': 39.8, 'Nước ngoài': 26.8, 'TP. Hồ Chí Minh': 26.6, 'Others': 6.1, 'Bình Định': 0.7}  {0: 57.1, 1: 42.9}  {0: 56.7, 1: 43.3}"
      ]
     },
     "execution_count": 53,
     "metadata": {},
     "output_type": "execute_result"
    }
   ],
   "source": [
    "# Kiểm tra các giá trị không phải số đã được xử lý đúng chưa\n",
    "cat_cols = list(set(fewer_cols_train_X_df.columns) - set(num_cols))\n",
    "df = fewer_cols_train_X_df[cat_cols]\n",
    "cat_col_info_df = df.agg([missing_ratio, num_values, value_ratios])\n",
    "cat_col_info_df"
   ]
  },
  {
   "cell_type": "markdown",
   "metadata": {},
   "source": [
    "### 3. Xử lý giá trị thiếu\n",
    "- Với các thuộc tính bị thiếu toàn bộ dữ liệu, các mẫu bị thiếu từ 15 thuộc tính ta đã xử lý ở class ColAdderDropper phía trên bằng 2 dòng lệnh sau:\n",
    "```python\n",
    "tf_df = tf_df.dropna(axis = 0, thresh = 15)\n",
    "tf_df = tf_df.dropna(axis = 1, how = 'all')\n",
    "```\n",
    "- Với các cột dạng số, ta sẽ điền giá trị thiếu bằng giá trị mean của cột <font color=gray>(gợi ý: dùng `SimpleImputer` trong Sklearn)</font>. Với *tất cả* các cột dạng số trong tập huấn luyện, ta đều cần tính mean, vì ta không biết được cột nào sẽ bị thiếu giá trị khi dự đoán với các véc-tơ input mới. \n",
    "- Với các cột không phải dạng số và không có thứ tự:\n",
    "    - Ta sẽ điền giá trị thiếu bằng giá trị mode (giá trị xuất hiện nhiều nhất) của cột <font color=gray>(gợi ý: dùng `SimpleImputer` trong Sklearn)</font>. Với *tất cả* các cột không có dạng số và không có thứ tự, ta đều cần tính mode, vì ta không biết được cột nào sẽ bị thiếu giá trị khi dự đoán với các véc-tơ input mới.\n",
    "    - Sau đó, ta sẽ chuyển sang dạng số bằng phương pháp mã hóa one-hot <font color=gray>(gợi ý: dùng `OneHotEncoder` trong Sklearn, để ý tham số `handle_unknown` vì khi dự đoán với các véc-tơ input mới ...)</font>.\n",
    "- Với cột không phải dạng số và có thứ tự:\n",
    "    - Ta sẽ điền giá trị thiếu bằng giá trị mode (giá trị xuất hiện nhiều nhất) của cột.\n",
    "    - Các giá trị của cột này đều là kiểu boolean và ta đã chuyển sang dạng 0, 1 trước đó nên không cần phải mã hóa nữa"
   ]
  },
  {
   "cell_type": "code",
   "execution_count": 54,
   "metadata": {
    "Collapsed": "false",
    "nbgrader": {
     "cell_type": "code",
     "checksum": "e7a1d4ae5e4fa50b60b4998de6be96a1",
     "grade": false,
     "grade_id": "cell-ae75d7dfa7256c7f",
     "locked": false,
     "schema_version": 3,
     "solution": true
    }
   },
   "outputs": [],
   "source": [
    "nume_cols = ['item_public_time','item_be_got_time', 'sell_time', 'discount', \n",
    "            'options', 'rating_star' ,'five_star', 'four_star', 'three_star', \n",
    "            'two_star' ,'one_star' ,'price_min_before_discount', 'price_max', 'price_min', \n",
    "            'price_max_before_discount', 'price', 'price_before_discount', \n",
    "            'liked_count', 'view_count', 'cmt_count','images', 'video_info_list']\n",
    "unorder_cate_cols = ['category_id', 'shop_location']\n",
    "order_cate_cols = ['is_preferred_plus_seller', 'shopee_verified', 'show_free_shipping', 'show_official_shop_label_in_title']\n",
    "\n",
    "imp_mean = SimpleImputer(missing_values=np.nan, strategy='mean')\n",
    "imp_mode = SimpleImputer(missing_values=np.nan, strategy='most_frequent')\n",
    "enc = OneHotEncoder(handle_unknown='ignore')\n",
    "unorder_cate_pipeline = make_pipeline(imp_mode, enc)\n",
    "column_transformer = ColumnTransformer(transformers = [('numerical', imp_mean, nume_cols),\n",
    "                                                      ('unorder_categorical', unorder_cate_pipeline, unorder_cate_cols),\n",
    "                                                      ('order_categorical', imp_mode, order_cate_cols)], remainder='passthrough')"
   ]
  },
  {
   "cell_type": "markdown",
   "metadata": {},
   "source": [
    "### 4. Chuẩn hóa\n",
    "Cuối cùng, khi tất cả các cột đã được điền giá trị thiếu và đã có dạng số, ta sẽ tiến hành chuẩn hóa bằng cách trừ đi mean và chia cho độ lệch chuẩn của cột để giúp cho các thuật toán cực tiểu hóa như Gradient Descent, LBFGS,... hội tụ nhanh hơn "
   ]
  },
  {
   "cell_type": "markdown",
   "metadata": {},
   "source": [
    "### 5. Tạo pipeline"
   ]
  },
  {
   "cell_type": "markdown",
   "metadata": {},
   "source": [
    "Khi đã có những bước tiền xử lý cụ thể, ta sẽ tạo pipeline chứa chúng để cho quá trình tiền xử lý và mô hình hóa được dễ dàng hơn"
   ]
  },
  {
   "cell_type": "code",
   "execution_count": 55,
   "metadata": {},
   "outputs": [],
   "source": [
    "preprocess_pipeline = make_pipeline(ColAdderDropper(), column_transformer,  StandardScaler())"
   ]
  },
  {
   "cell_type": "code",
   "execution_count": 56,
   "metadata": {},
   "outputs": [],
   "source": [
    "preprocessed_train_X = preprocess_pipeline.fit_transform(train_X_df)\n",
    "preprocessed_val_X = preprocess_pipeline.transform(val_X_df)"
   ]
  },
  {
   "cell_type": "code",
   "execution_count": 57,
   "metadata": {},
   "outputs": [
    {
     "data": {
      "text/plain": [
       "(2538, 39)"
      ]
     },
     "execution_count": 57,
     "metadata": {},
     "output_type": "execute_result"
    }
   ],
   "source": [
    "preprocessed_train_X.shape"
   ]
  },
  {
   "cell_type": "code",
   "execution_count": 58,
   "metadata": {},
   "outputs": [
    {
     "data": {
      "text/plain": [
       "(635, 39)"
      ]
     },
     "execution_count": 58,
     "metadata": {},
     "output_type": "execute_result"
    }
   ],
   "source": [
    "preprocessed_val_X.shape"
   ]
  },
  {
   "cell_type": "markdown",
   "metadata": {},
   "source": [
    "### 6. Xem covariance matrix"
   ]
  },
  {
   "cell_type": "code",
   "execution_count": 64,
   "metadata": {},
   "outputs": [
    {
     "data": {
      "text/plain": [
       "9009     2.995732\n",
       "3872     2.890372\n",
       "10475    1.386294\n",
       "4806     6.018593\n",
       "6168     0.000000\n",
       "           ...   \n",
       "9939     4.787492\n",
       "8198     4.997212\n",
       "9605     1.098612\n",
       "9963     1.098612\n",
       "5901     4.290459\n",
       "Name: historical_sold, Length: 2538, dtype: float64"
      ]
     },
     "execution_count": 64,
     "metadata": {},
     "output_type": "execute_result"
    }
   ],
   "source": [
    "train_y_sr"
   ]
  },
  {
   "cell_type": "code",
   "execution_count": 67,
   "metadata": {},
   "outputs": [],
   "source": [
    "x_for_cov_df = train_X_df.copy()\n",
    "x_for_cov_df['historical sold'] = train_y_sr.copy()"
   ]
  },
  {
   "cell_type": "code",
   "execution_count": 68,
   "metadata": {},
   "outputs": [
    {
     "data": {
      "text/plain": [
       "array([[ 0.53971133,  1.10932512, -0.52553703, ..., -0.87461496,\n",
       "        -0.21284919,  0.10053046],\n",
       "       [ 0.9955722 , -1.03504947, -1.0088401 , ..., -0.87461496,\n",
       "        -0.21284919,  0.04996182],\n",
       "       [-2.56589565,  1.10932512,  2.58015829, ...,  1.14336028,\n",
       "        -0.21284919, -0.67193245],\n",
       "       ...,\n",
       "       [ 0.39562115,  1.10932512, -0.38144275, ..., -0.87461496,\n",
       "        -0.21284919, -0.81000782],\n",
       "       [ 0.60721016,  1.10932512, -0.59303778, ..., -0.87461496,\n",
       "        -0.21284919, -0.81000782],\n",
       "       [-1.40904689,  1.02515377,  1.42219996, ...,  1.14336028,\n",
       "        -0.21284919,  0.72194537]])"
      ]
     },
     "execution_count": 68,
     "metadata": {},
     "output_type": "execute_result"
    }
   ],
   "source": [
    "x_for_cov = preprocess_pipeline.fit_transform(x_for_cov_df)\n",
    "x_for_cov"
   ]
  },
  {
   "cell_type": "code",
   "execution_count": 71,
   "metadata": {},
   "outputs": [
    {
     "data": {
      "image/png": "[encoded data removed]",
      "text/plain": [
       "<Figure size 720x720 with 2 Axes>"
      ]
     },
     "metadata": {},
     "output_type": "display_data"
    }
   ],
   "source": [
    "cov_mat =np.cov(x_for_cov.T)\n",
    "plt.figure(figsize=(10,10))\n",
    "sns.set(font_scale=1.5)\n",
    "hm = sns.heatmap(cov_mat,\n",
    "                 cbar=True,\n",
    "                 annot=True,\n",
    "                 square=True,\n",
    "                 fmt='.2f',\n",
    "                 yticklabels=x_for_cov_df.columns,\n",
    "                 xticklabels=x_for_cov_df.columns)\n",
    "plt.title('Covariance matrix showing correlation coefficients')\n",
    "plt.tight_layout()\n",
    "plt.show()"
   ]
  },
  {
   "cell_type": "markdown",
   "metadata": {},
   "source": [
    "## VI. Mô hình hóa dữ liệu"
   ]
  },
  {
   "cell_type": "markdown",
   "metadata": {},
   "source": [
    "### 1. Tìm mô hình tốt nhất\n",
    "\n",
    "Do output là kiểu số thực liên tục nên ta sẽ sử dụng mô hình hồi quy để dự đoán các input mới, ta sẽ sử dụng các model đã được học sau:\n",
    "\n",
    "- Hồi quy tuyến tính\n",
    "- Mạng neural nhân tạo\n"
   ]
  },
  {
   "cell_type": "markdown",
   "metadata": {},
   "source": [
    "Đầu tiên, đối với các mô hình hồi quy này thì ta sử dụng độ đo $R^2$ để đánh giá độ lỗi vì độ đo MSE không cho ta biết được cụ thể chất lượng của mô hình \n",
    "\n",
    "$R^2$ cho biết độ phù hợp của mô hình, người ta nghiên cứu được rằng, với $R^2$ > 0.5 thì một mô hình được đánh giá là phù hợp"
   ]
  },
  {
   "cell_type": "markdown",
   "metadata": {},
   "source": [
    "#### Huấn luyện mô hình hồi quy tuyến tính "
   ]
  },
  {
   "cell_type": "code",
   "execution_count": null,
   "metadata": {},
   "outputs": [],
   "source": [
    "linear_full_pipeline = make_pipeline(ColAdderDropper(), column_transformer, StandardScaler(), LinearRegression())\n",
    "linear_full_pipeline.fit(train_X_df, train_y_sr);"
   ]
  },
  {
   "cell_type": "code",
   "execution_count": null,
   "metadata": {},
   "outputs": [],
   "source": [
    "# R^2 tập validation\n",
    "linear_full_pipeline.score(val_X_df, val_y_sr)"
   ]
  },
  {
   "cell_type": "markdown",
   "metadata": {},
   "source": [
    "Score < 0.5, **không** thỏa tiêu chí đặt ra"
   ]
  },
  {
   "cell_type": "markdown",
   "metadata": {},
   "source": [
    "#### Thử nghiệm, class đánh giá các model (nếu có nhiều thời gian hơn em sẽ cải thiện class này)"
   ]
  },
  {
   "cell_type": "markdown",
   "metadata": {},
   "source": [
    "Mục đích của class này: Giúp đánh giá các model tốt hơn, dễ dàng xem xét hơn\n",
    "\n",
    "**Hàm khởi tạo**\n",
    "```python\n",
    "reviewModel = ReviewModel(val_y_sr, linear_pred,baseline_preds = baseline_preds, DistanceType = 'r2') \n",
    "```\n",
    "- Tham số 1: `val_y_sr` target chính xác để so sánh\n",
    "- Tham số 2: `linear_pred` mảng ba chiều có cấu trúc như sau:\n",
    "  - Ngoài cùng là các model thử nghiệm khác nhau [model1,model2,...,modeln]\n",
    "  - Trong mỗi model là kết quả trả về từ `predict` với các siêu tham số khác nhau: [predict1, predict2,..., predictn]\n",
    "  - Trong mỗi kết quả trả về từ `predict`chính là các output được dự đoán từ chương trình.\n",
    "- Tham số 3: baseline_preds, chỉ số baseline_preds cần truyền khi dùng mô hình $R^2$\n",
    "- Tham số 4: `DistanceType`, độ đo sử dụng, **hiện tại hỗ trợ các độ đo** Hausdoff, MSE và $R^2$: `Hausdoff`, `mse`, `r2`\n",
    "\n",
    "**Hàm tính toán:**\n",
    "```python\n",
    "reviewModel.calculate()\n",
    "```\n",
    "In ra màn hình kết quả bảng axb \n",
    "- với a: số cột: số siêu tham số thử cho model\n",
    "- b: số hàng - số model chạy thử\n",
    "\n",
    "Mỗi một ô thể hiện độ đo giữa tập val_y_sr và tập predict của một model nhất định tại một siêu tham số nhất định\n",
    "\n",
    "Ta có thể xem lại kết quả này bằng cách gọi: `reviewModel.distance`\n",
    "\n",
    "Kết quả trả về `binaryArray`,`bestIndexModel`\n",
    "- `binaryArray`: Mảng 2 chiều, lưu siêu tham số tốt nhất của mỗi model dưới dạng nhị phân, 1 = tốt nhất, còn lại = 0. (Mỗi model là một hàng)\n",
    "- `bestIndexModel`: Chỉ số của model tốt nhất trong các model, chỉ số ở đây là chỉ số đầu tiên trong `y_pred` cũng như `binaryArray`\n",
    "\n",
    "Ví dụ `bestIndexModel` = 0 thì: \n",
    "- model lưu tại `binaryArray[0]` là tốt nhất \n",
    "- với độ lỗi tốt nhất là `reviewModel.distance[bestIndexModel][binaryArray[bestIndexModel].index(max(binaryArray[bestIndexModel]))]`\n",
    "- alpha tốt nhất cho model tốt nhất: `alphas[binaryArray[bestIndexModel].index(max(binaryArray[bestIndexModel]))]`\n",
    "- alpha tốt nhất cho model thứ i: `alphas[binaryArray[i].index(max(binaryArray[i]))]`"
   ]
  },
  {
   "cell_type": "code",
   "execution_count": null,
   "metadata": {},
   "outputs": [],
   "source": [
    "y_pred = linear_full_pipeline.predict(val_X_df)\n",
    "\n",
    "y_pred = y_pred[np.newaxis,:]\n",
    "y_pred = y_pred[np.newaxis,:]\n",
    "y_pred.shape"
   ]
  },
  {
   "cell_type": "code",
   "execution_count": null,
   "metadata": {},
   "outputs": [],
   "source": [
    "baseline_preds = train_y_sr.mean()\n",
    "reviewModel = ReviewModel(val_y_sr, y_pred,baseline_preds = baseline_preds, DistanceType = 'r2') "
   ]
  },
  {
   "cell_type": "code",
   "execution_count": null,
   "metadata": {},
   "outputs": [],
   "source": [
    "binaryArray,bestIndexModel = reviewModel.calculate()\n",
    "reviewModel.distance"
   ]
  },
  {
   "cell_type": "code",
   "execution_count": null,
   "metadata": {},
   "outputs": [],
   "source": [
    "binaryArray"
   ]
  },
  {
   "cell_type": "code",
   "execution_count": null,
   "metadata": {},
   "outputs": [],
   "source": [
    "bestIndexModel"
   ]
  },
  {
   "cell_type": "code",
   "execution_count": null,
   "metadata": {},
   "outputs": [],
   "source": [
    "reviewModel.distance[bestIndexModel][binaryArray[bestIndexModel].index(max(binaryArray[bestIndexModel]))]"
   ]
  },
  {
   "cell_type": "code",
   "execution_count": null,
   "metadata": {},
   "outputs": [],
   "source": [
    "#best alpha for best model:\n",
    "# print(alphas[binaryArray[bestIndexModel].index(max(binaryArray[bestIndexModel]))])\n",
    "\n",
    "# print('best alpha for model 1', alphas[binaryArray[0].index(max(binaryArray[0]))])\n",
    "# print('best alpha for model 2', alphas[binaryArray[1].index(max(binaryArray[1]))])"
   ]
  },
  {
   "cell_type": "markdown",
   "metadata": {},
   "source": [
    "#### Huấn luyện mô hình mạng neural nhân tạo\n",
    "\n",
    "Ta sẽ thử các siêu tham số khác nhau để tìm ra mô hình tốt nhất \n",
    "\n",
    "Nếu ta thử nhiều siêu tham số để tính độ lỗi trên **một** tập validation thì sẽ dẫn tới overfit và kết quả sẽ không khách quan\n",
    "\n",
    "Vì thế ta sẽ dùng GridSearchCV để thử tham số và cross-validate các mô hình cụ thể, do tự động cross-validate nên ta sẽ fit trên toàn bộ tập train + validation, sau đó tìm ra siêu tham số tốt nhất\n",
    "\n",
    "Các tham số thay đổi:\n",
    "- `alpha`: 0.001, 0.1, 1\n",
    "- `num_top_locations`: 1, 3, 5\n",
    "\n",
    "Chạy GridSearchCV với tham số cv=3, nghĩa là sẽ thử 3 x 3 x 3 = 27 lần \n",
    "\n",
    "Các tham số được cố định:\n",
    "- `hidden_layer_sizes`: 70\n",
    "- `activation`: `relu`\n",
    "- `solver`: Do dữ liệu rất nhiều nên sử dụng thuật toán `adam` sẽ hiệu quả hơn so với lbfgs (theo scikit-learn), tuy nhiên nhược điểm là train khá lâu\n",
    "- `max_iter`: 10000 để cho thuật toán có thể đạt được hội tụ, nếu set quá thấp sẽ không đủ lần lặp để hội tụ"
   ]
  },
  {
   "cell_type": "markdown",
   "metadata": {},
   "source": [
    "##### Suy nghĩ về vấn đề giảm chi phí thời gian\n",
    "\n",
    "Ta thấy khi train nếu chỉ dùng mô hình fit cho tập đã được tiền xử lý sẽ nhanh hơn là dùng _full pipeline_ để vừa tiền xử lý vừa fit\n",
    "\n",
    "- Với trường hợp chỉ thay đổi các tham số của mô hình ta có thể dùng phương án trên để giảm chi phí thời gian\n",
    "\n",
    "Tuy nhiên do trong các tham số thay đổi có `num_top_locations` nên ta phải dùng đến `full_pipeline`, muốn giảm chi phí thời gian ta sẽ dùng vòng lặp `for` để chỉ tiền xử lý với mỗi giá trị của `num_top_locations` là 3 lần, thay vì tiền xử lý với số lần là 3 x 3 x 3 = 27 lần\n",
    "\n",
    "Ta thử đo thời gian mỗi lần tiền xử lý tập _rest_X_df_ (vì khi fit ta sử dụng tập *rest_X_df*) như ở dưới thì thấy kết quả nằm giữa 0 và 0.5: __Mean: 0.4152515888214111__ \n",
    "\n",
    "Kết quả này khá thấp khi nhân với 24\n",
    "\n",
    "Vậy ta có thể sử dụng `full_pipeline` để code được sạch hơn. Tuy nhiên đây vẫn là vấn đề đáng xem xét nếu thời gian tiền xử lý cao hoặc có nhiều giá trị tham số thay đổi"
   ]
  },
  {
   "cell_type": "code",
   "execution_count": null,
   "metadata": {},
   "outputs": [],
   "source": [
    "t = 0.00\n",
    "for i in range(0,10):\n",
    "    t0 = time.time()\n",
    "    preprocessed_rest_X = preprocess_pipeline.transform(rest_X_df)\n",
    "    t1 = time.time()\n",
    "    print('Time elapsed:', t1 - t0)\n",
    "    t += (t1 - t0)\n",
    "t /= 10\n",
    "print('Mean:', t)"
   ]
  },
  {
   "cell_type": "code",
   "execution_count": null,
   "metadata": {},
   "outputs": [],
   "source": [
    "mlp = MLPRegressor(hidden_layer_sizes=70, solver='adam', random_state=0, max_iter=10000)\n",
    "mlp_full_pipeline = make_pipeline(ColAdderDropper(), column_transformer, StandardScaler(), mlp)\n",
    "\n",
    "params = {\n",
    "    'mlpregressor__alpha': [0.001, 0.01, 1],\n",
    "    'coladderdropper__num_top_locations': [1, 3, 5]\n",
    "}\n",
    "\n",
    "mlp_grid_search=GridSearchCV(mlp_full_pipeline, param_grid=params, cv=3)\n",
    "t0 = time.time()\n",
    "mlp_grid_search.fit(rest_X_df, rest_y_sr)\n",
    "t1 = time.time()\n",
    "print('Time elapsed:', t1 - t0)"
   ]
  },
  {
   "cell_type": "markdown",
   "metadata": {},
   "source": [
    "Kết quả thử tham số"
   ]
  },
  {
   "cell_type": "code",
   "execution_count": null,
   "metadata": {},
   "outputs": [],
   "source": [
    "mlp_grid_search.cv_results_"
   ]
  },
  {
   "cell_type": "markdown",
   "metadata": {},
   "source": [
    "Tham số tốt nhất"
   ]
  },
  {
   "cell_type": "code",
   "execution_count": null,
   "metadata": {},
   "outputs": [],
   "source": [
    "mlp_grid_search.best_params_"
   ]
  },
  {
   "cell_type": "markdown",
   "metadata": {},
   "source": [
    "Score trung bình cao nhất"
   ]
  },
  {
   "cell_type": "code",
   "execution_count": null,
   "metadata": {},
   "outputs": [],
   "source": [
    "mlp_grid_search.best_score_"
   ]
  },
  {
   "cell_type": "markdown",
   "metadata": {},
   "source": [
    "Như vậy $R^2$ > 0.5, mô hình này có thể phù hợp để dự đoán các dữ liệu mới."
   ]
  },
  {
   "cell_type": "markdown",
   "metadata": {},
   "source": [
    "**Vậy ta sẽ chọn mô hình mạng neural để dự đoán**"
   ]
  },
  {
   "cell_type": "markdown",
   "metadata": {},
   "source": [
    "### 2. Đánh giá mô hình tìm được"
   ]
  },
  {
   "cell_type": "markdown",
   "metadata": {},
   "source": [
    "Sau khi đã có mô hình tốt nhất, ta sẽ dùng mô hình đó để dự đoán tập test cuối cùng"
   ]
  },
  {
   "cell_type": "code",
   "execution_count": null,
   "metadata": {},
   "outputs": [],
   "source": [
    "rr = mlp_grid_search.score(test_X_df, test_y_sr)\n",
    "rr"
   ]
  },
  {
   "cell_type": "markdown",
   "metadata": {},
   "source": [
    "Và độ lỗi của mô hình trên tập test là"
   ]
  },
  {
   "cell_type": "code",
   "execution_count": null,
   "metadata": {},
   "outputs": [],
   "source": [
    "(1 - rr) * 100"
   ]
  },
  {
   "cell_type": "markdown",
   "metadata": {},
   "source": [
    "## VII. Nhìn lại quá trình làm đồ án"
   ]
  },
  {
   "cell_type": "markdown",
   "metadata": {},
   "source": [
    "### 1. Khó khăn\n",
    "- Thu thập dữ liệu khá mệt do thời gian cho phép giữa mỗi lần thu thập lớn (Shopee chỉ cho thu thập 1 ngày 1 lần)\n",
    "- Output dữ liệu bị lệch nghiêm trọng (giá trị 0 chiếm tới hơn 60% các mẫu) nên phải lấy thật nhiều dữ liệu để cân bằng lại, sau đó thực hiện tiền xử lý khá phức tạp\n",
    "- Giá trị của các thuộc tính không nhất quán và có những trường hợp đặc biệt như giá trị thiếu của `discount`, giá trị True False dạng chuỗi,... nên cần nhiều thời gian để phân tích và xử lý\n",
    "- Huấn luyện mô hình mạng neural cần thời gian khá lâu (khoảng 10 phút)"
   ]
  },
  {
   "cell_type": "markdown",
   "metadata": {},
   "source": [
    "### 2. Những thứ học được\n",
    "\n",
    "- Ôn tập lại toàn bộ kiến thức của môn học\n",
    "- Rèn luyện kỹ năng làm việc nhóm, quản lý thời gian\n",
    "- Biết cách sử dụng phần mềm quản lý phiên bản Github\n",
    "- Biết cách sử dụng Postman\n",
    "- Biết cách sử dụng các công cụ hỗ trợ để thu thập, khám phá, tiền xử lý và mô hình hóa dữ liệu\n",
    "- Gặp và xử lý những vấn đề trong quy trình khoa học dữ liệu (tiền xử lý, chống overfit,...)\n",
    "- Phát triển tư duy về thuật toán, chi phí không gian, chi phí thời gian"
   ]
  },
  {
   "cell_type": "markdown",
   "metadata": {},
   "source": [
    "### 3. Những điều cần bổ sung nếu có thêm thời gian\n",
    "- Thu thập thêm nhiều dữ liệu để mô hình dự đoán tốt hơn\n",
    "- Thử giảm số lượng thuộc tính, chỉ giữ lại những thuộc tính quan trọng\n",
    "- Train thêm nhiều mô hình để tìm ra mô hình tốt nhất, việc này cần nhiều thời gian\n",
    "- Cải thiện class [`reviewModel`](#Thử-nghiệm,-class-đánh-giá-các-model-(nếu-có-nhiều-thời-gian-hơn-em-sẽ-cải-thiện-class-này))"
   ]
  },
  {
   "cell_type": "markdown",
   "metadata": {},
   "source": [
    "## VIII. Tài liệu tham khảo\n",
    "- https://scikit-learn.org/\n",
    "- https://stackoverflow.com/\n",
    "- http://towardsdatascience.com/\n",
    "- [Pandas Documentation](https://pandas.pydata.org/docs/)\n",
    "- [Numpy Documentation](https://numpy.org/doc/)\n",
    "- https://www.researchgate.net/\n",
    "- https://medium.com/\n",
    "- Hands-On Machine Learning with Scikit-Learn, Keras, and Tensorflow Concepts, Tools, and Techniques to Build Intelligent Systems by Aurélien Géron\n",
    "- Bài giảng và bài tập của thầy Trần Trung Kiên"
   ]
  },
  {
   "cell_type": "code",
   "execution_count": null,
   "metadata": {},
   "outputs": [],
   "source": []
  }
 ],
 "metadata": {
  "kernelspec": {
   "display_name": "Python 3",
   "language": "python",
   "name": "python3"
  },
  "language_info": {
   "codemirror_mode": {
    "name": "ipython",
    "version": 3
   },
   "file_extension": ".py",
   "mimetype": "text/x-python",
   "name": "python",
   "nbconvert_exporter": "python",
   "pygments_lexer": "ipython3",
   "version": "3.8.5"
  }
 },
 "nbformat": 4,
 "nbformat_minor": 4
}
